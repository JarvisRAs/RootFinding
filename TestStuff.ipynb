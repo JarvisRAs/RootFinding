{
 "cells": [
  {
   "cell_type": "code",
   "execution_count": 11,
   "metadata": {},
   "outputs": [
    {
     "name": "stdout",
     "output_type": "stream",
     "text": [
      "The autoreload extension is already loaded. To reload it, use:\n",
      "  %reload_ext autoreload\n",
      "The memory_profiler extension is already loaded. To reload it, use:\n",
      "  %reload_ext memory_profiler\n",
      "The line_profiler extension is already loaded. To reload it, use:\n",
      "  %reload_ext line_profiler\n"
     ]
    }
   ],
   "source": [
    "#Conda imports\n",
    "import numpy as np\n",
    "from scipy.linalg import qr\n",
    "import time\n",
    "import random\n",
    "import matplotlib.pyplot as plt\n",
    "import itertools\n",
    "from numpy.polynomial.chebyshev import chebroots, chebval\n",
    "#from numalgsolve.TelenVanBarel import sorted_matrix_terms\n",
    "from numalgsolve.utils import inverse_P, row_swap_matrix\n",
    "from numalgsolve.utils import mon_combosHighest, slice_top, mon_combos, newton_polish\n",
    "from numalgsolve._stability import maximal_residual\n",
    "from scipy.misc import comb\n",
    "#Local imports\n",
    "from numalgsolve.polynomial import MultiCheb, MultiPower, getPoly\n",
    "from scipy.linalg import eig\n",
    "from numalgsolve.Division import division\n",
    "from numalgsolve.Multiplication import multiplication\n",
    "from numalgsolve.subdivision import good_zeros_nd, subdivision_solve_nd, solve\n",
    "from  matplotlib import patches as patches\n",
    "\n",
    "%matplotlib inline\n",
    "\n",
    "# Auto-reload packages\n",
    "%load_ext autoreload\n",
    "%autoreload 2\n",
    "%load_ext memory_profiler\n",
    "%load_ext line_profiler\n",
    "\n",
    "def polyList(deg,dim,power,Type = 'standard',triangular = True):\n",
    "    deg += 1\n",
    "    coeffs = list()\n",
    "    if Type == 'random':\n",
    "        for i in range(dim):\n",
    "            coeffs.append(np.random.random_sample(deg*np.ones(dim, dtype = int)))\n",
    "    elif Type == 'int':\n",
    "        Range = 1000\n",
    "        for i in range(dim):\n",
    "            coeffs.append(np.random.randint(-Range,Range,deg*np.ones(dim, dtype = int)))\n",
    "    elif Type == 'standard':\n",
    "        for i in range(dim):\n",
    "            coeffs.append(np.random.standard_normal(deg*np.ones(dim, dtype = int)))\n",
    "    if triangular:\n",
    "        for i,j in np.ndenumerate(coeffs[0]):\n",
    "            if np.sum(i) >= deg:\n",
    "                for coeff in coeffs:\n",
    "                    coeff[i] = 0\n",
    "    polys = list()\n",
    "    if power:\n",
    "        for coeff in coeffs:\n",
    "            polys.append(MultiPower(coeff))\n",
    "    else:\n",
    "        for coeff in coeffs:\n",
    "            polys.append(MultiCheb(coeff))\n",
    "    return polys\n",
    "\n",
    "def evaluate(zero, polys, accuracy = 1.e-3):\n",
    "    good = True\n",
    "    outOfRange = False\n",
    "    for poly in polys:\n",
    "        if not np.isclose(0, poly.evaluate_at(zero), atol = accuracy):\n",
    "            good = False\n",
    "            if (np.abs(zero) > 1).any():\n",
    "                outOfRange = True\n",
    "            break\n",
    "    return good,outOfRange\n",
    "\n",
    "def checkZeros(zeros, polys, accuracy = 1.e-3):\n",
    "    if zeros == -1:\n",
    "        print(-1)\n",
    "        return\n",
    "    results = np.apply_along_axis(evaluate, 1, zeros, polys, accuracy = accuracy)\n",
    "    correct = np.sum(results[:,0])\n",
    "    outOfRange = np.sum(results[:,1])\n",
    "    print(\"{} ZEROS ARE CORRECT OUT OF {}\".format(correct, len(zeros)))\n",
    "    print(\"{} of them were about of range\".format(outOfRange))\n",
    "    print(\"{} percent of zeros in range correct\".format(np.round(100*correct/(len(zeros)-outOfRange),3)))\n",
    "\n",
    "def coeffToString(matrix):\n",
    "    result = ''\n",
    "    for mon in zip(*np.where(matrix != 0)):\n",
    "        coeff = matrix[mon]\n",
    "        mon = mon[::-1]\n",
    "        if coeff >= 0:\n",
    "            monString = '+' + str(coeff) + '*'\n",
    "        else:\n",
    "            monString = str(coeff) + '*'\n",
    "        for i in range(len(mon)):\n",
    "            if mon[i] == 0:\n",
    "                continue\n",
    "            monString += 'x'\n",
    "            monString += str(i)\n",
    "            if mon[i] > 1:\n",
    "                monString += '^'\n",
    "                monString += str(mon[i])\n",
    "            monString+= '*'\n",
    "        #if monString[-1] == '*':\n",
    "        monString = monString[:-1]\n",
    "        result += monString\n",
    "    if result[0] == '+':\n",
    "        result = result[1:]\n",
    "    return result"
   ]
  },
  {
   "cell_type": "code",
   "execution_count": 12,
   "metadata": {},
   "outputs": [],
   "source": [
    "from numalgsolve.polynomial import cheb2poly\n",
    "from subprocess import run\n",
    "input_file_path = '../../BertiniApple32_v1.5.1/input'\n",
    "output_file_path = 'finite_solutions'\n",
    "bertini_run_process = ['../../BertiniApple32_v1.5.1/bertini', '../../BertiniApple32_v1.5.1/input']\n",
    "def prep_bertini(polys):\n",
    "    if isinstance(polys[0], MultiCheb):\n",
    "        polysNew = []\n",
    "        for poly in polys:\n",
    "            polysNew.append(cheb2poly(poly))\n",
    "        polys = polysNew\n",
    "    num_polys = len(polys)\n",
    "    function_string = 'function '\n",
    "    for i in range(num_polys):\n",
    "        function_string += 'f' + str(i) + ', '\n",
    "    function_string = function_string[:-2] + ';' + '\\n'\n",
    "    dim = polys[0].dim\n",
    "    variable_string = 'variable_group '\n",
    "    for i in range(dim):\n",
    "        variable_string += 'x' + str(i) + ', '\n",
    "    variable_string = variable_string[:-2] + ';' + '\\n'\n",
    "    with open(input_file_path, 'w') as input_file:\n",
    "        input_file.write(function_string)\n",
    "        input_file.write(variable_string)\n",
    "        for i in range(num_polys):\n",
    "            input_file.write('f' + str(i) + ' = ' + coeffToString(polys[i].coeff) + ';\\n')\n",
    "        input_file.write('END;')\n",
    "\n",
    "def bertini_results(dim):\n",
    "    with open(output_file_path, 'r') as output_file:\n",
    "        results = output_file.readlines()\n",
    "    def get_number(line):\n",
    "        nums = line.split(' ')\n",
    "        return complex(float(nums[0]), float(nums[1]))\n",
    "\n",
    "    #print(results)\n",
    "    zeros = list()\n",
    "    for i in range(2,len(results),dim+1):\n",
    "        zero = np.zeros(dim, dtype = 'complex')\n",
    "        for j in range(dim):\n",
    "            zero[j] = get_number(results[i+dim-1-j])\n",
    "        zeros.append(zero)\n",
    "        #zeros.append(np.array([get_number(results[i+1]), get_number(results[i])]))\n",
    "    return np.vstack(zeros)\n",
    "\n",
    "def run_bertini(polys):\n",
    "    prep_bertini(polys)\n",
    "    run(bertini_run_process)\n",
    "    return bertini_results(polys[0].dim)\n",
    "\n",
    "def in_zeros(zeros, zero_to_check, tol = 1.e-5):\n",
    "    for zero in zeros:\n",
    "        if np.allclose(zero - zero_to_check,np.zeros_like(zero), atol=tol):\n",
    "            return True\n",
    "    return False\n",
    "\n",
    "def run_trial(polys, method, tol = 1.e-5):\n",
    "    if method.__name__ == 'solve':\n",
    "        a = np.array([-1.]*len(polys))\n",
    "        b = np.array([1.]*len(polys))\n",
    "        zeros = method(polys, a, b)\n",
    "    else:\n",
    "        zeros = method(polys)\n",
    "    if not power:\n",
    "        for i in range(len(polys)):\n",
    "            polys[i] = cheb2poly(polys[i])\n",
    "    zeros_bertini = run_bertini(polys)\n",
    "    trial_results(zeros, zeros_bertini, tol = tol)\n",
    "\n",
    "def trial_results(zerosUS, zeros_bertini, tol = 1.e-5):\n",
    "    zeros_bertini = zeros_bertini[np.sum(np.abs(np.imag(zeros_bertini)) < 1.e-10, axis = 1) == zeros_bertini.shape[1]]\n",
    "    zeros_bertini = zeros_bertini[np.sum(np.abs(zeros_bertini) <= 1, axis = 1) == dim]\n",
    "    zerosUS = zerosUS[np.sum(np.abs(np.imag(zerosUS)) < 1.e-10, axis = 1) == zerosUS.shape[1]]\n",
    "    zerosUS = zerosUS[np.sum(np.abs(zerosUS) <= 1, axis = 1) == dim]\n",
    "    \n",
    "    print('We were - {} out of {}'.format(np.sum([in_zeros(zerosUS, zero_bertini, tol=tol)\\\n",
    "                                              for zero_bertini in zeros_bertini]),len(zeros_bertini)))\n",
    "#     min_mag = 1000\n",
    "#     for zero_bertini in zeros_bertini:\n",
    "#         if not in_zeros(zerosUS, zero_bertini, tol=tol):\n",
    "#             min_mag = min(min_mag, np.max(np.abs(zero_bertini)))\n",
    "#             #assert(np.any(np.abs(zero_bertini) > 1))\n",
    "#     print(min_mag)"
   ]
  },
  {
   "cell_type": "code",
   "execution_count": 13,
   "metadata": {},
   "outputs": [],
   "source": [
    "from scipy.io import wavfile\n",
    "import IPython\n",
    "import scipy as sp\n",
    "import time\n",
    "from scipy import signal, fft, exp\n",
    "from scipy.misc import imread\n",
    "class SoundWave(object):\n",
    "    \"\"\"A SoundWave class for working with digital audio signals.\n",
    "    Attributes:\n",
    "        rate (int): The sample rate of the sound.\n",
    "        samples ((n,) ndarray): NumPy array of samples.\n",
    "    \"\"\"\n",
    "    # Problem 1\n",
    "    def __init__(self, rate, samples):\n",
    "        \"\"\"Set the SoundWave class attributes.\n",
    "        Parameters:\n",
    "            rate (int): The sample rate of the sound.\n",
    "            samples ((n,) ndarray): NumPy array of samples.\n",
    "        Returns:\n",
    "            A SoundWave object.\n",
    "        \"\"\"\n",
    "        self.samples = samples\n",
    "        self.rate = rate\n",
    "    \n",
    "    def plot(self):\n",
    "        \"\"\"Plot and display the graph of the sound wave.\"\"\"\n",
    "        xs = np.arange(len(self.samples))/self.rate\n",
    "        plt.plot(xs,self.samples)\n",
    "        plt.show()\n",
    "        \n",
    "    # Problem 2\n",
    "    def export(self, filename):\n",
    "        \"\"\"Generate a wav file called filename from the sample rate and samples. \n",
    "        If the array of samples is not of type int16, scale it so that it is.\"\"\"\n",
    "        wavfile.write(filename, self.rate, np.int16(self.samples.real*(32767/np.max(np.abs(self.samples.real)))))\n",
    "    \n",
    "    # Problem 4\n",
    "    def __add__(self, other):\n",
    "        \"\"\"Add two sound waves together into one wave.\"\"\"\n",
    "        if len(self.samples) != len(other.samples):\n",
    "            raise ValueError('Sample length must be the same!')\n",
    "        return SoundWave(self.rate, self.samples + other.samples)\n",
    "    \n",
    "    def append(self, other):\n",
    "        \"\"\"Append additional samples to the end of the current samples.\"\"\"\n",
    "        if self.rate != other.rate:\n",
    "            raise ValueError('Sample rates must be the same!')\n",
    "        self.samples = np.hstack((self.samples, other.samples))\n",
    "        \n",
    "    # Problem 7\n",
    "    def plot_dft(self):\n",
    "        \"\"\"Take the DFT of the sound wave. Scale the x-axis so the x-values correspond\n",
    "        to the frequencies present in the plot. Display the left half of the plot.\"\"\"\n",
    "        dft = abs(fft(self.samples).real)       # Ignore the complex part.\n",
    "        N = dft.shape[0]\n",
    "        x_vals = np.linspace(1, N, N)\n",
    "        x_vals = x_vals * 44100 / N\n",
    "        end = int(len(x_vals)/2)\n",
    "        plt.plot(x_vals[:end], dft[:end])\n",
    "def generate_note(frequency, duration):\n",
    "    \"\"\"Generate an instance of the SoundWave class corresponding to \n",
    "    the desired soundwave. Uses sample rate of 44100 samples per second.\n",
    "    Parameters:\n",
    "        frequency (float): The frequency of the desired sound.\n",
    "        duration (float): The length of the desired sound in seconds.\n",
    "    Returns:\n",
    "        sound (SoundWave): An instance of the SoundWave class.\n",
    "    \"\"\"\n",
    "    duration/=1.6\n",
    "    frequency*=1\n",
    "    samplerate = 44100\n",
    "    wave_function = lambda x: np.sin(2*np.pi*x*frequency)\n",
    "    sample_points = np.linspace(0, duration, int(samplerate*duration))\n",
    "    samples = wave_function(sample_points)\n",
    "    sound = SoundWave(samplerate, samples)\n",
    "    return sound\n",
    "def make_song(notes):\n",
    "    frequency_dict = {}\n",
    "    frequency_dict['G0'] = 195.9975\n",
    "    frequency_dict['A'] = 440\n",
    "    frequency_dict['B'] = 493.88\n",
    "    frequency_dict['C'] = 523.25\n",
    "    frequency_dict['C#'] =277.18*2\n",
    "    frequency_dict['D'] = 587.33\n",
    "    frequency_dict['E'] = 659.25\n",
    "    frequency_dict['F'] = 369.994*2#698.46\n",
    "    frequency_dict['G'] = 783.99\n",
    "    frequency_dict['A1'] = 440*2\n",
    "    frequency_dict['B1'] = 493.88*2\n",
    "    frequency_dict['C1'] = 523.25*2\n",
    "    frequency_dict['D1'] = 587.33*2\n",
    "    frequency_dict['E1'] = 659.25*2\n",
    "    frequency_dict['F1'] = 369.994*4#698.46*2\n",
    "    frequency_dict['G1'] = 783.99*2\n",
    "\n",
    "    wave = np.sum([generate_note(frequency_dict[note],notes[0][-2]) for note in notes[0][:-2]])\n",
    "    wave.append(generate_note(0,notes[0][-1]))\n",
    "    for chord in notes[1:]:\n",
    "        wave.append(np.sum([generate_note(frequency_dict[note],chord[-2]) for note in chord[:-2]]))\n",
    "        wave.append(generate_note(0,chord[-1]))\n",
    "    return wave\n",
    "\n",
    "notes = [['G','D',.4,.1],['G','D',.9,.1],['D',.5,0],['G','B',.4,.1],['A1','D',1,0],['D',1,0],\n",
    "         ['B1','D',.5,0],['A1','D',.48,.02],['B1','D',.5,0],['C1','E',.48,.02],['B1','D',1,0],['A1','D',.4,.1],\n",
    "         ['B','G',.4,.1],['G','B',.5,0],['G','C#',.5,0],['D','F',.4,.1],\n",
    "         ['C#','E',.4,.1],['D','F',.5,0],['D','G',.45,.05],['D','A1',.45,.05],['D','B1',.45,.05],\n",
    "         ['D','F',1,0],['C#','E',.7,.05],['D',.2,.05],['D',1.5,.5],\n",
    "         ['D','D1',.8,.2],['E','C1',.25,0],['F','C1',.25,0],['G','B1',.45,.05],\n",
    "         ['E','C1',.5,0],['F','C1',.5,0],['G','B1',.8,.2],['D','A1',.5,0],['D','B1',.45,.05],\n",
    "         ['E','G',.5,0],['E','A1',.45,.05],['D','F',.75,0],['E',.22,.03],['D',.4,.1],\n",
    "         ['G',.45,.05],['G',.45,.05],['F',.45,.05],['G',.45,.05],['A1',.45,.05],['G',.9,.1],['D',.4,.1],\n",
    "         ['D','B1',.45,.05],['D','B1',.45,.05],['D','A1',.45,.05],['D','B1',.45,.05],['F','C1',.45,.05],\n",
    "         ['G','B1',.9,.1],['F','A1',.4,.1],['G','B1',.45,.05],\n",
    "         ['E','C1',.25,.0],['F','C1',.2,.05],['G','B1',.45,.05],['C','A1',.45,.05],\n",
    "         ['D','G',.25,.0],['G','C#',.2,.05],['F','D',.8,.2],['D','G',.5,0],['E','C1',.4,.1],\n",
    "         ['D','B1',1,0],['C','A1',.7,.05],['B','G',.2,.05],['B','G',1.2,.05]\n",
    "        ]\n",
    "song = make_song(notes)\n",
    "def play_song():\n",
    "    return IPython.display.Audio(rate=song.rate, data=song.samples, autoplay=True)"
   ]
  },
  {
   "cell_type": "code",
   "execution_count": 18,
   "metadata": {},
   "outputs": [],
   "source": [
    "import warnings\n",
    "warnings.filterwarnings('ignore')"
   ]
  },
  {
   "cell_type": "code",
   "execution_count": null,
   "metadata": {},
   "outputs": [],
   "source": []
  },
  {
   "cell_type": "code",
   "execution_count": null,
   "metadata": {},
   "outputs": [],
   "source": [
    "deg = 25\n",
    "dim = 2\n",
    "power = False\n",
    "polys2 = polyList(deg,dim,power,triangular=True)"
   ]
  },
  {
   "cell_type": "code",
   "execution_count": null,
   "metadata": {},
   "outputs": [],
   "source": [
    "%time zerosDiv = division(polys2)\n",
    "real_zeros = zerosDiv[np.sum(np.imag(zerosDiv) == 0, axis = 1) == dim]\n",
    "real_zeros = real_zeros[np.sum(np.abs(real_zeros) <= 1, axis = 1) == dim]"
   ]
  },
  {
   "cell_type": "code",
   "execution_count": null,
   "metadata": {},
   "outputs": [],
   "source": [
    "x = 0.588780061566-0.572463729298j\n",
    "y = -1.01604993169-0.667426447156j\n",
    "c = 0.000694845353877+0.00111022343908j\n",
    "c*T(1,x)*T(7,y), c*T(8,x)*T(1,y), c*T(6,x)*T(3,y), c*T(1,x)*T(1,y), c*T(1,x)*T(0,y)"
   ]
  },
  {
   "cell_type": "code",
   "execution_count": null,
   "metadata": {},
   "outputs": [],
   "source": []
  },
  {
   "cell_type": "code",
   "execution_count": null,
   "metadata": {},
   "outputs": [],
   "source": [
    "#run_trial(polys, division, tol=1.e-3)\n",
    "def T(n,point):\n",
    "    c = np.zeros(n+1)\n",
    "    c[-1] = 1\n",
    "    return chebval(point,c)"
   ]
  },
  {
   "cell_type": "code",
   "execution_count": null,
   "metadata": {},
   "outputs": [],
   "source": []
  },
  {
   "cell_type": "code",
   "execution_count": 419,
   "metadata": {},
   "outputs": [],
   "source": [
    "def f(x,y):\n",
    "    i = 0\n",
    "    result = y**2*(4*y**2-i/10)-x**2*(4*x**2-1)\n",
    "    for i in range(1,11):\n",
    "        result *= (y**2*(4*y**2-i/10)-x**2*(4*x**2-1))\n",
    "    return result\n",
    "\n",
    "def g(x,y):\n",
    "    return 256*(x**2+y**2)**2+288*(x**2+y**2)-512*(x**3-3*x*y**2)-27"
   ]
  },
  {
   "cell_type": "code",
   "execution_count": 428,
   "metadata": {
    "scrolled": false
   },
   "outputs": [
    {
     "name": "stdout",
     "output_type": "stream",
     "text": [
      "Probably bad count 0, actually bad counts 0, errors 0\n",
      "Total intervals checked was 637\n",
      "Methods used were ['constant_term_check', 'full_quad_check', 'full_cubic_check', 'Division', 'Base Case']\n",
      "The percent solved by each was [67.03  0.63  0.    0.   32.34]\n"
     ]
    },
    {
     "data": {
      "image/png": "[encoded data removed]",
      "text/plain": [
       "<matplotlib.figure.Figure at 0x1c24d699e8>"
      ]
     },
     "metadata": {
      "needs_background": "light"
     },
     "output_type": "display_data"
    },
    {
     "name": "stdout",
     "output_type": "stream",
     "text": [
      "CPU times: user 3.11 s, sys: 42.9 ms, total: 3.15 s\n",
      "Wall time: 3.19 s\n"
     ]
    }
   ],
   "source": [
    "a = np.array([-.5]*dim)\n",
    "b = np.array([-.3]*dim)\n",
    "%time zeros2 = solve([f,g], a, b, interval_data=True, plot_intervals=False,\\\n",
    "                     contours=True, show_zeros=True, polish = False)"
   ]
  },
  {
   "cell_type": "code",
   "execution_count": null,
   "metadata": {},
   "outputs": [],
   "source": []
  },
  {
   "cell_type": "code",
   "execution_count": 430,
   "metadata": {},
   "outputs": [
    {
     "name": "stdout",
     "output_type": "stream",
     "text": [
      "Probably bad count 0, actually bad counts 0, errors 3\n",
      "Total intervals checked was 10\n",
      "Methods used were ['constant_term_check', 'full_quad_check', 'full_cubic_check', 'Division', 'Base Case']\n",
      "The percent solved by each was [60.  0.  0. 40.  0.]\n"
     ]
    },
    {
     "data": {
      "image/png": "[encoded data removed]",
      "text/plain": [
       "<matplotlib.figure.Figure at 0x1c221aea20>"
      ]
     },
     "metadata": {
      "needs_background": "light"
     },
     "output_type": "display_data"
    }
   ],
   "source": [
    "f = lambda x,y: np.sin(30*x-y/30)+y\n",
    "g = lambda x,y: np.sin(x/30-30*y)-x\n",
    "a = np.array([-0.92829466, 0.65227869])\n",
    "b = np.array([-0.86047655, 0.7129431])\n",
    "zeros2 = solve([f,g], a, b, interval_data=True, plot_intervals=True,\\\n",
    "                     contours=True, show_zeros=True, polish = False)"
   ]
  },
  {
   "cell_type": "code",
   "execution_count": null,
   "metadata": {},
   "outputs": [],
   "source": []
  },
  {
   "cell_type": "code",
   "execution_count": null,
   "metadata": {},
   "outputs": [],
   "source": []
  },
  {
   "cell_type": "code",
   "execution_count": null,
   "metadata": {},
   "outputs": [],
   "source": []
  },
  {
   "cell_type": "code",
   "execution_count": null,
   "metadata": {},
   "outputs": [],
   "source": []
  },
  {
   "cell_type": "code",
   "execution_count": null,
   "metadata": {},
   "outputs": [],
   "source": []
  },
  {
   "cell_type": "code",
   "execution_count": null,
   "metadata": {},
   "outputs": [],
   "source": []
  },
  {
   "cell_type": "code",
   "execution_count": 378,
   "metadata": {},
   "outputs": [],
   "source": [
    "new_zeros = zeros2[zeros2[:,0] > .6]"
   ]
  },
  {
   "cell_type": "code",
   "execution_count": 379,
   "metadata": {},
   "outputs": [],
   "source": [
    "new_zeros = new_zeros[new_zeros[:,1] > -.8]"
   ]
  },
  {
   "cell_type": "code",
   "execution_count": 380,
   "metadata": {},
   "outputs": [
    {
     "data": {
      "text/plain": [
       "array([], shape=(0, 2), dtype=complex128)"
      ]
     },
     "execution_count": 380,
     "metadata": {},
     "output_type": "execute_result"
    }
   ],
   "source": [
    "new_zeros"
   ]
  },
  {
   "cell_type": "code",
   "execution_count": 381,
   "metadata": {},
   "outputs": [
    {
     "data": {
      "text/plain": [
       "(array([ 0.65227869, -0.02951494]), array([0.7129431 , 0.02786078]))"
      ]
     },
     "execution_count": 381,
     "metadata": {},
     "output_type": "execute_result"
    }
   ],
   "source": [
    "steps = [1,0,3,0,3]\n",
    "a,b = get_interval(steps)\n",
    "get_interval(steps)"
   ]
  },
  {
   "cell_type": "code",
   "execution_count": null,
   "metadata": {},
   "outputs": [],
   "source": []
  },
  {
   "cell_type": "code",
   "execution_count": 382,
   "metadata": {
    "scrolled": false
   },
   "outputs": [
    {
     "name": "stdout",
     "output_type": "stream",
     "text": [
      "Probably bad count 0, actually bad counts 0, errors 0\n",
      "Total intervals checked was 1\n",
      "Methods used were ['constant_term_check', 'full_quad_check', 'full_cubic_check', 'Division', 'Base Case']\n",
      "The percent solved by each was [  0.   0.   0. 100.   0.]\n"
     ]
    },
    {
     "data": {
      "image/png": "[encoded data removed]",
      "text/plain": [
       "<matplotlib.figure.Figure at 0x1c1b81aa58>"
      ]
     },
     "metadata": {
      "needs_background": "light"
     },
     "output_type": "display_data"
    },
    {
     "name": "stdout",
     "output_type": "stream",
     "text": [
      "CPU times: user 2.68 s, sys: 26.1 ms, total: 2.7 s\n",
      "Wall time: 2.75 s\n"
     ]
    }
   ],
   "source": [
    "%time zeros2 = solve([f,g], a, b, interval_data=True, plot_intervals=True,\\\n",
    "                     contours=True, show_zeros=True, polish = False)"
   ]
  },
  {
   "cell_type": "code",
   "execution_count": 245,
   "metadata": {},
   "outputs": [
    {
     "data": {
      "text/plain": [
       "array([-0.13094392+0.j, -0.10339475+0.j, -0.17802269+0.j])"
      ]
     },
     "execution_count": 245,
     "metadata": {},
     "output_type": "execute_result"
    }
   ],
   "source": [
    "g(zeros2)"
   ]
  },
  {
   "cell_type": "code",
   "execution_count": null,
   "metadata": {},
   "outputs": [],
   "source": []
  },
  {
   "cell_type": "code",
   "execution_count": 415,
   "metadata": {},
   "outputs": [],
   "source": [
    "def f(x,y):\n",
    "    return 50*np.cos(50*x)*np.exp(np.sin(50*x)) + np.cos(70*np.sin(x))*70*np.cos(x) - \\\n",
    "            10*np.cos(10*(x + y)) + x/2\n",
    "    \n",
    "def g(x,y):\n",
    "    return 60*np.exp(y)*np.cos(60*np.exp(y)) + np.cos(np.sin(80*y))*80*np.cos(80*y) - \\\n",
    "            10*np.cos(10*(x + y)) + y/2"
   ]
  },
  {
   "cell_type": "code",
   "execution_count": 416,
   "metadata": {},
   "outputs": [
    {
     "ename": "TypeError",
     "evalue": "f() takes 1 positional argument but 2 were given",
     "output_type": "error",
     "traceback": [
      "\u001b[0;31m---------------------------------------------------------------------------\u001b[0m",
      "\u001b[0;31mTypeError\u001b[0m                                 Traceback (most recent call last)",
      "\u001b[0;32m<timed exec>\u001b[0m in \u001b[0;36m<module>\u001b[0;34m()\u001b[0m\n",
      "\u001b[0;32m~/Documents/Math/JarvisResearch/RootFinding/numalgsolve/subdivision.py\u001b[0m in \u001b[0;36msolve\u001b[0;34m(funcs, a, b, interval_data, plot_intervals, contours, show_zeros, polish)\u001b[0m\n\u001b[1;32m     81\u001b[0m         \u001b[0;31m#Output the interval percentages\u001b[0m\u001b[0;34m\u001b[0m\u001b[0;34m\u001b[0m\u001b[0m\n\u001b[1;32m     82\u001b[0m         \u001b[0;31m#result = subdivision_naive_solve_nd(funcs,a,b,deg,interval_results,interval_checks,subinterval_checks)\u001b[0m\u001b[0;34m\u001b[0m\u001b[0;34m\u001b[0m\u001b[0m\n\u001b[0;32m---> 83\u001b[0;31m         \u001b[0mzeros\u001b[0m \u001b[0;34m=\u001b[0m \u001b[0msubdivision_solve_nd\u001b[0m\u001b[0;34m(\u001b[0m\u001b[0mfuncs\u001b[0m\u001b[0;34m,\u001b[0m\u001b[0ma\u001b[0m\u001b[0;34m,\u001b[0m\u001b[0mb\u001b[0m\u001b[0;34m,\u001b[0m\u001b[0mdeg\u001b[0m\u001b[0;34m,\u001b[0m\u001b[0minterval_results\u001b[0m\u001b[0;34m,\u001b[0m\u001b[0minterval_checks\u001b[0m\u001b[0;34m,\u001b[0m\u001b[0msubinterval_checks\u001b[0m\u001b[0;34m,\u001b[0m\u001b[0mpolish\u001b[0m \u001b[0;34m=\u001b[0m \u001b[0mpolish\u001b[0m\u001b[0;34m)\u001b[0m\u001b[0;34m\u001b[0m\u001b[0m\n\u001b[0m\u001b[1;32m     84\u001b[0m \u001b[0;31m#         print(zeros)\u001b[0m\u001b[0;34m\u001b[0m\u001b[0;34m\u001b[0m\u001b[0m\n\u001b[1;32m     85\u001b[0m \u001b[0;31m#         final_zeros = [np.zeros([0,dim])]\u001b[0m\u001b[0;34m\u001b[0m\u001b[0;34m\u001b[0m\u001b[0m\n",
      "\u001b[0;32m~/Documents/Math/JarvisResearch/RootFinding/numalgsolve/subdivision.py\u001b[0m in \u001b[0;36msubdivision_solve_nd\u001b[0;34m(funcs, a, b, deg, interval_results, interval_checks, subinterval_checks, approx_tol, cutoff_tol, solve_tol, polish)\u001b[0m\n\u001b[1;32m    584\u001b[0m         \u001b[0mdim\u001b[0m \u001b[0;34m=\u001b[0m \u001b[0mlen\u001b[0m\u001b[0;34m(\u001b[0m\u001b[0ma\u001b[0m\u001b[0;34m)\u001b[0m\u001b[0;34m\u001b[0m\u001b[0m\n\u001b[1;32m    585\u001b[0m         \u001b[0;32mfor\u001b[0m \u001b[0mfunc\u001b[0m \u001b[0;32min\u001b[0m \u001b[0mfuncs\u001b[0m\u001b[0;34m:\u001b[0m\u001b[0;34m\u001b[0m\u001b[0m\n\u001b[0;32m--> 586\u001b[0;31m             \u001b[0mcoeff\u001b[0m\u001b[0;34m,\u001b[0m \u001b[0mchange_sign\u001b[0m \u001b[0;34m=\u001b[0m \u001b[0mfull_cheb_approximate\u001b[0m\u001b[0;34m(\u001b[0m\u001b[0mfunc\u001b[0m\u001b[0;34m,\u001b[0m\u001b[0ma\u001b[0m\u001b[0;34m,\u001b[0m\u001b[0mb\u001b[0m\u001b[0;34m,\u001b[0m\u001b[0mdeg\u001b[0m\u001b[0;34m,\u001b[0m\u001b[0mtol\u001b[0m\u001b[0;34m=\u001b[0m\u001b[0mapprox_tol\u001b[0m\u001b[0;34m)\u001b[0m\u001b[0;34m\u001b[0m\u001b[0m\n\u001b[0m\u001b[1;32m    587\u001b[0m \u001b[0;34m\u001b[0m\u001b[0m\n\u001b[1;32m    588\u001b[0m             \u001b[0;31m#Subdivides if a bad approximation\u001b[0m\u001b[0;34m\u001b[0m\u001b[0;34m\u001b[0m\u001b[0m\n",
      "\u001b[0;32m~/Documents/Math/JarvisResearch/RootFinding/numalgsolve/subdivision.py\u001b[0m in \u001b[0;36mfull_cheb_approximate\u001b[0;34m(f, a, b, deg, tol)\u001b[0m\n\u001b[1;32m    476\u001b[0m     \u001b[0mdim\u001b[0m \u001b[0;34m=\u001b[0m \u001b[0mlen\u001b[0m\u001b[0;34m(\u001b[0m\u001b[0ma\u001b[0m\u001b[0;34m)\u001b[0m\u001b[0;34m\u001b[0m\u001b[0m\n\u001b[1;32m    477\u001b[0m     \u001b[0mdegs\u001b[0m \u001b[0;34m=\u001b[0m \u001b[0mnp\u001b[0m\u001b[0;34m.\u001b[0m\u001b[0marray\u001b[0m\u001b[0;34m(\u001b[0m\u001b[0;34m[\u001b[0m\u001b[0mdeg\u001b[0m\u001b[0;34m]\u001b[0m\u001b[0;34m*\u001b[0m\u001b[0mdim\u001b[0m\u001b[0;34m)\u001b[0m\u001b[0;34m\u001b[0m\u001b[0m\n\u001b[0;32m--> 478\u001b[0;31m     \u001b[0mcoeff\u001b[0m \u001b[0;34m=\u001b[0m \u001b[0minterval_approximate_nd\u001b[0m\u001b[0;34m(\u001b[0m\u001b[0mf\u001b[0m\u001b[0;34m,\u001b[0m\u001b[0ma\u001b[0m\u001b[0;34m,\u001b[0m\u001b[0mb\u001b[0m\u001b[0;34m,\u001b[0m\u001b[0mdegs\u001b[0m\u001b[0;34m)\u001b[0m\u001b[0;34m\u001b[0m\u001b[0m\n\u001b[0m\u001b[1;32m    479\u001b[0m     \u001b[0mcoeff2\u001b[0m\u001b[0;34m,\u001b[0m \u001b[0mbools\u001b[0m \u001b[0;34m=\u001b[0m \u001b[0minterval_approximate_nd\u001b[0m\u001b[0;34m(\u001b[0m\u001b[0mf\u001b[0m\u001b[0;34m,\u001b[0m\u001b[0ma\u001b[0m\u001b[0;34m,\u001b[0m\u001b[0mb\u001b[0m\u001b[0;34m,\u001b[0m\u001b[0mdegs\u001b[0m\u001b[0;34m*\u001b[0m\u001b[0;36m2\u001b[0m\u001b[0;34m,\u001b[0m\u001b[0mreturn_bools\u001b[0m\u001b[0;34m=\u001b[0m\u001b[0;32mTrue\u001b[0m\u001b[0;34m)\u001b[0m\u001b[0;34m\u001b[0m\u001b[0m\n\u001b[1;32m    480\u001b[0m     \u001b[0mcoeff2\u001b[0m\u001b[0;34m[\u001b[0m\u001b[0mslice_top\u001b[0m\u001b[0;34m(\u001b[0m\u001b[0mcoeff\u001b[0m\u001b[0;34m)\u001b[0m\u001b[0;34m]\u001b[0m \u001b[0;34m-=\u001b[0m \u001b[0mcoeff\u001b[0m\u001b[0;34m\u001b[0m\u001b[0m\n",
      "\u001b[0;32m~/Documents/Math/JarvisResearch/RootFinding/numalgsolve/subdivision.py\u001b[0m in \u001b[0;36minterval_approximate_nd\u001b[0;34m(f, a, b, degs, return_bools)\u001b[0m\n\u001b[1;32m    347\u001b[0m         \u001b[0mcheb_points\u001b[0m \u001b[0;34m=\u001b[0m \u001b[0mtransform\u001b[0m\u001b[0;34m(\u001b[0m\u001b[0mnp\u001b[0m\u001b[0;34m.\u001b[0m\u001b[0mcolumn_stack\u001b[0m\u001b[0;34m(\u001b[0m\u001b[0mmap\u001b[0m\u001b[0;34m(\u001b[0m\u001b[0mflatten\u001b[0m\u001b[0;34m,\u001b[0m \u001b[0mcheb_grids\u001b[0m\u001b[0;34m)\u001b[0m\u001b[0;34m)\u001b[0m\u001b[0;34m,\u001b[0m \u001b[0ma\u001b[0m\u001b[0;34m,\u001b[0m \u001b[0mb\u001b[0m\u001b[0;34m)\u001b[0m\u001b[0;34m\u001b[0m\u001b[0m\n\u001b[1;32m    348\u001b[0m         \u001b[0mcheb_points\u001b[0m \u001b[0;34m=\u001b[0m \u001b[0;34m[\u001b[0m\u001b[0mcheb_points\u001b[0m\u001b[0;34m[\u001b[0m\u001b[0;34m:\u001b[0m\u001b[0;34m,\u001b[0m\u001b[0mi\u001b[0m\u001b[0;34m]\u001b[0m \u001b[0;32mfor\u001b[0m \u001b[0mi\u001b[0m \u001b[0;32min\u001b[0m \u001b[0mrange\u001b[0m\u001b[0;34m(\u001b[0m\u001b[0mdim\u001b[0m\u001b[0;34m)\u001b[0m\u001b[0;34m]\u001b[0m\u001b[0;34m\u001b[0m\u001b[0m\n\u001b[0;32m--> 349\u001b[0;31m         \u001b[0mvalues_block\u001b[0m \u001b[0;34m=\u001b[0m \u001b[0mf\u001b[0m\u001b[0;34m(\u001b[0m\u001b[0;34m*\u001b[0m\u001b[0mcheb_points\u001b[0m\u001b[0;34m)\u001b[0m\u001b[0;34m.\u001b[0m\u001b[0mreshape\u001b[0m\u001b[0;34m(\u001b[0m\u001b[0;34m*\u001b[0m\u001b[0;34m(\u001b[0m\u001b[0;34m[\u001b[0m\u001b[0mdeg\u001b[0m\u001b[0;34m+\u001b[0m\u001b[0;36m1\u001b[0m\u001b[0;34m]\u001b[0m\u001b[0;34m*\u001b[0m\u001b[0mdim\u001b[0m\u001b[0;34m)\u001b[0m\u001b[0;34m)\u001b[0m\u001b[0;34m\u001b[0m\u001b[0m\n\u001b[0m\u001b[1;32m    350\u001b[0m \u001b[0;34m\u001b[0m\u001b[0m\n\u001b[1;32m    351\u001b[0m     \u001b[0mslices\u001b[0m \u001b[0;34m=\u001b[0m \u001b[0;34m[\u001b[0m\u001b[0;34m]\u001b[0m\u001b[0;34m\u001b[0m\u001b[0m\n",
      "\u001b[0;31mTypeError\u001b[0m: f() takes 1 positional argument but 2 were given"
     ]
    }
   ],
   "source": [
    "a = np.array([-1.,-1.])\n",
    "b = np.array([1.,1.])\n",
    "%time zeros2 = solve([f,g], a, b, interval_data=True, plot_intervals=False,\\\n",
    "                     contours=True, show_zeros=True, polish = False)"
   ]
  },
  {
   "cell_type": "code",
   "execution_count": 391,
   "metadata": {},
   "outputs": [
    {
     "data": {
      "text/plain": [
       "(2722, 2)"
      ]
     },
     "execution_count": 391,
     "metadata": {},
     "output_type": "execute_result"
    }
   ],
   "source": [
    "zeros2.shape"
   ]
  },
  {
   "cell_type": "code",
   "execution_count": 395,
   "metadata": {},
   "outputs": [
    {
     "data": {
      "text/plain": [
       "(0.00745262722954082, 0.008868320630860183)"
      ]
     },
     "execution_count": 395,
     "metadata": {},
     "output_type": "execute_result"
    }
   ],
   "source": [
    "np.max(np.abs(f(zeros2))), np.max(np.abs(g(zeros2)))"
   ]
  },
  {
   "cell_type": "code",
   "execution_count": 401,
   "metadata": {},
   "outputs": [
    {
     "data": {
      "text/plain": [
       "2719"
      ]
     },
     "execution_count": 401,
     "metadata": {},
     "output_type": "execute_result"
    }
   ],
   "source": [
    "len(np.unique(zeros2.round(4) , axis=0))"
   ]
  },
  {
   "cell_type": "code",
   "execution_count": 385,
   "metadata": {},
   "outputs": [],
   "source": [
    "def big_func(x,y):\n",
    "    return np.exp(np.sin(50*x)) + np.sin(60*np.exp(y)) + np.sin(70*np.sin(x)) + np.sin(np.sin(80*y)) - \\\n",
    "            np.sin(10*(x+y)) + (x**2 + y**2)/4"
   ]
  },
  {
   "cell_type": "code",
   "execution_count": 386,
   "metadata": {},
   "outputs": [
    {
     "data": {
      "text/plain": [
       "((-0.8752266625423847+0j), array([-0.17893891+0.j,  0.4334087 +0.j]))"
      ]
     },
     "execution_count": 386,
     "metadata": {},
     "output_type": "execute_result"
    }
   ],
   "source": [
    "vals = big_func(zeros2[:,0],zeros2[:,1])\n",
    "minimizer = np.argmin(vals)\n",
    "vals[minimizer], zeros2[minimizer]"
   ]
  },
  {
   "cell_type": "code",
   "execution_count": 364,
   "metadata": {},
   "outputs": [],
   "source": [
    "from scipy.optimize import root as scipy_root"
   ]
  },
  {
   "cell_type": "code",
   "execution_count": 402,
   "metadata": {},
   "outputs": [],
   "source": [
    "def full_func(x):\n",
    "    return np.array([f(x),g(x)])\n",
    "def f(x):\n",
    "    return 50*np.cos(50*x[0])*np.exp(np.sin(50*x[0])) + np.cos(70*np.sin(x[0]))*70*np.cos(x[0]) - \\\n",
    "            10*np.cos(10*(x[0] + x[1])) + x[0]/2\n",
    "    \n",
    "def g(x):\n",
    "    return 60*np.exp(x[1])*np.cos(60*np.exp(x[1])) + np.cos(np.sin(80*x[1]))*80*np.cos(80*x[1]) - \\\n",
    "            10*np.cos(10*(x[0] + x[1])) + x[1]/2\n",
    "polished_zeros = []\n",
    "for zero in zeros2:\n",
    "    polished_zeros.append(scipy_root(full_func, np.real(zero)).x)\n",
    "polished_zeros = np.vstack(polished_zeros)"
   ]
  },
  {
   "cell_type": "code",
   "execution_count": 366,
   "metadata": {},
   "outputs": [
    {
     "data": {
      "text/plain": [
       "(-3.3068686474752376, array([-0.02440308,  0.21061243]))"
      ]
     },
     "execution_count": 366,
     "metadata": {},
     "output_type": "execute_result"
    }
   ],
   "source": [
    "vals = big_func(polished_zeros[:,0],polished_zeros[:,1])\n",
    "minimizer = np.argmin(vals)\n",
    "vals[minimizer], polished_zeros[minimizer]"
   ]
  },
  {
   "cell_type": "code",
   "execution_count": 357,
   "metadata": {},
   "outputs": [
    {
     "data": {
      "text/plain": [
       "-3.3068686474752367"
      ]
     },
     "execution_count": 357,
     "metadata": {},
     "output_type": "execute_result"
    }
   ],
   "source": [
    "real_min = np.array([-.0244030796943751719036133083297, .210612427155355770591591100555])\n",
    "big_func(real_min[0], real_min[1])"
   ]
  },
  {
   "cell_type": "code",
   "execution_count": 358,
   "metadata": {},
   "outputs": [
    {
     "data": {
      "text/plain": [
       "array([-1.83707216e-15,  1.67865721e-13])"
      ]
     },
     "execution_count": 358,
     "metadata": {},
     "output_type": "execute_result"
    }
   ],
   "source": [
    "full_func(real_min)"
   ]
  },
  {
   "cell_type": "code",
   "execution_count": 412,
   "metadata": {},
   "outputs": [
    {
     "data": {
      "text/plain": [
       "2722"
      ]
     },
     "execution_count": 412,
     "metadata": {},
     "output_type": "execute_result"
    }
   ],
   "source": [
    "len(polished_zeros)"
   ]
  },
  {
   "cell_type": "code",
   "execution_count": 406,
   "metadata": {},
   "outputs": [
    {
     "data": {
      "text/plain": [
       "(8.130927597882476e-10, 2.635647255999629e-11)"
      ]
     },
     "execution_count": 406,
     "metadata": {},
     "output_type": "execute_result"
    }
   ],
   "source": [
    "np.max(np.abs(f(polished_zeros))), np.max(np.abs(g(polished_zeros)))"
   ]
  },
  {
   "cell_type": "code",
   "execution_count": 409,
   "metadata": {},
   "outputs": [
    {
     "data": {
      "text/plain": [
       "2719"
      ]
     },
     "execution_count": 409,
     "metadata": {},
     "output_type": "execute_result"
    }
   ],
   "source": [
    "len(np.unique(polished_zeros.round(10) , axis=0))"
   ]
  },
  {
   "cell_type": "code",
   "execution_count": null,
   "metadata": {},
   "outputs": [],
   "source": []
  },
  {
   "cell_type": "code",
   "execution_count": null,
   "metadata": {},
   "outputs": [],
   "source": []
  },
  {
   "cell_type": "code",
   "execution_count": 53,
   "metadata": {
    "scrolled": true
   },
   "outputs": [],
   "source": [
    "deg = 15\n",
    "dim = 2\n",
    "power = False\n",
    "polys = polyList(deg,dim,power,triangular=True)"
   ]
  },
  {
   "cell_type": "code",
   "execution_count": 121,
   "metadata": {
    "scrolled": true
   },
   "outputs": [
    {
     "name": "stdout",
     "output_type": "stream",
     "text": [
      "CPU times: user 675 ms, sys: 27.7 ms, total: 702 ms\n",
      "Wall time: 462 ms\n"
     ]
    }
   ],
   "source": [
    "%time zerosDiv = division(polys)\n",
    "real_zeros = zerosDiv[np.sum(np.imag(zerosDiv) == 0, axis = 1) == dim]\n",
    "real_zeros = real_zeros[np.sum(np.abs(real_zeros) <= 1, axis = 1) == dim]"
   ]
  },
  {
   "cell_type": "code",
   "execution_count": 122,
   "metadata": {
    "scrolled": false
   },
   "outputs": [
    {
     "name": "stdout",
     "output_type": "stream",
     "text": [
      "Interval -  [0.80149611 0.52747267] [0.83098324 0.56043699]\n",
      "Interval -  [0.52747267 0.94573468] [0.56043699 0.97362328]\n",
      "Interval -  [0.52747267 0.91784609] [0.54441403 0.93217888]\n",
      "Interval -  [0.40943253 0.34876812] [0.47009695 0.40943253]\n",
      "Interval -  [-1.         0.6986103] [-0.98106087  0.7129431 ]\n",
      "Probably bad count 0, actually bad counts 0, errors 245\n",
      "Total intervals checked was 2245\n",
      "Methods used were ['constant_term_check', 'full_quad_check', 'full_cubic_check', 'Division', 'Base Case']\n",
      "The percent solved by each was [88.33  3.88  0.31  7.48  0.  ]\n"
     ]
    },
    {
     "data": {
      "image/png": "[encoded data removed]",
      "text/plain": [
       "<matplotlib.figure.Figure at 0x1c1ec0c898>"
      ]
     },
     "metadata": {
      "needs_background": "light"
     },
     "output_type": "display_data"
    },
    {
     "name": "stdout",
     "output_type": "stream",
     "text": [
      "CPU times: user 37.5 s, sys: 959 ms, total: 38.5 s\n",
      "Wall time: 28 s\n"
     ]
    }
   ],
   "source": [
    "a = np.array([-1.]*dim)\n",
    "b = np.array([1.]*dim)\n",
    "%time zeros2 = solve(polys, a, b, interval_data=True, plot_intervals=True,\\\n",
    "                     contours=True, show_zeros=True, polish = False)"
   ]
  },
  {
   "cell_type": "code",
   "execution_count": 123,
   "metadata": {},
   "outputs": [
    {
     "data": {
      "image/png": "[encoded data removed]",
      "text/plain": [
       "<matplotlib.figure.Figure at 0x1c1b43da90>"
      ]
     },
     "metadata": {
      "needs_background": "light"
     },
     "output_type": "display_data"
    }
   ],
   "source": [
    "plt.figure(figsize=[10,10])\n",
    "plt.xlim([-1,1])\n",
    "plt.ylim([-1,1])\n",
    "plt.plot(np.real(real_zeros[:,0]),np.real(real_zeros[:,1]),'r.')\n",
    "plt.plot(np.real(zeros2[:,0]),np.real(zeros2[:,1]),'kx')\n",
    "plt.show()"
   ]
  },
  {
   "cell_type": "code",
   "execution_count": null,
   "metadata": {},
   "outputs": [],
   "source": []
  },
  {
   "cell_type": "code",
   "execution_count": 112,
   "metadata": {},
   "outputs": [
    {
     "data": {
      "text/plain": [
       "(50, 50)"
      ]
     },
     "execution_count": 112,
     "metadata": {},
     "output_type": "execute_result"
    }
   ],
   "source": [
    "len(zeros2), len(real_zeros)"
   ]
  },
  {
   "cell_type": "code",
   "execution_count": 113,
   "metadata": {},
   "outputs": [
    {
     "data": {
      "text/plain": [
       "50"
      ]
     },
     "execution_count": 113,
     "metadata": {},
     "output_type": "execute_result"
    }
   ],
   "source": [
    "len(np.unique(zeros2.round(4) , axis=0))"
   ]
  },
  {
   "cell_type": "code",
   "execution_count": 114,
   "metadata": {},
   "outputs": [
    {
     "data": {
      "text/plain": [
       "5.179005091942864e-05"
      ]
     },
     "execution_count": 114,
     "metadata": {},
     "output_type": "execute_result"
    }
   ],
   "source": [
    "maximal_residual(polys, real_zeros)"
   ]
  },
  {
   "cell_type": "code",
   "execution_count": 105,
   "metadata": {},
   "outputs": [
    {
     "data": {
      "text/plain": [
       "3.743505618839167e-05"
      ]
     },
     "execution_count": 105,
     "metadata": {},
     "output_type": "execute_result"
    }
   ],
   "source": [
    "maximal_residual(polys, zeros2)"
   ]
  },
  {
   "cell_type": "code",
   "execution_count": 116,
   "metadata": {
    "scrolled": false
   },
   "outputs": [
    {
     "data": {
      "text/plain": [
       "50"
      ]
     },
     "execution_count": 116,
     "metadata": {},
     "output_type": "execute_result"
    }
   ],
   "source": [
    "len(np.unique(np.vstack([zeros2, real_zeros]).round(4) , axis=0))"
   ]
  },
  {
   "cell_type": "code",
   "execution_count": 117,
   "metadata": {},
   "outputs": [],
   "source": [
    "for curr_zero in real_zeros:\n",
    "    #curr_zero = newton_polish(polys, curr_zero)\n",
    "    if np.any(np.abs(curr_zero) > 1):\n",
    "        continue\n",
    "    dist = np.min(np.linalg.norm(zeros2 - curr_zero, axis = 1))\n",
    "    if dist > .0001:\n",
    "        print(curr_zero, dist)"
   ]
  },
  {
   "cell_type": "code",
   "execution_count": 118,
   "metadata": {},
   "outputs": [],
   "source": [
    "for curr_zero in zeros2:\n",
    "    #curr_zero = newton_polish(polys, curr_zero)\n",
    "    if np.any(np.abs(curr_zero) > 1):\n",
    "        continue\n",
    "    dist = np.min(np.linalg.norm(real_zeros - curr_zero, axis = 1))\n",
    "    if dist > .0001:\n",
    "        print(curr_zero, dist)"
   ]
  },
  {
   "cell_type": "code",
   "execution_count": 119,
   "metadata": {},
   "outputs": [],
   "source": [
    "for curr_zero in real_zeros:\n",
    "    #curr_zero = newton_polish(polys, curr_zero)\n",
    "    if np.any(np.abs(curr_zero) > 1):\n",
    "        continue\n",
    "    norms = np.linalg.norm(real_zeros - curr_zero, axis = 1)\n",
    "    norms = norms[norms > 1.e-10]\n",
    "    dist = np.min(norms)\n",
    "    if dist < .00001:\n",
    "        print(curr_zero, dist)"
   ]
  },
  {
   "cell_type": "code",
   "execution_count": 124,
   "metadata": {},
   "outputs": [
    {
     "data": {
      "text/plain": [
       "(array([0. , 0.5, 1. , 1.5, 2. ]), 0.5)"
      ]
     },
     "execution_count": 124,
     "metadata": {},
     "output_type": "execute_result"
    }
   ],
   "source": [
    "np.linspace(0,2,5,retstep=True)"
   ]
  },
  {
   "cell_type": "code",
   "execution_count": null,
   "metadata": {},
   "outputs": [],
   "source": []
  },
  {
   "cell_type": "code",
   "execution_count": null,
   "metadata": {},
   "outputs": [],
   "source": []
  },
  {
   "cell_type": "code",
   "execution_count": null,
   "metadata": {},
   "outputs": [],
   "source": []
  },
  {
   "cell_type": "code",
   "execution_count": null,
   "metadata": {},
   "outputs": [],
   "source": [
    "zeros = np.array(zeros2)\n",
    "\n",
    "final_zeros = []\n",
    "while len(zeros) > 0:\n",
    "    curr_zero = zeros[0]\n",
    "    if np.any(np.abs(curr_zero) > 1):\n",
    "        continue\n",
    "    norms = np.linalg.norm(zeros - curr_zero, axis = 1)\n",
    "    curr_zeros = zeros[norms < 1.e-5]\n",
    "    zeros = zeros[norms >= 1.e-5]\n",
    "    \n",
    "    if len(curr_zeros) == 1:\n",
    "        final_zeros.append(curr_zeros[0])\n",
    "    else:\n",
    "        avg_zero = np.mean(curr_zeros, axis = 0)\n",
    "        final_zeros.append(avg_zero)\n",
    "#np.vstack(final_zeros)"
   ]
  },
  {
   "cell_type": "code",
   "execution_count": null,
   "metadata": {},
   "outputs": [],
   "source": []
  },
  {
   "cell_type": "code",
   "execution_count": null,
   "metadata": {},
   "outputs": [],
   "source": []
  },
  {
   "cell_type": "code",
   "execution_count": null,
   "metadata": {},
   "outputs": [],
   "source": []
  },
  {
   "cell_type": "code",
   "execution_count": null,
   "metadata": {},
   "outputs": [],
   "source": []
  },
  {
   "cell_type": "code",
   "execution_count": null,
   "metadata": {},
   "outputs": [],
   "source": []
  },
  {
   "cell_type": "code",
   "execution_count": 163,
   "metadata": {},
   "outputs": [
    {
     "data": {
      "text/plain": [
       "(array([ 0.94573468, -0.59655713]), array([ 1.        , -0.53241552]))"
      ]
     },
     "execution_count": 163,
     "metadata": {},
     "output_type": "execute_result"
    }
   ],
   "source": [
    "def get_interval(steps):\n",
    "    a = np.array([-1.]*dim)\n",
    "    b = np.array([1.]*dim)\n",
    "    RAND = 0.5139303900908738\n",
    "    for step in steps:\n",
    "        diffs1 = ((b-a)*RAND)\n",
    "        diffs2 = ((b-a)-(b-a)*RAND)\n",
    "        if step == 0:\n",
    "            a += diffs1\n",
    "        elif step == 1:\n",
    "            a[0] += diffs1[0]\n",
    "            b[1] -= diffs2[1]\n",
    "        elif step == 2:\n",
    "            b -= diffs2\n",
    "        elif step == 3:\n",
    "            a[1] += diffs1[1]\n",
    "            b[0] -= diffs2[0]\n",
    "    return a,b\n",
    "\n",
    "steps = [1,1,0,0,1]\n",
    "a,b = get_interval(steps)\n",
    "get_interval(steps)"
   ]
  },
  {
   "cell_type": "code",
   "execution_count": null,
   "metadata": {},
   "outputs": [],
   "source": [
    "\n",
    "steps = [1,1,0,0,1]\n",
    "a,b = get_interval(steps)\n",
    "get_interval(steps)"
   ]
  },
  {
   "cell_type": "code",
   "execution_count": null,
   "metadata": {},
   "outputs": [],
   "source": [
    "-0.86407797-0.j -0.01732634+0.j"
   ]
  },
  {
   "cell_type": "code",
   "execution_count": null,
   "metadata": {
    "scrolled": false
   },
   "outputs": [],
   "source": [
    "zeros3 = solve(polys, a, b, interval_data=True, plot_intervals=True, contours=True,\\\n",
    "               show_zeros=True, polish = False)"
   ]
  },
  {
   "cell_type": "code",
   "execution_count": null,
   "metadata": {},
   "outputs": [],
   "source": [
    "zeros2"
   ]
  },
  {
   "cell_type": "code",
   "execution_count": null,
   "metadata": {},
   "outputs": [],
   "source": [
    "a[0],b[0], (a[0]+b[0])/2"
   ]
  },
  {
   "cell_type": "code",
   "execution_count": null,
   "metadata": {},
   "outputs": [],
   "source": [
    "0.67576971"
   ]
  },
  {
   "cell_type": "code",
   "execution_count": null,
   "metadata": {},
   "outputs": [],
   "source": [
    "2*(0.67576971 - a[0]) / (b[0] - a[0]) - 1"
   ]
  },
  {
   "cell_type": "code",
   "execution_count": null,
   "metadata": {},
   "outputs": [],
   "source": [
    "2*(0.42662007 - a[1]) / (b[1] - a[1]) - 1"
   ]
  },
  {
   "cell_type": "code",
   "execution_count": null,
   "metadata": {},
   "outputs": [],
   "source": [
    "a = np.array([-1.]*dim)\n",
    "b = np.array([1.]*dim)\n",
    "%time zeros2 = solve(polys, a, b, interval_data=True)"
   ]
  },
  {
   "cell_type": "code",
   "execution_count": null,
   "metadata": {},
   "outputs": [],
   "source": []
  },
  {
   "cell_type": "code",
   "execution_count": null,
   "metadata": {},
   "outputs": [],
   "source": []
  },
  {
   "cell_type": "code",
   "execution_count": null,
   "metadata": {
    "scrolled": false
   },
   "outputs": [],
   "source": [
    "a = np.array([-1.]*dim)\n",
    "b = np.array([1.]*dim)\n",
    "%time zeros2 = solve(polys, a, b, interval_data=True)"
   ]
  },
  {
   "cell_type": "code",
   "execution_count": null,
   "metadata": {},
   "outputs": [],
   "source": []
  },
  {
   "cell_type": "code",
   "execution_count": null,
   "metadata": {},
   "outputs": [],
   "source": []
  },
  {
   "cell_type": "code",
   "execution_count": null,
   "metadata": {},
   "outputs": [],
   "source": []
  },
  {
   "cell_type": "code",
   "execution_count": null,
   "metadata": {},
   "outputs": [],
   "source": []
  },
  {
   "cell_type": "code",
   "execution_count": null,
   "metadata": {},
   "outputs": [],
   "source": [
    "from scipy.linalg import solve_triangular\n",
    "from numalgsolve.polyroots import get_var_list\n",
    "from numalgsolve.Multiplication import _random_poly\n",
    "from numalgsolve.MacaulayReduce import find_degree\n",
    "from numalgsolve.Multiplication import MSMultMatrix, MacaulayReduction, makeBasisDict\n",
    "from numalgsolve.utils import slice_top\n",
    "import scipy\n",
    "from scipy import linalg\n",
    "import math\n",
    "\n",
    "def all_shifts0(polys, matrix_degree):\n",
    "    shifts = dict()\n",
    "    min_degree = np.min([poly.degree for poly in polys])\n",
    "    for i in range(min_degree,matrix_degree+1):\n",
    "        shifts[i] = list()\n",
    "    for poly in polys:\n",
    "        degree = matrix_degree - poly.degree\n",
    "        dim = poly.dim\n",
    "        mons = mon_combos([0]*dim,degree)\n",
    "        for mon in mons:\n",
    "            shifts[np.sum(mon)+poly.degree].append(tuple([poly,mon]))\n",
    "    return shifts\n",
    "\n",
    "def all_shifts(polys, matrix_degree):\n",
    "    shifts = dict()\n",
    "    min_degree = np.min([poly.degree for poly in polys])\n",
    "    for i in range(min_degree,matrix_degree+1):\n",
    "        shifts[i] = list()\n",
    "    for poly in polys:\n",
    "        degree = matrix_degree - poly.degree\n",
    "        dim = poly.dim\n",
    "        mons = mon_combos([0]*dim,degree)\n",
    "        for mon in mons:\n",
    "            shifts[np.sum(mon)+poly.degree].append(tuple([poly,mon]))\n",
    "    \n",
    "    flat_shifts = list()\n",
    "    for i in shifts.keys():\n",
    "        flat_shifts += list(shifts[i])\n",
    "    \n",
    "    return flat_shifts\n",
    "\n",
    "def null(A, eps=1e-12):\n",
    "    u, s, vh = scipy.linalg.svd(A)\n",
    "    padding = max(0,np.shape(A)[1]-np.shape(s)[0])\n",
    "    null_mask = np.concatenate(((s <= eps*s[0]), np.ones((padding,),dtype=bool)),axis=0)\n",
    "    null_space = scipy.compress(null_mask, vh, axis=0)\n",
    "    return scipy.transpose(null_space)\n",
    "\n",
    "def new_terms(coeffs, old_term_set):\n",
    "    new_term_set = set()\n",
    "    for coeff in coeffs:\n",
    "        for term in zip(*np.where(coeff!=0)):\n",
    "            if term not in old_term_set:\n",
    "                new_term_set.add(tuple(term))\n",
    "    if len(new_term_set)==0:\n",
    "        return None\n",
    "    else:\n",
    "        return np.vstack(new_term_set)\n",
    "\n",
    "def matrix_mult1(A,B):\n",
    "    return A@B\n",
    "\n",
    "def matrix_mult2(A,B):\n",
    "    return A@B\n",
    "    \n",
    "def null_reduce(N,shifts,old_matrix_terms,bigShape):\n",
    "    old_term_set = set()\n",
    "    for term in old_matrix_terms:\n",
    "        old_term_set.add(tuple(term))\n",
    "    coeffs = list()\n",
    "    for poly,shift in shifts:\n",
    "        coeffs.append(poly.mon_mult(shift,returnType = 'Matrix'))\n",
    "\n",
    "    new_matrix_terms = new_terms(coeffs, old_term_set)\n",
    "    \n",
    "    if new_matrix_terms is None:\n",
    "        matrix_terms = old_matrix_terms\n",
    "\n",
    "        old_matrix_term_indexes = list()\n",
    "        for row in old_matrix_terms.T:\n",
    "            old_matrix_term_indexes.append(row)\n",
    "\n",
    "        #Adds the poly_coeffs to flat_polys, using added_zeros to make sure every term is in there.\n",
    "        added_zeros = np.zeros(bigShape)\n",
    "        old_flat_polys = list()\n",
    "        for coeff in coeffs:\n",
    "            slices = slice_top(coeff)\n",
    "            added_zeros[slices] = coeff\n",
    "            old_flat_polys.append(added_zeros[old_matrix_term_indexes])\n",
    "            added_zeros[slices] = np.zeros_like(coeff)\n",
    "\n",
    "        R1 = np.reshape(old_flat_polys, (len(old_flat_polys),len(old_matrix_terms)))\n",
    "\n",
    "        X = matrix_mult1(R1,N)\n",
    "        if np.max(np.abs(X)) < 1.e-10: #N is still a valid null space\n",
    "            return N, matrix_terms\n",
    "        else:\n",
    "            K = null(X)\n",
    "            N = matrix_mult2(N,K)\n",
    "            return N, matrix_terms\n",
    "    else:\n",
    "        matrix_terms = np.vstack([old_matrix_terms, new_matrix_terms])\n",
    "\n",
    "        new_matrix_term_indexes = list()\n",
    "        old_matrix_term_indexes = list()\n",
    "        for row in new_matrix_terms.T:\n",
    "            new_matrix_term_indexes.append(row)\n",
    "        for row in old_matrix_terms.T:\n",
    "            old_matrix_term_indexes.append(row)\n",
    "\n",
    "        #Adds the poly_coeffs to flat_polys, using added_zeros to make sure every term is in there.\n",
    "        added_zeros = np.zeros(bigShape)\n",
    "        new_flat_polys = list()\n",
    "        old_flat_polys = list()\n",
    "        for coeff in coeffs:\n",
    "            slices = slice_top(coeff)\n",
    "            added_zeros[slices] = coeff\n",
    "            new_flat_polys.append(added_zeros[new_matrix_term_indexes])\n",
    "            old_flat_polys.append(added_zeros[old_matrix_term_indexes])\n",
    "            added_zeros[slices] = np.zeros_like(coeff)\n",
    "\n",
    "        R1 = np.reshape(old_flat_polys, (len(old_flat_polys),len(old_matrix_terms)))\n",
    "        R2 = np.reshape(new_flat_polys, (len(new_flat_polys),len(new_matrix_terms)))\n",
    "        \n",
    "        X = np.hstack([matrix_mult1(R1,N),R2])\n",
    "        K = null(X)\n",
    "        \n",
    "        cut = N.shape[1]\n",
    "        K1 = K[:cut]\n",
    "        K2 = K[cut:]\n",
    "        N = np.vstack([matrix_mult2(N,K1),K2])\n",
    "        \n",
    "        return N, matrix_terms\n",
    "\n",
    "def fast_null(polys, max_shifts = 700):\n",
    "    matrix_degree = find_degree(polys)\n",
    "    dim = polys[0].dim\n",
    "    bigShape = [matrix_degree+1]*dim\n",
    "    \n",
    "    shifts = all_shifts0(polys, matrix_degree)\n",
    "    degs = list(shifts.keys())\n",
    "        \n",
    "    initial_shifts = shifts[degs[0]]\n",
    "    initial_coeffs = list()\n",
    "    for poly,shift in initial_shifts:\n",
    "        initial_coeffs.append(poly.mon_mult(shift,returnType = 'Matrix'))\n",
    "\n",
    "    matrix, matrix_terms, cuts = MSMultMatrix(initial_coeffs, degs[0], dim)\n",
    "    N = null(matrix)\n",
    "    #print(degs[-1])\n",
    "    degs = degs[1:]\n",
    "    spot = 0\n",
    "    while spot < len(degs):\n",
    "        deg = degs[spot]\n",
    "        new_shifts = shifts[deg]\n",
    "        #print(deg,len(new_shifts))\n",
    "        if len(new_shifts) < max_shifts:\n",
    "            if spot < len(degs)-1:\n",
    "                while len(new_shifts)+len(shifts[degs[spot+1]]) < max_shifts:\n",
    "                    spot += 1\n",
    "                    new_shifts += shifts[degs[spot]]\n",
    "                    if spot == len(degs)-1:\n",
    "                        break\n",
    "            N,matrix_terms = null_reduce(N,new_shifts,matrix_terms,bigShape)\n",
    "        else:\n",
    "            for i in range(math.ceil(len(new_shifts)/max_shifts)):\n",
    "                current_shifts = new_shifts[i*max_shifts:(i+1)*max_shifts]\n",
    "                N,matrix_terms = null_reduce(N,current_shifts,matrix_terms,bigShape)\n",
    "        spot += 1\n",
    "    \n",
    "    return N, matrix_terms, matrix_degree\n",
    "\n",
    "def fast_TVB_solve(polys,max_shifts=700):\n",
    "    N, matrix_terms, matrix_degree = fast_null(polys,max_shifts=max_shifts)\n",
    "    dim = matrix_terms.shape[1]\n",
    "    degs = np.sum(matrix_terms,axis=1)\n",
    "    max_deg = np.max(degs)\n",
    "    order = np.argsort(degs)\n",
    "    N = N[order]\n",
    "    matrix_terms = matrix_terms[order]\n",
    "            \n",
    "    degs = np.sum(matrix_terms,axis=1)\n",
    "    cut1 = dim+1\n",
    "    cut2 = len(matrix_terms) - len(np.where(degs == degs[-1])[0])\n",
    "    #cut1 = len(np.where(degs == degs[0])[0])\n",
    "    #cut2 = len(matrix_terms) - dim - 1\n",
    "    cuts = tuple((cut1,cut2))\n",
    "        \n",
    "    NT, matrix_terms = rrqr_reduceTelenVanBarel2(N.T,matrix_terms,cuts)\n",
    "    \n",
    "    height = NT.shape[0]\n",
    "    X = -solve_triangular(NT[:,:height],NT[:,height:]).T\n",
    "    n,m = X.shape\n",
    "    matrix = np.hstack((np.eye(n),X))\n",
    "        \n",
    "    #print(matrix)\n",
    "    matrix_terms = np.vstack((matrix_terms[m:],matrix_terms[:m]))\n",
    "    \n",
    "    VB = matrix_terms[n:]\n",
    "    basisDict = makeBasisDict(matrix, matrix_terms, VB, True)\n",
    "        \n",
    "    return basisDict, VB, matrix_degree\n",
    "\n",
    "def TVBMultMatrix(polys,max_shifts=700, poly_type=\"MultiPower\"):\n",
    "    basisDict, VB, degree = fast_TVB_solve(polys,max_shifts=max_shifts)\n",
    "        \n",
    "    dim = max(f.dim for f in polys)\n",
    "\n",
    "    # Get random polynomial f\n",
    "    f = _random_poly(poly_type, dim)[0]\n",
    "    \n",
    "    #Dictionary of terms in the vector basis their spots in the matrix.\n",
    "    VBdict = {}\n",
    "    spot = 0\n",
    "    for row in VB:\n",
    "        VBdict[tuple(row)] = spot\n",
    "        spot+=1\n",
    "    \n",
    "    # Build multiplication matrix m_f\n",
    "    mMatrix = np.zeros((len(VB), len(VB)))\n",
    "    for i in range(VB.shape[0]):\n",
    "        #print(\"current - {}\".format(VB[i]))\n",
    "        f_coeff = f.mon_mult(VB[i], returnType = 'Matrix')\n",
    "        for term in zip(*np.where(f_coeff != 0)):\n",
    "            #print(term)\n",
    "            if term in VBdict:\n",
    "                mMatrix[VBdict[term]][i] += f_coeff[term]\n",
    "            else:\n",
    "                mMatrix[:,i] -= f_coeff[term]*basisDict[term]\n",
    "\n",
    "    return mMatrix, VBdict\n",
    "\n",
    "def fast_TVB(polys,max_shifts=700):\n",
    "    m_f, var_dict = TVBMultMatrix(polys,max_shifts=max_shifts)\n",
    "    \n",
    "    dim = max(f.dim for f in polys)\n",
    "    \n",
    "    # Get left eigenvectors\n",
    "\n",
    "    e = np.linalg.eig(m_f.T)\n",
    "    eig = e[1]\n",
    "    num_vectors = eig.shape[1]\n",
    "\n",
    "    eig_vectors = [eig[:,i] for i in range(num_vectors)] # columns of eig\n",
    "    roots = []\n",
    "    for v in eig_vectors:\n",
    "        #print(v)\n",
    "        if v[var_dict[tuple(0 for i in range(dim))]] == 0:\n",
    "            continue\n",
    "        root = np.zeros(dim, dtype=complex)\n",
    "        spot = np.zeros(dim)\n",
    "        # This will always work because var_indexes and root have the\n",
    "        # same length - dim - and var_indexes has the variables in the\n",
    "        # order they should be in the root\n",
    "        for i in range(dim):\n",
    "            spot[i] = 1\n",
    "            root[i] = v[var_dict[tuple(spot)]]/v[var_dict[tuple(0 for i in range(dim))]]\n",
    "            spot[i] = 0\n",
    "        roots.append(root)\n",
    "        #roots.append(newton_polish(polys,root))\n",
    "    return roots"
   ]
  },
  {
   "cell_type": "code",
   "execution_count": null,
   "metadata": {},
   "outputs": [],
   "source": [
    "deg = 3\n",
    "dim = 4\n",
    "power = True\n",
    "polys = polyList(deg,dim,power,Type=\"standard\")"
   ]
  },
  {
   "cell_type": "code",
   "execution_count": null,
   "metadata": {},
   "outputs": [],
   "source": [
    "from numalgsolve.polynomial import is_power\n",
    "is_power(polys)"
   ]
  },
  {
   "cell_type": "code",
   "execution_count": null,
   "metadata": {},
   "outputs": [],
   "source": []
  },
  {
   "cell_type": "code",
   "execution_count": null,
   "metadata": {
    "scrolled": true
   },
   "outputs": [],
   "source": [
    "%time zeros = fast_TVB(polys,max_shifts=1500)"
   ]
  },
  {
   "cell_type": "code",
   "execution_count": null,
   "metadata": {},
   "outputs": [],
   "source": [
    "tol = 1.e-5\n",
    "\n",
    "print('Fast TVB - {} out of {}'.format(np.sum([in_zeros(zeros, zero_bertini, tol=tol)\\\n",
    "                                          for zero_bertini in zeros_bertini]),len(zeros_bertini)))\n",
    "min_mag = 1000\n",
    "for zero_bertini in zeros_bertini:\n",
    "    if not in_zeros(zeros, zero_bertini, tol=tol):\n",
    "        min_mag = min(min_mag, np.max(np.abs(zero_bertini)))\n",
    "        assert(np.any(np.abs(zero_bertini) > 1))\n",
    "print(min_mag)\n",
    "\"\"\"\n",
    "print('Mult - {} out of {}'.format(np.sum([in_zeros(zeros1, zero_bertini, tol=tol)\\\n",
    "                                          for zero_bertini in zeros_bertini]),len(zeros_bertini)))\n",
    "min_mag = 1000\n",
    "for zero_bertini in zeros_bertini:\n",
    "    if not in_zeros(zeros1, zero_bertini, tol=tol):\n",
    "        min_mag = min(min_mag, np.max(np.abs(zero_bertini)))\n",
    "        assert(np.any(np.abs(zero_bertini) > 1))\n",
    "print(min_mag)\n",
    "\n",
    "print('Div - {} out of {}'.format(np.sum([in_zeros(zeros2, zero_bertini, tol=tol)\\\n",
    "                                          for zero_bertini in zeros_bertini]),len(zeros_bertini)))\n",
    "min_mag = 1000\n",
    "for zero_bertini in zeros_bertini:\n",
    "    if not in_zeros(zeros2, zero_bertini, tol=tol):\n",
    "        min_mag = min(min_mag, np.max(np.abs(zero_bertini)))\n",
    "        assert(np.any(np.abs(zero_bertini) > 1))\n",
    "print(min_mag)\n",
    "\"\"\"\n",
    "print()"
   ]
  },
  {
   "cell_type": "code",
   "execution_count": null,
   "metadata": {},
   "outputs": [],
   "source": []
  },
  {
   "cell_type": "code",
   "execution_count": null,
   "metadata": {},
   "outputs": [],
   "source": []
  },
  {
   "cell_type": "code",
   "execution_count": null,
   "metadata": {
    "scrolled": true
   },
   "outputs": [],
   "source": [
    "zeros = fast_TVB(polys)\n",
    "zeros"
   ]
  },
  {
   "cell_type": "code",
   "execution_count": null,
   "metadata": {},
   "outputs": [],
   "source": [
    "polys[0](zeros)"
   ]
  },
  {
   "cell_type": "code",
   "execution_count": null,
   "metadata": {},
   "outputs": [],
   "source": []
  },
  {
   "cell_type": "code",
   "execution_count": null,
   "metadata": {},
   "outputs": [],
   "source": [
    "deg = 3\n",
    "dim = 3\n",
    "power = True\n",
    "polys = polyList(deg,dim,power,Type=\"standard\")"
   ]
  },
  {
   "cell_type": "code",
   "execution_count": null,
   "metadata": {
    "scrolled": true
   },
   "outputs": [],
   "source": [
    "%prun N,matrix_terms, matrix_degree = fast_null(polys, max_shifts=650)"
   ]
  },
  {
   "cell_type": "code",
   "execution_count": null,
   "metadata": {},
   "outputs": [],
   "source": [
    "4090068 function calls (4087744 primitive calls) in 100.235 seconds\n",
    "\n",
    "   Ordered by: internal time\n",
    "\n",
    "   ncalls  tottime  percall  cumtime  percall filename:lineno(function)\n",
    "       10   43.003    4.300   43.074    4.307 decomp_svd.py:16(svd)\n",
    "        9   28.146    3.127   28.146    3.127 <ipython-input-527-483e3204ae65>:41(matrix_mult2)\n",
    "        9   11.060    1.229   11.060    1.229 <ipython-input-527-483e3204ae65>:38(matrix_mult1)\n",
    "        9    6.256    0.695    8.202    0.911 <ipython-input-527-483e3204ae65>:27(new_terms)\n",
    "       10    2.893    0.289    2.893    0.289 {method 'compress' of 'numpy.ndarray' objects}\n",
    "        9    2.212    0.246   99.171   11.019 <ipython-input-527-483e3204ae65>:44(null_reduce)\n",
    "       46    2.094    0.046    2.094    0.046 {built-in method numpy.core.multiarray.concatenate}\n",
    "  3659071    1.164    0.000    1.164    0.000 {method 'add' of 'set' objects}"
   ]
  },
  {
   "cell_type": "code",
   "execution_count": null,
   "metadata": {},
   "outputs": [],
   "source": []
  },
  {
   "cell_type": "code",
   "execution_count": null,
   "metadata": {},
   "outputs": [],
   "source": []
  },
  {
   "cell_type": "code",
   "execution_count": null,
   "metadata": {},
   "outputs": [],
   "source": [
    "from numalgsolve.TelenVanBarel import add_polys\n",
    "\n",
    "def test_matrix(polys, matrix_terms):\n",
    "    matrix_degree = find_degree(polys)\n",
    "    dim = polys[0].dim\n",
    "    coeff_list = []\n",
    "    for poly in polys:\n",
    "        coeff_list = add_polys(matrix_degree, poly, coeff_list)  \n",
    "    \n",
    "    bigShape = [matrix_degree+1]*dim\n",
    "\n",
    "    matrix_term_indexes = list()\n",
    "    for row in matrix_terms.T:\n",
    "        matrix_term_indexes.append(row)\n",
    "\n",
    "    #Adds the poly_coeffs to flat_polys, using added_zeros to make sure every term is in there.\n",
    "    added_zeros = np.zeros(bigShape)\n",
    "    flat_polys = list()\n",
    "    for coeff in coeff_list:\n",
    "        slices = slice_top(coeff)\n",
    "        added_zeros[slices] = coeff\n",
    "        flat_polys.append(added_zeros[matrix_term_indexes])\n",
    "        added_zeros[slices] = np.zeros_like(coeff)\n",
    "        coeff = 0\n",
    "    poly_coeffs = 0\n",
    "\n",
    "    #Make the matrix. Reshape is faster than stacking.\n",
    "    matrix = np.reshape(flat_polys, (len(flat_polys),len(matrix_terms)))\n",
    "    return matrix"
   ]
  },
  {
   "cell_type": "code",
   "execution_count": null,
   "metadata": {},
   "outputs": [],
   "source": [
    "deg = 10\n",
    "dim = 3\n",
    "power = True\n",
    "polys = polyList(deg,dim,power,Type=\"standard\")\n",
    "N,matrix_terms,deg = fast_null(polys)"
   ]
  },
  {
   "cell_type": "code",
   "execution_count": null,
   "metadata": {},
   "outputs": [],
   "source": [
    "matrix = test_matrix(polys,matrix_terms)"
   ]
  },
  {
   "cell_type": "code",
   "execution_count": null,
   "metadata": {},
   "outputs": [],
   "source": [
    "np.max(np.abs(matrix@N))"
   ]
  },
  {
   "cell_type": "code",
   "execution_count": null,
   "metadata": {},
   "outputs": [],
   "source": []
  },
  {
   "cell_type": "code",
   "execution_count": null,
   "metadata": {},
   "outputs": [],
   "source": []
  },
  {
   "cell_type": "code",
   "execution_count": null,
   "metadata": {},
   "outputs": [],
   "source": []
  },
  {
   "cell_type": "code",
   "execution_count": null,
   "metadata": {},
   "outputs": [],
   "source": []
  },
  {
   "cell_type": "code",
   "execution_count": null,
   "metadata": {},
   "outputs": [],
   "source": []
  },
  {
   "cell_type": "code",
   "execution_count": null,
   "metadata": {},
   "outputs": [],
   "source": []
  },
  {
   "cell_type": "code",
   "execution_count": null,
   "metadata": {},
   "outputs": [],
   "source": []
  },
  {
   "cell_type": "code",
   "execution_count": null,
   "metadata": {},
   "outputs": [],
   "source": [
    "#Future test case!\n",
    "a = MultiPower('x0^2+-1')\n",
    "b = MultiPower('x0^4+-1')\n",
    "c = MultiPower('x0^2+-2x0+1')\n",
    "roots([a,b,c])"
   ]
  },
  {
   "cell_type": "code",
   "execution_count": null,
   "metadata": {},
   "outputs": [],
   "source": []
  },
  {
   "cell_type": "code",
   "execution_count": null,
   "metadata": {
    "scrolled": true
   },
   "outputs": [],
   "source": []
  },
  {
   "cell_type": "code",
   "execution_count": null,
   "metadata": {},
   "outputs": [],
   "source": [
    "from numalgsolve import subdivision as sbd\n",
    "deg = 10\n",
    "dim = 2\n",
    "power = False\n",
    "polys = polyList(deg,dim,power)\n",
    "a = np.array([-1.]*dim)\n",
    "b = np.array([1.]*dim)\n",
    "#sbd.solve(polys,a,b)\n",
    "#zeros = pr.solve(polys, method='div')\n",
    "#print(len(zeros))"
   ]
  },
  {
   "cell_type": "code",
   "execution_count": null,
   "metadata": {},
   "outputs": [],
   "source": [
    "run_trial(polys, division,tol=1.e-3)"
   ]
  },
  {
   "cell_type": "code",
   "execution_count": null,
   "metadata": {},
   "outputs": [],
   "source": [
    "zeros_bertini = run_bertini(polys)\n",
    "zeros_bertini_real = zeros_bertini[np.sum(np.abs(zeros_bertini.imag) < 1.e-10,axis = 1) == dim]\n",
    "zeros_bertini_final = zeros_bertini_real[np.sum(np.abs(zeros_bertini_real) < 1,axis = 1) == dim]\n",
    "zeros_bertini_final"
   ]
  },
  {
   "cell_type": "code",
   "execution_count": null,
   "metadata": {
    "scrolled": true
   },
   "outputs": [],
   "source": [
    "%prun sbd.solve(polys,a,b)"
   ]
  },
  {
   "cell_type": "code",
   "execution_count": null,
   "metadata": {},
   "outputs": [],
   "source": []
  },
  {
   "cell_type": "code",
   "execution_count": null,
   "metadata": {},
   "outputs": [],
   "source": []
  },
  {
   "cell_type": "code",
   "execution_count": null,
   "metadata": {},
   "outputs": [],
   "source": [
    "((30/35)*.8 + (9/10)*.2)*300"
   ]
  },
  {
   "cell_type": "code",
   "execution_count": null,
   "metadata": {},
   "outputs": [],
   "source": []
  }
 ],
 "metadata": {
  "kernelspec": {
   "display_name": "Python 3",
   "language": "python",
   "name": "python3"
  },
  "language_info": {
   "codemirror_mode": {
    "name": "ipython",
    "version": 3
   },
   "file_extension": ".py",
   "mimetype": "text/x-python",
   "name": "python",
   "nbconvert_exporter": "python",
   "pygments_lexer": "ipython3",
   "version": "3.6.6"
  }
 },
 "nbformat": 4,
 "nbformat_minor": 2
}
