{
 "cells": [
  {
   "cell_type": "code",
   "execution_count": 32,
   "metadata": {},
   "outputs": [
    {
     "name": "stdout",
     "output_type": "stream",
     "text": [
      "The autoreload extension is already loaded. To reload it, use:\n",
      "  %reload_ext autoreload\n",
      "The memory_profiler extension is already loaded. To reload it, use:\n",
      "  %reload_ext memory_profiler\n",
      "The line_profiler extension is already loaded. To reload it, use:\n",
      "  %reload_ext line_profiler\n"
     ]
    }
   ],
   "source": [
    "#Conda imports\n",
    "import numpy as np\n",
    "from scipy.linalg import qr\n",
    "import time\n",
    "import random\n",
    "import matplotlib.pyplot as plt\n",
    "import itertools\n",
    "from numpy.polynomial.chebyshev import chebroots, chebval\n",
    "#from numalgsolve.TelenVanBarel import sorted_matrix_terms\n",
    "from numalgsolve.utils import inverse_P, row_swap_matrix\n",
    "from numalgsolve.utils import mon_combosHighest, slice_top, mon_combos, newton_polish\n",
    "from numalgsolve._stability import maximal_residual\n",
    "from scipy.misc import comb\n",
    "#Local imports\n",
    "from numalgsolve.polynomial import MultiCheb, MultiPower, getPoly\n",
    "from scipy.linalg import eig\n",
    "from numalgsolve.Division import division\n",
    "from numalgsolve.Multiplication import multiplication\n",
    "from numalgsolve.subdivision import good_zeros_nd, subdivision_solve_nd, solve\n",
    "from  matplotlib import patches as patches\n",
    "\n",
    "%matplotlib inline\n",
    "\n",
    "# Auto-reload packages\n",
    "%load_ext autoreload\n",
    "%autoreload 2\n",
    "%load_ext memory_profiler\n",
    "%load_ext line_profiler\n",
    "\n",
    "def polyList(deg,dim,power,Type = 'standard',triangular = True):\n",
    "    deg += 1\n",
    "    coeffs = list()\n",
    "    if Type == 'random':\n",
    "        for i in range(dim):\n",
    "            coeffs.append(np.random.random_sample(deg*np.ones(dim, dtype = int)))\n",
    "    elif Type == 'int':\n",
    "        Range = 1000\n",
    "        for i in range(dim):\n",
    "            coeffs.append(np.random.randint(-Range,Range,deg*np.ones(dim, dtype = int)))\n",
    "    elif Type == 'standard':\n",
    "        for i in range(dim):\n",
    "            coeffs.append(np.random.standard_normal(deg*np.ones(dim, dtype = int)))\n",
    "    if triangular:\n",
    "        for i,j in np.ndenumerate(coeffs[0]):\n",
    "            if np.sum(i) >= deg:\n",
    "                for coeff in coeffs:\n",
    "                    coeff[i] = 0\n",
    "    polys = list()\n",
    "    if power:\n",
    "        for coeff in coeffs:\n",
    "            polys.append(MultiPower(coeff))\n",
    "    else:\n",
    "        for coeff in coeffs:\n",
    "            polys.append(MultiCheb(coeff))\n",
    "    return polys\n",
    "\n",
    "def evaluate(zero, polys, accuracy = 1.e-3):\n",
    "    good = True\n",
    "    outOfRange = False\n",
    "    for poly in polys:\n",
    "        if not np.isclose(0, poly.evaluate_at(zero), atol = accuracy):\n",
    "            good = False\n",
    "            if (np.abs(zero) > 1).any():\n",
    "                outOfRange = True\n",
    "            break\n",
    "    return good,outOfRange\n",
    "\n",
    "def checkZeros(zeros, polys, accuracy = 1.e-3):\n",
    "    if zeros == -1:\n",
    "        print(-1)\n",
    "        return\n",
    "    results = np.apply_along_axis(evaluate, 1, zeros, polys, accuracy = accuracy)\n",
    "    correct = np.sum(results[:,0])\n",
    "    outOfRange = np.sum(results[:,1])\n",
    "    print(\"{} ZEROS ARE CORRECT OUT OF {}\".format(correct, len(zeros)))\n",
    "    print(\"{} of them were about of range\".format(outOfRange))\n",
    "    print(\"{} percent of zeros in range correct\".format(np.round(100*correct/(len(zeros)-outOfRange),3)))\n",
    "\n",
    "def coeffToString(matrix):\n",
    "    result = ''\n",
    "    for mon in zip(*np.where(matrix != 0)):\n",
    "        coeff = matrix[mon]\n",
    "        mon = mon[::-1]\n",
    "        if coeff >= 0:\n",
    "            monString = '+' + str(coeff) + '*'\n",
    "        else:\n",
    "            monString = str(coeff) + '*'\n",
    "        for i in range(len(mon)):\n",
    "            if mon[i] == 0:\n",
    "                continue\n",
    "            monString += 'x'\n",
    "            monString += str(i)\n",
    "            if mon[i] > 1:\n",
    "                monString += '^'\n",
    "                monString += str(mon[i])\n",
    "            monString+= '*'\n",
    "        #if monString[-1] == '*':\n",
    "        monString = monString[:-1]\n",
    "        result += monString\n",
    "    if result[0] == '+':\n",
    "        result = result[1:]\n",
    "    return result"
   ]
  },
  {
   "cell_type": "code",
   "execution_count": 2,
   "metadata": {},
   "outputs": [],
   "source": [
    "from numalgsolve.polynomial import cheb2poly\n",
    "from subprocess import run\n",
    "input_file_path = '../../BertiniApple32_v1.5.1/input'\n",
    "output_file_path = 'finite_solutions'\n",
    "bertini_run_process = ['../../BertiniApple32_v1.5.1/bertini', '../../BertiniApple32_v1.5.1/input']\n",
    "def prep_bertini(polys):\n",
    "    if isinstance(polys[0], MultiCheb):\n",
    "        polysNew = []\n",
    "        for poly in polys:\n",
    "            polysNew.append(cheb2poly(poly))\n",
    "        polys = polysNew\n",
    "    num_polys = len(polys)\n",
    "    function_string = 'function '\n",
    "    for i in range(num_polys):\n",
    "        function_string += 'f' + str(i) + ', '\n",
    "    function_string = function_string[:-2] + ';' + '\\n'\n",
    "    dim = polys[0].dim\n",
    "    variable_string = 'variable_group '\n",
    "    for i in range(dim):\n",
    "        variable_string += 'x' + str(i) + ', '\n",
    "    variable_string = variable_string[:-2] + ';' + '\\n'\n",
    "    with open(input_file_path, 'w') as input_file:\n",
    "        input_file.write(function_string)\n",
    "        input_file.write(variable_string)\n",
    "        for i in range(num_polys):\n",
    "            input_file.write('f' + str(i) + ' = ' + coeffToString(polys[i].coeff) + ';\\n')\n",
    "        input_file.write('END;')\n",
    "\n",
    "def bertini_results(dim):\n",
    "    with open(output_file_path, 'r') as output_file:\n",
    "        results = output_file.readlines()\n",
    "    def get_number(line):\n",
    "        nums = line.split(' ')\n",
    "        return complex(float(nums[0]), float(nums[1]))\n",
    "\n",
    "    #print(results)\n",
    "    zeros = list()\n",
    "    for i in range(2,len(results),dim+1):\n",
    "        zero = np.zeros(dim, dtype = 'complex')\n",
    "        for j in range(dim):\n",
    "            zero[j] = get_number(results[i+dim-1-j])\n",
    "        zeros.append(zero)\n",
    "        #zeros.append(np.array([get_number(results[i+1]), get_number(results[i])]))\n",
    "    return np.vstack(zeros)\n",
    "\n",
    "def run_bertini(polys):\n",
    "    prep_bertini(polys)\n",
    "    run(bertini_run_process)\n",
    "    return bertini_results(polys[0].dim)\n",
    "\n",
    "def in_zeros(zeros, zero_to_check, tol = 1.e-5):\n",
    "    for zero in zeros:\n",
    "        if np.allclose(zero - zero_to_check,np.zeros_like(zero), atol=tol):\n",
    "            return True\n",
    "    return False"
   ]
  },
  {
   "cell_type": "code",
   "execution_count": 3,
   "metadata": {},
   "outputs": [],
   "source": [
    "def run_trial(polys, method, tol = 1.e-5):\n",
    "    zeros = pr.solve(polys, method=method)\n",
    "    if not power:\n",
    "        for i in range(len(polys)):\n",
    "            polys[i] = cheb2poly(polys[i])\n",
    "    zeros_bertini = run_bertini(polys)\n",
    "    trial_results(zeros, zeros_bertini, tol = tol)\n",
    "\n",
    "def trial_results(zerosTVB, zeros_bertini, tol = 1.e-5):\n",
    "    print('TVB - {} out of {}'.format(np.sum([in_zeros(zerosTVB, zero_bertini, tol=tol)\\\n",
    "                                              for zero_bertini in zeros_bertini]),len(zeros_bertini)))\n",
    "    min_mag = 1000\n",
    "    for zero_bertini in zeros_bertini:\n",
    "        if not in_zeros(zerosTVB, zero_bertini, tol=tol):\n",
    "            min_mag = min(min_mag, np.max(np.abs(zero_bertini)))\n",
    "            assert(np.any(np.abs(zero_bertini) > 1))\n",
    "    print(min_mag)"
   ]
  },
  {
   "cell_type": "code",
   "execution_count": 4,
   "metadata": {},
   "outputs": [],
   "source": [
    "from scipy.io import wavfile\n",
    "import IPython\n",
    "import scipy as sp\n",
    "import time\n",
    "from scipy import signal, fft, exp\n",
    "from scipy.misc import imread\n",
    "class SoundWave(object):\n",
    "    \"\"\"A SoundWave class for working with digital audio signals.\n",
    "    Attributes:\n",
    "        rate (int): The sample rate of the sound.\n",
    "        samples ((n,) ndarray): NumPy array of samples.\n",
    "    \"\"\"\n",
    "    # Problem 1\n",
    "    def __init__(self, rate, samples):\n",
    "        \"\"\"Set the SoundWave class attributes.\n",
    "        Parameters:\n",
    "            rate (int): The sample rate of the sound.\n",
    "            samples ((n,) ndarray): NumPy array of samples.\n",
    "        Returns:\n",
    "            A SoundWave object.\n",
    "        \"\"\"\n",
    "        self.samples = samples\n",
    "        self.rate = rate\n",
    "    \n",
    "    def plot(self):\n",
    "        \"\"\"Plot and display the graph of the sound wave.\"\"\"\n",
    "        xs = np.arange(len(self.samples))/self.rate\n",
    "        plt.plot(xs,self.samples)\n",
    "        plt.show()\n",
    "        \n",
    "    # Problem 2\n",
    "    def export(self, filename):\n",
    "        \"\"\"Generate a wav file called filename from the sample rate and samples. \n",
    "        If the array of samples is not of type int16, scale it so that it is.\"\"\"\n",
    "        wavfile.write(filename, self.rate, np.int16(self.samples.real*(32767/np.max(np.abs(self.samples.real)))))\n",
    "    \n",
    "    # Problem 4\n",
    "    def __add__(self, other):\n",
    "        \"\"\"Add two sound waves together into one wave.\"\"\"\n",
    "        if len(self.samples) != len(other.samples):\n",
    "            raise ValueError('Sample length must be the same!')\n",
    "        return SoundWave(self.rate, self.samples + other.samples)\n",
    "    \n",
    "    def append(self, other):\n",
    "        \"\"\"Append additional samples to the end of the current samples.\"\"\"\n",
    "        if self.rate != other.rate:\n",
    "            raise ValueError('Sample rates must be the same!')\n",
    "        self.samples = np.hstack((self.samples, other.samples))\n",
    "        \n",
    "    # Problem 7\n",
    "    def plot_dft(self):\n",
    "        \"\"\"Take the DFT of the sound wave. Scale the x-axis so the x-values correspond\n",
    "        to the frequencies present in the plot. Display the left half of the plot.\"\"\"\n",
    "        dft = abs(fft(self.samples).real)       # Ignore the complex part.\n",
    "        N = dft.shape[0]\n",
    "        x_vals = np.linspace(1, N, N)\n",
    "        x_vals = x_vals * 44100 / N\n",
    "        end = int(len(x_vals)/2)\n",
    "        plt.plot(x_vals[:end], dft[:end])\n",
    "def generate_note(frequency, duration):\n",
    "    \"\"\"Generate an instance of the SoundWave class corresponding to \n",
    "    the desired soundwave. Uses sample rate of 44100 samples per second.\n",
    "    Parameters:\n",
    "        frequency (float): The frequency of the desired sound.\n",
    "        duration (float): The length of the desired sound in seconds.\n",
    "    Returns:\n",
    "        sound (SoundWave): An instance of the SoundWave class.\n",
    "    \"\"\"\n",
    "    duration/=1.6\n",
    "    frequency*=1\n",
    "    samplerate = 44100\n",
    "    wave_function = lambda x: np.sin(2*np.pi*x*frequency)\n",
    "    sample_points = np.linspace(0, duration, int(samplerate*duration))\n",
    "    samples = wave_function(sample_points)\n",
    "    sound = SoundWave(samplerate, samples)\n",
    "    return sound\n",
    "def make_song(notes):\n",
    "    frequency_dict = {}\n",
    "    frequency_dict['G0'] = 195.9975\n",
    "    frequency_dict['A'] = 440\n",
    "    frequency_dict['B'] = 493.88\n",
    "    frequency_dict['C'] = 523.25\n",
    "    frequency_dict['C#'] =277.18*2\n",
    "    frequency_dict['D'] = 587.33\n",
    "    frequency_dict['E'] = 659.25\n",
    "    frequency_dict['F'] = 369.994*2#698.46\n",
    "    frequency_dict['G'] = 783.99\n",
    "    frequency_dict['A1'] = 440*2\n",
    "    frequency_dict['B1'] = 493.88*2\n",
    "    frequency_dict['C1'] = 523.25*2\n",
    "    frequency_dict['D1'] = 587.33*2\n",
    "    frequency_dict['E1'] = 659.25*2\n",
    "    frequency_dict['F1'] = 369.994*4#698.46*2\n",
    "    frequency_dict['G1'] = 783.99*2\n",
    "\n",
    "    wave = np.sum([generate_note(frequency_dict[note],notes[0][-2]) for note in notes[0][:-2]])\n",
    "    wave.append(generate_note(0,notes[0][-1]))\n",
    "    for chord in notes[1:]:\n",
    "        wave.append(np.sum([generate_note(frequency_dict[note],chord[-2]) for note in chord[:-2]]))\n",
    "        wave.append(generate_note(0,chord[-1]))\n",
    "    return wave\n",
    "\n",
    "notes = [['G','D',.4,.1],['G','D',.9,.1],['D',.5,0],['G','B',.4,.1],['A1','D',1,0],['D',1,0],\n",
    "         ['B1','D',.5,0],['A1','D',.48,.02],['B1','D',.5,0],['C1','E',.48,.02],['B1','D',1,0],['A1','D',.4,.1],\n",
    "         ['B','G',.4,.1],['G','B',.5,0],['G','C#',.5,0],['D','F',.4,.1],\n",
    "         ['C#','E',.4,.1],['D','F',.5,0],['D','G',.45,.05],['D','A1',.45,.05],['D','B1',.45,.05],\n",
    "         ['D','F',1,0],['C#','E',.7,.05],['D',.2,.05],['D',1.5,.5],\n",
    "         ['D','D1',.8,.2],['E','C1',.25,0],['F','C1',.25,0],['G','B1',.45,.05],\n",
    "         ['E','C1',.5,0],['F','C1',.5,0],['G','B1',.8,.2],['D','A1',.5,0],['D','B1',.45,.05],\n",
    "         ['E','G',.5,0],['E','A1',.45,.05],['D','F',.75,0],['E',.22,.03],['D',.4,.1],\n",
    "         ['G',.45,.05],['G',.45,.05],['F',.45,.05],['G',.45,.05],['A1',.45,.05],['G',.9,.1],['D',.4,.1],\n",
    "         ['D','B1',.45,.05],['D','B1',.45,.05],['D','A1',.45,.05],['D','B1',.45,.05],['F','C1',.45,.05],\n",
    "         ['G','B1',.9,.1],['F','A1',.4,.1],['G','B1',.45,.05],\n",
    "         ['E','C1',.25,.0],['F','C1',.2,.05],['G','B1',.45,.05],['C','A1',.45,.05],\n",
    "         ['D','G',.25,.0],['G','C#',.2,.05],['F','D',.8,.2],['D','G',.5,0],['E','C1',.4,.1],\n",
    "         ['D','B1',1,0],['C','A1',.7,.05],['B','G',.2,.05],['B','G',1.2,.05]\n",
    "        ]\n",
    "song = make_song(notes)\n",
    "def play_song():\n",
    "    return IPython.display.Audio(rate=song.rate, data=song.samples, autoplay=True)"
   ]
  },
  {
   "cell_type": "code",
   "execution_count": null,
   "metadata": {},
   "outputs": [],
   "source": []
  },
  {
   "cell_type": "code",
   "execution_count": null,
   "metadata": {},
   "outputs": [],
   "source": []
  },
  {
   "cell_type": "code",
   "execution_count": 42,
   "metadata": {
    "scrolled": true
   },
   "outputs": [],
   "source": [
    "deg = 30\n",
    "dim = 2\n",
    "power = False\n",
    "polys = polyList(deg,dim,power,triangular=True)"
   ]
  },
  {
   "cell_type": "code",
   "execution_count": 43,
   "metadata": {
    "scrolled": true
   },
   "outputs": [
    {
     "name": "stdout",
     "output_type": "stream",
     "text": [
      "CPU times: user 5.87 s, sys: 149 ms, total: 6.02 s\n",
      "Wall time: 4.29 s\n"
     ]
    }
   ],
   "source": [
    "%time zerosDiv = division(polys)\n",
    "real_zeros = zerosDiv[np.sum(np.imag(zerosDiv) == 0, axis = 1) == dim]\n",
    "real_zeros = real_zeros[np.sum(np.abs(real_zeros) <= 1, axis = 1) == dim]"
   ]
  },
  {
   "cell_type": "code",
   "execution_count": null,
   "metadata": {
    "scrolled": false
   },
   "outputs": [
    {
     "name": "stdout",
     "output_type": "stream",
     "text": [
      "Interval -  [ 0.91784609  0.86047037] [ 0.93217888  0.87480316]\n",
      "Interval -  [ 0.80149611  0.91784609] [ 0.81665044  0.93217888]\n",
      "Interval -  [ 0.96006748 -0.3397914 ] [ 0.97362328 -0.32285003]\n",
      "Interval -  [ 0.78634178 -0.38275958] [ 0.79034441 -0.37875695]\n",
      "Interval -  [ 0.59161427 -0.09017936] [ 0.62279156 -0.05900207]\n",
      "Interval -  [ 0.90351329 -0.51639257] [ 0.91784609 -0.50123824]\n",
      "Interval -  [ 0.97362328 -0.90167556] [ 0.98059002 -0.89344087]\n",
      "Interval -  [ 0.44060982 -0.30682707] [ 0.47009695 -0.27564979]\n",
      "Interval -  [ 0.3799454  -0.53241552] [ 0.40943253 -0.50123824]\n"
     ]
    }
   ],
   "source": [
    "a = np.array([-1.]*dim)\n",
    "b = np.array([1.]*dim)\n",
    "%time zeros2 = solve(polys, a, b, interval_data=True, plot_intervals=False, contours=True, show_zeros=True)"
   ]
  },
  {
   "cell_type": "code",
   "execution_count": null,
   "metadata": {},
   "outputs": [],
   "source": [
    "len(zeros2), len(real_zeros)"
   ]
  },
  {
   "cell_type": "code",
   "execution_count": null,
   "metadata": {},
   "outputs": [],
   "source": [
    "len(np.unique(zeros2.round(3) , axis=0))"
   ]
  },
  {
   "cell_type": "code",
   "execution_count": null,
   "metadata": {},
   "outputs": [],
   "source": [
    "maximal_residual(polys, real_zeros)"
   ]
  },
  {
   "cell_type": "code",
   "execution_count": null,
   "metadata": {},
   "outputs": [],
   "source": [
    "maximal_residual(polys, zeros2)"
   ]
  },
  {
   "cell_type": "code",
   "execution_count": null,
   "metadata": {
    "scrolled": false
   },
   "outputs": [],
   "source": [
    "len(np.unique(np.vstack([zeros2, real_zeros]).round(3) , axis=0))"
   ]
  },
  {
   "cell_type": "code",
   "execution_count": null,
   "metadata": {},
   "outputs": [],
   "source": [
    "for curr_zero in real_zeros:\n",
    "    curr_zero = newton_polish(polys, curr_zero)\n",
    "    dist = np.min(np.linalg.norm(zeros2 - curr_zero, axis = 1))\n",
    "    if dist > .001:\n",
    "        print(curr_zero, dist)"
   ]
  },
  {
   "cell_type": "code",
   "execution_count": null,
   "metadata": {},
   "outputs": [],
   "source": []
  },
  {
   "cell_type": "code",
   "execution_count": 240,
   "metadata": {},
   "outputs": [],
   "source": [
    "a = np.array([-1.]*dim)\n",
    "b = np.array([1.]*dim)"
   ]
  },
  {
   "cell_type": "code",
   "execution_count": 254,
   "metadata": {},
   "outputs": [],
   "source": [
    "RAND = 0.5139303900908738\n",
    "diffs1 = ((b-a)*RAND)\n",
    "diffs2 = ((b-a)-(b-a)*RAND)"
   ]
  },
  {
   "cell_type": "code",
   "execution_count": 255,
   "metadata": {},
   "outputs": [
    {
     "data": {
      "text/plain": [
       "(array([ 0.13195971,  0.11088644]), array([ 0.12480602,  0.10487516]))"
      ]
     },
     "execution_count": 255,
     "metadata": {},
     "output_type": "execute_result"
    }
   ],
   "source": [
    "diffs1, diffs2"
   ]
  },
  {
   "cell_type": "code",
   "execution_count": 256,
   "metadata": {},
   "outputs": [],
   "source": [
    "# a += diffs1\n",
    "b -= diffs2\n",
    "# a[1] += diffs1[0]\n",
    "# b[0] -= diffs2[0]"
   ]
  },
  {
   "cell_type": "code",
   "execution_count": 257,
   "metadata": {},
   "outputs": [
    {
     "data": {
      "text/plain": [
       "(array([-0.47175111,  0.7842384 ]), array([-0.3397914 ,  0.89512484]))"
      ]
     },
     "execution_count": 257,
     "metadata": {},
     "output_type": "execute_result"
    }
   ],
   "source": [
    "a,b"
   ]
  },
  {
   "cell_type": "code",
   "execution_count": 262,
   "metadata": {},
   "outputs": [],
   "source": [
    "a = np.array([-0.47175111, 0.88239058])\n",
    "b = np.array([-0.46254537, 0.88893511])"
   ]
  },
  {
   "cell_type": "code",
   "execution_count": 285,
   "metadata": {
    "scrolled": false
   },
   "outputs": [
    {
     "name": "stdout",
     "output_type": "stream",
     "text": [
      "Probably bad count 0, actually bad counts 0, errors 7\n",
      "Total intervals checked was 22\n",
      "Methods used were ['constant_term_check', 'full_quad_check', 'full_cubic_check', 'linear_check', 'quadratic_check1', 'quadratic_check2', 'Division', 'Base Case']\n",
      "The percent solved by each was [  0.     0.     0.     0.    72.73   9.09  18.18   0.  ]\n"
     ]
    },
    {
     "data": {
      "image/png": "[encoded data removed]",
      "text/plain": [
       "<matplotlib.figure.Figure at 0x144bfb710>"
      ]
     },
     "metadata": {
      "needs_background": "light"
     },
     "output_type": "display_data"
    }
   ],
   "source": [
    "zeros2 = solve(polys, a, b, interval_data=True, plot_intervals=True, contours=True, show_zeros=True)"
   ]
  },
  {
   "cell_type": "code",
   "execution_count": 282,
   "metadata": {},
   "outputs": [
    {
     "data": {
      "text/plain": [
       "array([], shape=(0, 2), dtype=float64)"
      ]
     },
     "execution_count": 282,
     "metadata": {},
     "output_type": "execute_result"
    }
   ],
   "source": [
    "zeros2"
   ]
  },
  {
   "cell_type": "code",
   "execution_count": null,
   "metadata": {},
   "outputs": [],
   "source": []
  },
  {
   "cell_type": "code",
   "execution_count": null,
   "metadata": {},
   "outputs": [],
   "source": []
  },
  {
   "cell_type": "code",
   "execution_count": 250,
   "metadata": {},
   "outputs": [
    {
     "name": "stdout",
     "output_type": "stream",
     "text": [
      "Interval -  [ 0.94573468  0.28462651] [ 0.97362328  0.31759083]\n",
      "Interval -  [ 0.59161427  0.15982049] [ 0.65227869  0.2239621 ]\n",
      "Interval -  [-0.47175111 -0.3397914 ] [-0.3397914  -0.21498538]\n",
      "Interval -  [-0.53241552 -0.98106087] [-0.51639257 -0.96314845]\n",
      "Interval -  [-0.92829466 -0.53241552] [-0.86047655 -0.47175111]\n",
      "Probably bad count 0, actually bad counts 0, errors 172\n",
      "Total intervals checked was 2743\n",
      "Methods used were ['constant_term_check', 'full_quad_check', 'full_cubic_check', 'linear_check', 'quadratic_check1', 'quadratic_check2', 'Division', 'Base Case']\n",
      "The percent solved by each was [  7.62300000e+01   1.24000000e+00   7.00000000e-02   0.00000000e+00\n",
      "   1.57100000e+01   1.46000000e+00   5.29000000e+00   0.00000000e+00]\n"
     ]
    },
    {
     "data": {
      "image/png": "[encoded data removed]",
      "text/plain": [
       "<matplotlib.figure.Figure at 0x1491f9e48>"
      ]
     },
     "metadata": {
      "needs_background": "light"
     },
     "output_type": "display_data"
    },
    {
     "name": "stdout",
     "output_type": "stream",
     "text": [
      "CPU times: user 28.5 s, sys: 377 ms, total: 28.9 s\n",
      "Wall time: 20.1 s\n"
     ]
    }
   ],
   "source": [
    "a = np.array([-1.]*dim)\n",
    "b = np.array([1.]*dim)\n",
    "%time zeros2 = solve(polys, a, b, interval_data=True)"
   ]
  },
  {
   "cell_type": "code",
   "execution_count": null,
   "metadata": {},
   "outputs": [],
   "source": []
  },
  {
   "cell_type": "code",
   "execution_count": null,
   "metadata": {},
   "outputs": [],
   "source": []
  },
  {
   "cell_type": "code",
   "execution_count": 191,
   "metadata": {
    "scrolled": false
   },
   "outputs": [
    {
     "name": "stdout",
     "output_type": "stream",
     "text": [
      "Interval -  [ 0.7129431   0.97362328] [ 0.74243023  1.        ]\n",
      "Interval -  [ 0.65227869  0.86047037] [ 0.68345597  0.88835896]\n",
      "Interval -  [ 0.40943253  0.52747267] [ 0.47009695  0.59161427]\n",
      "Interval -  [ 0.99376814 -0.00699455] [  1.00000000e+00  -2.78150902e-05]\n",
      "Interval -  [ 0.88835896 -0.09017936] [ 0.91784609 -0.05900207]\n",
      "Interval -  [ 0.52088361 -0.9902666 ] [ 0.52747267 -0.98106087]\n",
      "Interval -  [-0.37096868  0.72809743] [-0.35494573  0.74243023]\n",
      "Interval -  [-0.9902666   0.32582552] [-0.98106087  0.33361379]\n",
      "Interval -  [-0.02951494 -0.59655713] [ 0.02786078 -0.53241552]\n",
      "Interval -  [-0.94523603 -0.09017936] [-0.92829466 -0.0741564 ]\n",
      "Probably bad count 2, actually bad counts 0, errors 775\n",
      "Total intervals checked was 8737\n",
      "Methods used were ['constant_term_check', 'full_quad_check', 'full_cubic_check', 'linear_check', 'quadratic_check1', 'quadratic_check2', 'Division', 'Base Case']\n",
      "The percent solved by each was [ 65.38   2.25   0.41   0.    22.51   2.68   6.76   0.  ]\n"
     ]
    },
    {
     "data": {
      "image/png": "[encoded data removed]",
      "text/plain": [
       "<matplotlib.figure.Figure at 0x138b90c18>"
      ]
     },
     "metadata": {
      "needs_background": "light"
     },
     "output_type": "display_data"
    },
    {
     "name": "stdout",
     "output_type": "stream",
     "text": [
      "CPU times: user 1min 46s, sys: 1.5 s, total: 1min 47s\n",
      "Wall time: 1min 10s\n"
     ]
    }
   ],
   "source": [
    "a = np.array([-1.]*dim)\n",
    "b = np.array([1.]*dim)\n",
    "%time zeros2 = solve(polys, a, b, interval_data=True)"
   ]
  },
  {
   "cell_type": "code",
   "execution_count": null,
   "metadata": {},
   "outputs": [],
   "source": []
  },
  {
   "cell_type": "code",
   "execution_count": null,
   "metadata": {},
   "outputs": [],
   "source": []
  },
  {
   "cell_type": "code",
   "execution_count": 36,
   "metadata": {},
   "outputs": [
    {
     "data": {
      "text/plain": [
       "array([[ 0.84517602+0.j,  0.93007408+0.j],\n",
       "       [ 0.68925331-0.j,  0.69474547-0.j],\n",
       "       [ 0.89963358-0.j, -1.03662101-0.j]])"
      ]
     },
     "execution_count": 36,
     "metadata": {},
     "output_type": "execute_result"
    }
   ],
   "source": [
    "real_zeros"
   ]
  },
  {
   "cell_type": "code",
   "execution_count": 19,
   "metadata": {
    "scrolled": false
   },
   "outputs": [
    {
     "name": "stdout",
     "output_type": "stream",
     "text": [
      "CPU times: user 9.97 s, sys: 168 ms, total: 10.1 s\n",
      "Wall time: 10.3 s\n"
     ]
    },
    {
     "data": {
      "text/plain": [
       "array([[ 0.84522619,  0.93008168],\n",
       "       [ 0.845164  ,  0.93005012],\n",
       "       [ 0.68932316,  0.69478304],\n",
       "       [ 0.68925148,  0.69472612],\n",
       "       [ 0.68924899,  0.69485244],\n",
       "       [ 0.89962901, -1.03661325]])"
      ]
     },
     "execution_count": 19,
     "metadata": {},
     "output_type": "execute_result"
    }
   ],
   "source": [
    "a = np.array([-1.1]*dim)\n",
    "b = np.array([1.]*dim)\n",
    "%time zeros = solve(polys, a, b, interval_data=False)\n",
    "zeros"
   ]
  },
  {
   "cell_type": "code",
   "execution_count": 6,
   "metadata": {},
   "outputs": [],
   "source": [
    "dim = 2\n",
    "def f(vec):\n",
    "    x,y = vec\n",
    "    return np.sin(x*y) + (y+3)*x - x**2 + 1/(y-4)\n",
    "def g(vec):\n",
    "    x,y = vec\n",
    "    return np.cos(3*x*y) + np.exp(1/(y+3)/(x-2)) - x + 1\n",
    "\n",
    "def func(vec):\n",
    "    return np.array([f(vec), g(vec)])\n",
    "\n",
    "def f_vec(vec):\n",
    "    x = vec[:,0]\n",
    "    y = vec[:,1]\n",
    "    return np.sin(x*y) + np.log(y+3)*x - x**2 + 1/(y-4)\n",
    "def g_vec(vec):\n",
    "    x = vec[:,0]\n",
    "    y = vec[:,1]\n",
    "    return np.cos(3*x*y) + np.exp(3*y/(x-2)) - x - 5\n",
    "\n",
    "a = np.array([-1.1]*dim)\n",
    "b = np.array([1.]*dim)"
   ]
  },
  {
   "cell_type": "code",
   "execution_count": 7,
   "metadata": {},
   "outputs": [
    {
     "name": "stdout",
     "output_type": "stream",
     "text": [
      "Total intervals checked was 91\n",
      "Methods used were ['constant_term_check', 'full_quad_check', 'Division']\n",
      "The percent solved by each was [ 97.8   2.2   0. ]\n"
     ]
    },
    {
     "data": {
      "image/png": "[encoded data removed]",
      "text/plain": [
       "<matplotlib.figure.Figure at 0x108c44898>"
      ]
     },
     "metadata": {
      "needs_background": "light"
     },
     "output_type": "display_data"
    },
    {
     "data": {
      "text/plain": [
       "array([], shape=(0, 2), dtype=float64)"
      ]
     },
     "execution_count": 7,
     "metadata": {},
     "output_type": "execute_result"
    }
   ],
   "source": [
    "solve([f_vec,g_vec], a, b, interval_data=True)"
   ]
  },
  {
   "cell_type": "code",
   "execution_count": 11,
   "metadata": {},
   "outputs": [],
   "source": [
    "from scipy.optimize import root, fsolve"
   ]
  },
  {
   "cell_type": "code",
   "execution_count": 12,
   "metadata": {},
   "outputs": [
    {
     "data": {
      "text/plain": [
       "array([ 0.82526149, -1.0259503 ])"
      ]
     },
     "execution_count": 12,
     "metadata": {},
     "output_type": "execute_result"
    }
   ],
   "source": [
    "zero = fsolve(func, np.array([0,0]))\n",
    "zero"
   ]
  },
  {
   "cell_type": "code",
   "execution_count": 13,
   "metadata": {},
   "outputs": [
    {
     "data": {
      "text/plain": [
       "(-6.4129257459910605e-13, -1.290967333034132e-12)"
      ]
     },
     "execution_count": 13,
     "metadata": {},
     "output_type": "execute_result"
    }
   ],
   "source": [
    "f(zero),g(zero)"
   ]
  },
  {
   "cell_type": "code",
   "execution_count": null,
   "metadata": {},
   "outputs": [],
   "source": []
  },
  {
   "cell_type": "code",
   "execution_count": null,
   "metadata": {},
   "outputs": [],
   "source": [
    "def pick_stable_dim(coeffs, tol = 1.e-5):\n",
    "    dimension = coeffs[0].ndim\n",
    "    \n",
    "    for dim in range(dimension):\n",
    "        corner_spots = []\n",
    "        for i in range(dimension):\n",
    "            corner_spots.append([])\n",
    "        \n",
    "        for coeff in coeffs:\n",
    "            spot = [0]*dimension\n",
    "            for dim2 in range(dimension):\n",
    "                if dim != dim2:\n",
    "                    spot[dim2] = coeff.shape[dim2] - 1\n",
    "                    corner_spots[dim2].append(coeff[tuple(spot)])\n",
    "                    spot[dim2] = 0 \n",
    "                else:\n",
    "                    spot[dim2] = 0\n",
    "                    corner_spots[dim2].append(coeff[tuple(spot)])\n",
    "                \n",
    "        for perm in itertools.permutations(np.arange(dimension)):\n",
    "            valid = True\n",
    "            for i,j in enumerate(perm):\n",
    "                if np.abs(corner_spots[i][j]) < tol:\n",
    "                    valid = False\n",
    "                    break\n",
    "            if valid:\n",
    "                return dim\n",
    "    return -1"
   ]
  },
  {
   "cell_type": "code",
   "execution_count": null,
   "metadata": {},
   "outputs": [],
   "source": [
    "from numalgsolve.subdivision import mon_combos_limited\n",
    "\n",
    "def trim_coeffs(coeffs, tol=1.e-3):\n",
    "    \"\"\"Trim the coefficient matrices so they are stable and choose a direction to divide in.\n",
    "\n",
    "    Parameters\n",
    "    ----------\n",
    "    coeffs : list\n",
    "        The coefficient matrices of the Chebyshev polynomials we are solving.\n",
    "\n",
    "    Returns\n",
    "    -------\n",
    "    polys : list\n",
    "        The reduced degree Chebyshev polynomials\n",
    "    divisor_var : int\n",
    "        What direction to do the division in to be stable. -1 means we should subdivide.\n",
    "    \"\"\"\n",
    "    dim = coeffs[0].ndim\n",
    "    error = 0\n",
    "    degrees = [np.sum(coeffs[0].shape)-dim]*dim\n",
    "    first_time = True\n",
    "    \n",
    "    while True:\n",
    "        changed = False\n",
    "        for num, coeff in enumerate(coeffs):\n",
    "            deg = degrees[num]\n",
    "            mons = mon_combos_limited([0]*dim,deg,coeff.shape)\n",
    "            slices = []\n",
    "            mons = np.array(mons).T\n",
    "            for i in range(dim):\n",
    "                slices.append(mons[i])\n",
    "            \n",
    "            slice_error = np.sum(np.abs(coeff[slices]))\n",
    "            if error + slice_error < tol:\n",
    "                coeff[slices] = 0\n",
    "                changed = True\n",
    "        if not changed and not first_time:\n",
    "            return [], -1\n",
    "        d = pick_stable_dim(coeffs)\n",
    "        if d >= 0:\n",
    "            polys = []\n",
    "            for coeff in coeffs:\n",
    "                polys.append(MultiCheb(coeff))\n",
    "            return polys, d\n",
    "        \n",
    "        first_time = False"
   ]
  },
  {
   "cell_type": "code",
   "execution_count": null,
   "metadata": {},
   "outputs": [],
   "source": [
    "a = np.arange(16).reshape(4,4)\n",
    "b = np.arange(25).reshape(5,5)\n",
    "a[0,0] = -1\n",
    "pick_stable_dim([a,b])"
   ]
  },
  {
   "cell_type": "code",
   "execution_count": null,
   "metadata": {},
   "outputs": [],
   "source": [
    "trim_coeffs([a,b])"
   ]
  },
  {
   "cell_type": "code",
   "execution_count": null,
   "metadata": {},
   "outputs": [],
   "source": [
    "b"
   ]
  },
  {
   "cell_type": "code",
   "execution_count": null,
   "metadata": {},
   "outputs": [],
   "source": [
    "dim = a.ndim\n",
    "deg = np.sum(a.shape)-dim\n",
    "mon_combos_limited([0]*2,deg,a.shape)"
   ]
  },
  {
   "cell_type": "code",
   "execution_count": null,
   "metadata": {},
   "outputs": [],
   "source": []
  },
  {
   "cell_type": "code",
   "execution_count": null,
   "metadata": {},
   "outputs": [],
   "source": []
  },
  {
   "cell_type": "code",
   "execution_count": null,
   "metadata": {},
   "outputs": [],
   "source": []
  },
  {
   "cell_type": "code",
   "execution_count": null,
   "metadata": {},
   "outputs": [],
   "source": []
  },
  {
   "cell_type": "code",
   "execution_count": null,
   "metadata": {},
   "outputs": [],
   "source": [
    "def linear_check(test_coeff_in, intervals):\n",
    "    \"\"\"Quick check of zeros in intervals.\n",
    "    \n",
    "    Parameters\n",
    "    ----------\n",
    "    test_coeff_in : numpy array\n",
    "        The coefficient matrix of the polynomial to check\n",
    "    intervals : list\n",
    "        A list of the intervals we want to check before subdividing them\n",
    "\n",
    "    Returns\n",
    "    -------\n",
    "    mask : list\n",
    "        Masks out the intervals we don't want\n",
    "    \"\"\"\n",
    "    mask = []\n",
    "    for interval in intervals:\n",
    "        test_coeff = test_coeff_in.copy()\n",
    "        \n",
    "        a,b = interval\n",
    "        spot = [0]*len(a)\n",
    "        neg_most_corner = test_coeff[tuple(spot)]\n",
    "        test_coeff[tuple(spot)] = 0\n",
    "        for dim in range(len(a)):\n",
    "            spot[dim] = 1\n",
    "            neg_most_corner += a[dim]*test_coeff[tuple(spot)]\n",
    "            spot[dim] = 0\n",
    "        \n",
    "        lin_min = neg_most_corner\n",
    "        for dim in range(len(a)):\n",
    "            spot[dim] = 1\n",
    "            if np.sign(test_coeff[tuple(spot)])*np.sign(neg_most_corner) < 0:\n",
    "                lin_min += (b[dim] - a[dim]) * test_coeff[tuple(spot)]\n",
    "            test_coeff[tuple(spot)] = 0\n",
    "            spot[dim] = 0\n",
    "        \n",
    "        if np.sign(lin_min)*np.sign(neg_most_corner) < 0:\n",
    "            mask.append(True)\n",
    "        elif np.sum(np.abs(test_coeff)) >= np.abs(neg_most_corner):\n",
    "            mask.append(True)\n",
    "        else:\n",
    "            mask.append(False)\n",
    "    return mask"
   ]
  },
  {
   "cell_type": "code",
   "execution_count": null,
   "metadata": {},
   "outputs": [],
   "source": [
    "from numalgsolve.subdivision import get_subintervals, inv_transform, transform, interval_approximate_nd\n",
    "a = np.array([-1., -1.])\n",
    "b = np.array([1., 1.])\n",
    "\n",
    "\n",
    "polyTest = polyList(20,2,power=True,triangular=True)[0]\n",
    "test_coeff = np.abs(interval_approximate_nd(polyTest, a, b, np.array([20, 20])))\n",
    "\n",
    "\n",
    "intervals = get_subintervals(a,b,np.arange(dim),None,None)"
   ]
  },
  {
   "cell_type": "code",
   "execution_count": null,
   "metadata": {},
   "outputs": [],
   "source": [
    "linear_check(test_coeff, intervals)"
   ]
  },
  {
   "cell_type": "code",
   "execution_count": null,
   "metadata": {},
   "outputs": [],
   "source": []
  },
  {
   "cell_type": "code",
   "execution_count": null,
   "metadata": {},
   "outputs": [],
   "source": []
  },
  {
   "cell_type": "code",
   "execution_count": null,
   "metadata": {},
   "outputs": [],
   "source": []
  },
  {
   "cell_type": "code",
   "execution_count": null,
   "metadata": {},
   "outputs": [],
   "source": [
    "from numalgsolve.subdivision import interval_approximate_nd\n",
    "data1 = []\n",
    "data2 = []\n",
    "data3 = []\n",
    "data_all = []\n",
    "for iter in range(100):\n",
    "    polyTest = polyList(20,2,power=True,triangular=True)[0]\n",
    "    n = 10\n",
    "    x = np.linspace(-1,1,n)\n",
    "    y = np.linspace(-1,1,n)\n",
    "    degree_interp = np.array([10]*2)\n",
    "    count = 0\n",
    "    count1 = 0\n",
    "    count2 = 0\n",
    "    count3 = 0\n",
    "    count_all = 0\n",
    "    for i in range(len(x) - 1):\n",
    "        for j in range(len(y) - 1):\n",
    "            a = np.array([x[i], y[i]])\n",
    "            b = np.array([x[j+1], y[j+1]])\n",
    "            coeffs = np.abs(interval_approximate_nd(polyTest, a, b, degree_interp))\n",
    "            if not check1(coeffs):\n",
    "                count1+=1\n",
    "            if not check2(coeffs):\n",
    "                count2+=1\n",
    "            if not check3(coeffs):\n",
    "                count3+=1\n",
    "            if not check1(coeffs) or not check2(coeffs) or not check3(coeffs):\n",
    "                count_all+=1\n",
    "            count+=1\n",
    "    data1.append(count1/count)\n",
    "    data2.append(count2/count)\n",
    "    data3.append(count3/count)\n",
    "    data_all.append(count_all/count)\n",
    "np.average(data1), np.average(data2), np.average(data3), np.average(data_all)"
   ]
  },
  {
   "cell_type": "code",
   "execution_count": null,
   "metadata": {},
   "outputs": [],
   "source": [
    "%timeit check1(coeffs)\n",
    "%timeit check2(coeffs)\n",
    "%timeit check3(coeffs)"
   ]
  },
  {
   "cell_type": "code",
   "execution_count": null,
   "metadata": {},
   "outputs": [],
   "source": []
  },
  {
   "cell_type": "code",
   "execution_count": null,
   "metadata": {},
   "outputs": [],
   "source": [
    "def ext_val3(test_coeff, maxx = True):\n",
    "    a,b,c = test_coeff\n",
    "    \"\"\"Absolute value of max or min of a + bx + c(2x^2 - 1) on -1 to 1\"\"\"\n",
    "    if np.abs(c) < 1.e-10:\n",
    "        if maxx:\n",
    "            return abs(a) + abs(b)\n",
    "        else:\n",
    "            if abs(b) > abs(a):\n",
    "                return 0\n",
    "            else:\n",
    "                return abs(a) - abs(b)\n",
    "    else:\n",
    "        vals = [a - b + c, a + b + c] #at +-1\n",
    "        if np.abs(b/c) < 4:\n",
    "            vals.append(a - b**2/(8*c) - c) #at -b/(4c)\n",
    "        if maxx:\n",
    "            return max(np.abs(vals))\n",
    "        else:\n",
    "            vals = np.array(vals)\n",
    "            if np.any(vals > 0) and np.any(vals < 0):\n",
    "                return 0\n",
    "            else:\n",
    "                return min(np.abs(vals))\n",
    "        \n",
    "def ext_val4(test_coeff, maxx = True):\n",
    "    a,b,c,d = test_coeff\n",
    "    \"\"\"Absolute value of max or min of a + bx + c(2x^2 - 1) + d*(4x^3 - 3x) on -1 to 1\"\"\"\n",
    "    if np.abs(d) < 1.e-10:\n",
    "        return ext_val3([a,b,c], maxx = maxx)\n",
    "    else:\n",
    "        vals = [a - b + c - d, a + b + c + d] #at +-1\n",
    "        \n",
    "        #The quadratic roots\n",
    "        if 16*c**2 >= 48*d*(b-3*d):\n",
    "            x1 = (-4*c + np.sqrt(16*c**2 - 48*d*(b-3*d))) / (24*d)\n",
    "            x2 = (-4*c - np.sqrt(16*c**2 - 48*d*(b-3*d))) / (24*d)\n",
    "            if np.abs(x1) < 1:\n",
    "                vals.append(a + b*x1 + c*(2*x1**2 - 1) + d*(4*x1**3 - 3*x1))\n",
    "            if np.abs(x2) < 1:\n",
    "                vals.append(a + b*x2 + c*(2*x2**2 - 1) + d*(4*x2**3 - 3*x2))\n",
    "        if maxx:\n",
    "            return max(np.abs(vals))\n",
    "        else:\n",
    "            vals = np.array(vals)\n",
    "            if np.any(vals > 0) and np.any(vals < 0):\n",
    "                return 0\n",
    "            else:\n",
    "                return min(np.abs(vals))\n",
    "\n",
    "def constant_term_check(test_coeff):\n",
    "    \"\"\"Quick check of zeros in the unit box.\n",
    "    \n",
    "    Checks if the constant term is bigger than all the other terms combined, using the fact that\n",
    "    each Chebyshev monomial is bounded by 1.\n",
    "\n",
    "    Parameters\n",
    "    ----------\n",
    "    coeff : numpy array\n",
    "        The coefficient matrix of the polynomial to check\n",
    "    \n",
    "    Returns\n",
    "    -------\n",
    "    check1 : bool\n",
    "        False if there are no zeros in the unit box, True otherwise\n",
    "    \"\"\"\n",
    "    test_sum = np.sum(np.abs(test_coeff))\n",
    "    if np.abs(test_coeff.flatten()[0]) * 2 > test_sum:\n",
    "        return False\n",
    "    else:\n",
    "        return True\n",
    "\n",
    "def quad_check(test_coeff):\n",
    "    \"\"\"Quick check of zeros in the unit box.\n",
    "        \n",
    "    Parameters\n",
    "    ----------\n",
    "    test_coeff : numpy array\n",
    "        The coefficient matrix of the polynomial to check\n",
    "    \n",
    "    Returns\n",
    "    -------\n",
    "    quad_check : bool\n",
    "        False if there are no zeros in the unit box, True otherwise\n",
    "    \"\"\"\n",
    "    dim = test_coeff.ndim\n",
    "    slices = []\n",
    "    slices.append(slice(0,3))\n",
    "    slice_direc = 0\n",
    "    for i in range(dim-1):\n",
    "        slices.append(0)\n",
    "\n",
    "    start = ext_val3(test_coeff[slices], maxx = False)\n",
    "    rest = 0\n",
    "\n",
    "    shape = list(test_coeff.shape)\n",
    "    shape[slice_direc] = 1\n",
    "    for spots in itertools.product(*[np.arange(i) for i in shape]):\n",
    "        if sum(spots) > 0:\n",
    "            for i in range(1, dim):\n",
    "                slices[i] = spots[i]\n",
    "            rest += ext_val3(test_coeff[slices], maxx = False)\n",
    "\n",
    "    while slice_direc < dim - 1:\n",
    "        slice_direc += 1\n",
    "        slices[slice_direc] = slice(0,3)\n",
    "\n",
    "        shape = np.array(test_coeff.shape)\n",
    "        shape[slice_direc] = 1\n",
    "        shape_diff = np.zeros_like(shape)\n",
    "        for i in range(slice_direc):\n",
    "            shape_diff[i] = 3\n",
    "        shape -= shape_diff\n",
    "        for spots in itertools.product(*[np.arange(i) for i in shape]):\n",
    "            spots += shape_diff\n",
    "            for i in range(dim):\n",
    "                if i != slice_direc:\n",
    "                    slices[i] = spots[i]\n",
    "            rest += ext_val3(test_coeff[slices], maxx = False)\n",
    "\n",
    "    if start > rest:\n",
    "        return False\n",
    "    else:\n",
    "        return True\n",
    "\n",
    "def cubic_check(test_coeff):\n",
    "    \"\"\"Quick check of zeros in the unit box.\n",
    "        \n",
    "    Parameters\n",
    "    ----------\n",
    "    test_coeff : numpy array\n",
    "        The coefficient matrix of the polynomial to check\n",
    "    \n",
    "    Returns\n",
    "    -------\n",
    "    cubic_check : bool\n",
    "        False if there are no zeros in the unit box, True otherwise\n",
    "    \"\"\"\n",
    "    dim = test_coeff.ndim\n",
    "    slices = []\n",
    "    slices.append(slice(0,4))\n",
    "    slice_direc = 0\n",
    "    for i in range(dim-1):\n",
    "        slices.append(0)\n",
    "\n",
    "    start = ext_val4(test_coeff[slices], maxx = False)\n",
    "    rest = 0\n",
    "\n",
    "    shape = list(test_coeff.shape)\n",
    "    shape[slice_direc] = 1\n",
    "    for spots in itertools.product(*[np.arange(i) for i in shape]):\n",
    "        if sum(spots) > 0:\n",
    "            for i in range(1, dim):\n",
    "                slices[i] = spots[i]\n",
    "            rest += ext_val4(test_coeff[slices], maxx = False)\n",
    "\n",
    "    while slice_direc < dim - 1:\n",
    "        slice_direc += 1\n",
    "        slices[slice_direc] = slice(0,4)\n",
    "\n",
    "        shape = np.array(test_coeff.shape)\n",
    "        shape[slice_direc] = 1\n",
    "        shape_diff = np.zeros_like(shape)\n",
    "        for i in range(slice_direc):\n",
    "            shape_diff[i] = 4\n",
    "        shape -= shape_diff\n",
    "        for spots in itertools.product(*[np.arange(i) for i in shape]):\n",
    "            spots += shape_diff\n",
    "            for i in range(dim):\n",
    "                if i != slice_direc:\n",
    "                    slices[i] = spots[i]\n",
    "            rest += ext_val4(test_coeff[slices], maxx = False)\n",
    "\n",
    "    if start > rest:\n",
    "        return False\n",
    "    else:\n",
    "        return True\n",
    "\n",
    "def full_quad_check(test_coeff):\n",
    "    \"\"\"Quick check of zeros in the unit box.\n",
    "        \n",
    "    Parameters\n",
    "    ----------\n",
    "    test_coeff : numpy array\n",
    "        The coefficient matrix of the polynomial to check\n",
    "    \n",
    "    Returns\n",
    "    -------\n",
    "    full_quad_check : bool\n",
    "        False if there are no zeros in the unit box, True otherwise\n",
    "    \"\"\"\n",
    "    for perm in itertools.permutations(np.arange(test_coeff.ndim)):\n",
    "        if not quad_check(test_coeff.transpose(perm)):\n",
    "            return False\n",
    "    return True\n",
    "\n",
    "def full_cubic_check(test_coeff):\n",
    "    \"\"\"Quick check of zeros in the unit box.\n",
    "        \n",
    "    Parameters\n",
    "    ----------\n",
    "    test_coeff : numpy array\n",
    "        The coefficient matrix of the polynomial to check\n",
    "    \n",
    "    Returns\n",
    "    -------\n",
    "    full_quad_check : bool\n",
    "        False if there are no zeros in the unit box, True otherwise\n",
    "    \"\"\"\n",
    "    for perm in itertools.permutations(np.arange(test_coeff.ndim)):\n",
    "        if not cubic_check(test_coeff.transpose(perm)):\n",
    "            return False\n",
    "    return True"
   ]
  },
  {
   "cell_type": "code",
   "execution_count": null,
   "metadata": {},
   "outputs": [],
   "source": [
    "%timeit constant_term_check(test_coeff)\n",
    "%timeit quad_check(test_coeff)\n",
    "%timeit cubic_check(test_coeff)\n",
    "%timeit full_quad_check(test_coeff)\n",
    "%timeit full_cubic_check(test_coeff)"
   ]
  },
  {
   "cell_type": "code",
   "execution_count": null,
   "metadata": {},
   "outputs": [],
   "source": []
  },
  {
   "cell_type": "code",
   "execution_count": null,
   "metadata": {},
   "outputs": [],
   "source": []
  },
  {
   "cell_type": "code",
   "execution_count": null,
   "metadata": {},
   "outputs": [],
   "source": []
  },
  {
   "cell_type": "code",
   "execution_count": null,
   "metadata": {},
   "outputs": [],
   "source": [
    "from scipy.linalg import solve_triangular\n",
    "from numalgsolve.polyroots import get_var_list\n",
    "from numalgsolve.Multiplication import _random_poly\n",
    "from numalgsolve.MacaulayReduce import find_degree\n",
    "from numalgsolve.Multiplication import MSMultMatrix, MacaulayReduction, makeBasisDict\n",
    "from numalgsolve.utils import slice_top\n",
    "import scipy\n",
    "from scipy import linalg\n",
    "import math\n",
    "\n",
    "def all_shifts0(polys, matrix_degree):\n",
    "    shifts = dict()\n",
    "    min_degree = np.min([poly.degree for poly in polys])\n",
    "    for i in range(min_degree,matrix_degree+1):\n",
    "        shifts[i] = list()\n",
    "    for poly in polys:\n",
    "        degree = matrix_degree - poly.degree\n",
    "        dim = poly.dim\n",
    "        mons = mon_combos([0]*dim,degree)\n",
    "        for mon in mons:\n",
    "            shifts[np.sum(mon)+poly.degree].append(tuple([poly,mon]))\n",
    "    return shifts\n",
    "\n",
    "def all_shifts(polys, matrix_degree):\n",
    "    shifts = dict()\n",
    "    min_degree = np.min([poly.degree for poly in polys])\n",
    "    for i in range(min_degree,matrix_degree+1):\n",
    "        shifts[i] = list()\n",
    "    for poly in polys:\n",
    "        degree = matrix_degree - poly.degree\n",
    "        dim = poly.dim\n",
    "        mons = mon_combos([0]*dim,degree)\n",
    "        for mon in mons:\n",
    "            shifts[np.sum(mon)+poly.degree].append(tuple([poly,mon]))\n",
    "    \n",
    "    flat_shifts = list()\n",
    "    for i in shifts.keys():\n",
    "        flat_shifts += list(shifts[i])\n",
    "    \n",
    "    return flat_shifts\n",
    "\n",
    "def null(A, eps=1e-12):\n",
    "    u, s, vh = scipy.linalg.svd(A)\n",
    "    padding = max(0,np.shape(A)[1]-np.shape(s)[0])\n",
    "    null_mask = np.concatenate(((s <= eps*s[0]), np.ones((padding,),dtype=bool)),axis=0)\n",
    "    null_space = scipy.compress(null_mask, vh, axis=0)\n",
    "    return scipy.transpose(null_space)\n",
    "\n",
    "def new_terms(coeffs, old_term_set):\n",
    "    new_term_set = set()\n",
    "    for coeff in coeffs:\n",
    "        for term in zip(*np.where(coeff!=0)):\n",
    "            if term not in old_term_set:\n",
    "                new_term_set.add(tuple(term))\n",
    "    if len(new_term_set)==0:\n",
    "        return None\n",
    "    else:\n",
    "        return np.vstack(new_term_set)\n",
    "\n",
    "def matrix_mult1(A,B):\n",
    "    return A@B\n",
    "\n",
    "def matrix_mult2(A,B):\n",
    "    return A@B\n",
    "    \n",
    "def null_reduce(N,shifts,old_matrix_terms,bigShape):\n",
    "    old_term_set = set()\n",
    "    for term in old_matrix_terms:\n",
    "        old_term_set.add(tuple(term))\n",
    "    coeffs = list()\n",
    "    for poly,shift in shifts:\n",
    "        coeffs.append(poly.mon_mult(shift,returnType = 'Matrix'))\n",
    "\n",
    "    new_matrix_terms = new_terms(coeffs, old_term_set)\n",
    "    \n",
    "    if new_matrix_terms is None:\n",
    "        matrix_terms = old_matrix_terms\n",
    "\n",
    "        old_matrix_term_indexes = list()\n",
    "        for row in old_matrix_terms.T:\n",
    "            old_matrix_term_indexes.append(row)\n",
    "\n",
    "        #Adds the poly_coeffs to flat_polys, using added_zeros to make sure every term is in there.\n",
    "        added_zeros = np.zeros(bigShape)\n",
    "        old_flat_polys = list()\n",
    "        for coeff in coeffs:\n",
    "            slices = slice_top(coeff)\n",
    "            added_zeros[slices] = coeff\n",
    "            old_flat_polys.append(added_zeros[old_matrix_term_indexes])\n",
    "            added_zeros[slices] = np.zeros_like(coeff)\n",
    "\n",
    "        R1 = np.reshape(old_flat_polys, (len(old_flat_polys),len(old_matrix_terms)))\n",
    "\n",
    "        X = matrix_mult1(R1,N)\n",
    "        if np.max(np.abs(X)) < 1.e-10: #N is still a valid null space\n",
    "            return N, matrix_terms\n",
    "        else:\n",
    "            K = null(X)\n",
    "            N = matrix_mult2(N,K)\n",
    "            return N, matrix_terms\n",
    "    else:\n",
    "        matrix_terms = np.vstack([old_matrix_terms, new_matrix_terms])\n",
    "\n",
    "        new_matrix_term_indexes = list()\n",
    "        old_matrix_term_indexes = list()\n",
    "        for row in new_matrix_terms.T:\n",
    "            new_matrix_term_indexes.append(row)\n",
    "        for row in old_matrix_terms.T:\n",
    "            old_matrix_term_indexes.append(row)\n",
    "\n",
    "        #Adds the poly_coeffs to flat_polys, using added_zeros to make sure every term is in there.\n",
    "        added_zeros = np.zeros(bigShape)\n",
    "        new_flat_polys = list()\n",
    "        old_flat_polys = list()\n",
    "        for coeff in coeffs:\n",
    "            slices = slice_top(coeff)\n",
    "            added_zeros[slices] = coeff\n",
    "            new_flat_polys.append(added_zeros[new_matrix_term_indexes])\n",
    "            old_flat_polys.append(added_zeros[old_matrix_term_indexes])\n",
    "            added_zeros[slices] = np.zeros_like(coeff)\n",
    "\n",
    "        R1 = np.reshape(old_flat_polys, (len(old_flat_polys),len(old_matrix_terms)))\n",
    "        R2 = np.reshape(new_flat_polys, (len(new_flat_polys),len(new_matrix_terms)))\n",
    "        \n",
    "        X = np.hstack([matrix_mult1(R1,N),R2])\n",
    "        K = null(X)\n",
    "        \n",
    "        cut = N.shape[1]\n",
    "        K1 = K[:cut]\n",
    "        K2 = K[cut:]\n",
    "        N = np.vstack([matrix_mult2(N,K1),K2])\n",
    "        \n",
    "        return N, matrix_terms\n",
    "\n",
    "def fast_null(polys, max_shifts = 700):\n",
    "    matrix_degree = find_degree(polys)\n",
    "    dim = polys[0].dim\n",
    "    bigShape = [matrix_degree+1]*dim\n",
    "    \n",
    "    shifts = all_shifts0(polys, matrix_degree)\n",
    "    degs = list(shifts.keys())\n",
    "        \n",
    "    initial_shifts = shifts[degs[0]]\n",
    "    initial_coeffs = list()\n",
    "    for poly,shift in initial_shifts:\n",
    "        initial_coeffs.append(poly.mon_mult(shift,returnType = 'Matrix'))\n",
    "\n",
    "    matrix, matrix_terms, cuts = MSMultMatrix(initial_coeffs, degs[0], dim)\n",
    "    N = null(matrix)\n",
    "    #print(degs[-1])\n",
    "    degs = degs[1:]\n",
    "    spot = 0\n",
    "    while spot < len(degs):\n",
    "        deg = degs[spot]\n",
    "        new_shifts = shifts[deg]\n",
    "        #print(deg,len(new_shifts))\n",
    "        if len(new_shifts) < max_shifts:\n",
    "            if spot < len(degs)-1:\n",
    "                while len(new_shifts)+len(shifts[degs[spot+1]]) < max_shifts:\n",
    "                    spot += 1\n",
    "                    new_shifts += shifts[degs[spot]]\n",
    "                    if spot == len(degs)-1:\n",
    "                        break\n",
    "            N,matrix_terms = null_reduce(N,new_shifts,matrix_terms,bigShape)\n",
    "        else:\n",
    "            for i in range(math.ceil(len(new_shifts)/max_shifts)):\n",
    "                current_shifts = new_shifts[i*max_shifts:(i+1)*max_shifts]\n",
    "                N,matrix_terms = null_reduce(N,current_shifts,matrix_terms,bigShape)\n",
    "        spot += 1\n",
    "    \n",
    "    return N, matrix_terms, matrix_degree\n",
    "\n",
    "def fast_TVB_solve(polys,max_shifts=700):\n",
    "    N, matrix_terms, matrix_degree = fast_null(polys,max_shifts=max_shifts)\n",
    "    dim = matrix_terms.shape[1]\n",
    "    degs = np.sum(matrix_terms,axis=1)\n",
    "    max_deg = np.max(degs)\n",
    "    order = np.argsort(degs)\n",
    "    N = N[order]\n",
    "    matrix_terms = matrix_terms[order]\n",
    "            \n",
    "    degs = np.sum(matrix_terms,axis=1)\n",
    "    cut1 = dim+1\n",
    "    cut2 = len(matrix_terms) - len(np.where(degs == degs[-1])[0])\n",
    "    #cut1 = len(np.where(degs == degs[0])[0])\n",
    "    #cut2 = len(matrix_terms) - dim - 1\n",
    "    cuts = tuple((cut1,cut2))\n",
    "        \n",
    "    NT, matrix_terms = rrqr_reduceTelenVanBarel2(N.T,matrix_terms,cuts)\n",
    "    \n",
    "    height = NT.shape[0]\n",
    "    X = -solve_triangular(NT[:,:height],NT[:,height:]).T\n",
    "    n,m = X.shape\n",
    "    matrix = np.hstack((np.eye(n),X))\n",
    "        \n",
    "    #print(matrix)\n",
    "    matrix_terms = np.vstack((matrix_terms[m:],matrix_terms[:m]))\n",
    "    \n",
    "    VB = matrix_terms[n:]\n",
    "    basisDict = makeBasisDict(matrix, matrix_terms, VB, True)\n",
    "        \n",
    "    return basisDict, VB, matrix_degree\n",
    "\n",
    "def TVBMultMatrix(polys,max_shifts=700, poly_type=\"MultiPower\"):\n",
    "    basisDict, VB, degree = fast_TVB_solve(polys,max_shifts=max_shifts)\n",
    "        \n",
    "    dim = max(f.dim for f in polys)\n",
    "\n",
    "    # Get random polynomial f\n",
    "    f = _random_poly(poly_type, dim)[0]\n",
    "    \n",
    "    #Dictionary of terms in the vector basis their spots in the matrix.\n",
    "    VBdict = {}\n",
    "    spot = 0\n",
    "    for row in VB:\n",
    "        VBdict[tuple(row)] = spot\n",
    "        spot+=1\n",
    "    \n",
    "    # Build multiplication matrix m_f\n",
    "    mMatrix = np.zeros((len(VB), len(VB)))\n",
    "    for i in range(VB.shape[0]):\n",
    "        #print(\"current - {}\".format(VB[i]))\n",
    "        f_coeff = f.mon_mult(VB[i], returnType = 'Matrix')\n",
    "        for term in zip(*np.where(f_coeff != 0)):\n",
    "            #print(term)\n",
    "            if term in VBdict:\n",
    "                mMatrix[VBdict[term]][i] += f_coeff[term]\n",
    "            else:\n",
    "                mMatrix[:,i] -= f_coeff[term]*basisDict[term]\n",
    "\n",
    "    return mMatrix, VBdict\n",
    "\n",
    "def fast_TVB(polys,max_shifts=700):\n",
    "    m_f, var_dict = TVBMultMatrix(polys,max_shifts=max_shifts)\n",
    "    \n",
    "    dim = max(f.dim for f in polys)\n",
    "    \n",
    "    # Get left eigenvectors\n",
    "\n",
    "    e = np.linalg.eig(m_f.T)\n",
    "    eig = e[1]\n",
    "    num_vectors = eig.shape[1]\n",
    "\n",
    "    eig_vectors = [eig[:,i] for i in range(num_vectors)] # columns of eig\n",
    "    roots = []\n",
    "    for v in eig_vectors:\n",
    "        #print(v)\n",
    "        if v[var_dict[tuple(0 for i in range(dim))]] == 0:\n",
    "            continue\n",
    "        root = np.zeros(dim, dtype=complex)\n",
    "        spot = np.zeros(dim)\n",
    "        # This will always work because var_indexes and root have the\n",
    "        # same length - dim - and var_indexes has the variables in the\n",
    "        # order they should be in the root\n",
    "        for i in range(dim):\n",
    "            spot[i] = 1\n",
    "            root[i] = v[var_dict[tuple(spot)]]/v[var_dict[tuple(0 for i in range(dim))]]\n",
    "            spot[i] = 0\n",
    "        roots.append(root)\n",
    "        #roots.append(newton_polish(polys,root))\n",
    "    return roots"
   ]
  },
  {
   "cell_type": "code",
   "execution_count": null,
   "metadata": {},
   "outputs": [],
   "source": [
    "deg = 3\n",
    "dim = 4\n",
    "power = True\n",
    "polys = polyList(deg,dim,power,Type=\"standard\")"
   ]
  },
  {
   "cell_type": "code",
   "execution_count": null,
   "metadata": {},
   "outputs": [],
   "source": [
    "from numalgsolve.polynomial import is_power\n",
    "is_power(polys)"
   ]
  },
  {
   "cell_type": "code",
   "execution_count": null,
   "metadata": {},
   "outputs": [],
   "source": []
  },
  {
   "cell_type": "code",
   "execution_count": null,
   "metadata": {
    "scrolled": true
   },
   "outputs": [],
   "source": [
    "%time zeros = fast_TVB(polys,max_shifts=1500)"
   ]
  },
  {
   "cell_type": "code",
   "execution_count": null,
   "metadata": {},
   "outputs": [],
   "source": [
    "tol = 1.e-5\n",
    "\n",
    "print('Fast TVB - {} out of {}'.format(np.sum([in_zeros(zeros, zero_bertini, tol=tol)\\\n",
    "                                          for zero_bertini in zeros_bertini]),len(zeros_bertini)))\n",
    "min_mag = 1000\n",
    "for zero_bertini in zeros_bertini:\n",
    "    if not in_zeros(zeros, zero_bertini, tol=tol):\n",
    "        min_mag = min(min_mag, np.max(np.abs(zero_bertini)))\n",
    "        assert(np.any(np.abs(zero_bertini) > 1))\n",
    "print(min_mag)\n",
    "\"\"\"\n",
    "print('Mult - {} out of {}'.format(np.sum([in_zeros(zeros1, zero_bertini, tol=tol)\\\n",
    "                                          for zero_bertini in zeros_bertini]),len(zeros_bertini)))\n",
    "min_mag = 1000\n",
    "for zero_bertini in zeros_bertini:\n",
    "    if not in_zeros(zeros1, zero_bertini, tol=tol):\n",
    "        min_mag = min(min_mag, np.max(np.abs(zero_bertini)))\n",
    "        assert(np.any(np.abs(zero_bertini) > 1))\n",
    "print(min_mag)\n",
    "\n",
    "print('Div - {} out of {}'.format(np.sum([in_zeros(zeros2, zero_bertini, tol=tol)\\\n",
    "                                          for zero_bertini in zeros_bertini]),len(zeros_bertini)))\n",
    "min_mag = 1000\n",
    "for zero_bertini in zeros_bertini:\n",
    "    if not in_zeros(zeros2, zero_bertini, tol=tol):\n",
    "        min_mag = min(min_mag, np.max(np.abs(zero_bertini)))\n",
    "        assert(np.any(np.abs(zero_bertini) > 1))\n",
    "print(min_mag)\n",
    "\"\"\"\n",
    "print()"
   ]
  },
  {
   "cell_type": "code",
   "execution_count": null,
   "metadata": {},
   "outputs": [],
   "source": []
  },
  {
   "cell_type": "code",
   "execution_count": null,
   "metadata": {},
   "outputs": [],
   "source": []
  },
  {
   "cell_type": "code",
   "execution_count": null,
   "metadata": {
    "scrolled": true
   },
   "outputs": [],
   "source": [
    "zeros = fast_TVB(polys)\n",
    "zeros"
   ]
  },
  {
   "cell_type": "code",
   "execution_count": null,
   "metadata": {},
   "outputs": [],
   "source": [
    "polys[0](zeros)"
   ]
  },
  {
   "cell_type": "code",
   "execution_count": null,
   "metadata": {},
   "outputs": [],
   "source": []
  },
  {
   "cell_type": "code",
   "execution_count": null,
   "metadata": {},
   "outputs": [],
   "source": [
    "deg = 3\n",
    "dim = 3\n",
    "power = True\n",
    "polys = polyList(deg,dim,power,Type=\"standard\")"
   ]
  },
  {
   "cell_type": "code",
   "execution_count": null,
   "metadata": {
    "scrolled": true
   },
   "outputs": [],
   "source": [
    "%prun N,matrix_terms, matrix_degree = fast_null(polys, max_shifts=650)"
   ]
  },
  {
   "cell_type": "code",
   "execution_count": null,
   "metadata": {},
   "outputs": [],
   "source": [
    "4090068 function calls (4087744 primitive calls) in 100.235 seconds\n",
    "\n",
    "   Ordered by: internal time\n",
    "\n",
    "   ncalls  tottime  percall  cumtime  percall filename:lineno(function)\n",
    "       10   43.003    4.300   43.074    4.307 decomp_svd.py:16(svd)\n",
    "        9   28.146    3.127   28.146    3.127 <ipython-input-527-483e3204ae65>:41(matrix_mult2)\n",
    "        9   11.060    1.229   11.060    1.229 <ipython-input-527-483e3204ae65>:38(matrix_mult1)\n",
    "        9    6.256    0.695    8.202    0.911 <ipython-input-527-483e3204ae65>:27(new_terms)\n",
    "       10    2.893    0.289    2.893    0.289 {method 'compress' of 'numpy.ndarray' objects}\n",
    "        9    2.212    0.246   99.171   11.019 <ipython-input-527-483e3204ae65>:44(null_reduce)\n",
    "       46    2.094    0.046    2.094    0.046 {built-in method numpy.core.multiarray.concatenate}\n",
    "  3659071    1.164    0.000    1.164    0.000 {method 'add' of 'set' objects}"
   ]
  },
  {
   "cell_type": "code",
   "execution_count": null,
   "metadata": {},
   "outputs": [],
   "source": []
  },
  {
   "cell_type": "code",
   "execution_count": null,
   "metadata": {},
   "outputs": [],
   "source": []
  },
  {
   "cell_type": "code",
   "execution_count": null,
   "metadata": {},
   "outputs": [],
   "source": [
    "from numalgsolve.TelenVanBarel import add_polys\n",
    "\n",
    "def test_matrix(polys, matrix_terms):\n",
    "    matrix_degree = find_degree(polys)\n",
    "    dim = polys[0].dim\n",
    "    coeff_list = []\n",
    "    for poly in polys:\n",
    "        coeff_list = add_polys(matrix_degree, poly, coeff_list)  \n",
    "    \n",
    "    bigShape = [matrix_degree+1]*dim\n",
    "\n",
    "    matrix_term_indexes = list()\n",
    "    for row in matrix_terms.T:\n",
    "        matrix_term_indexes.append(row)\n",
    "\n",
    "    #Adds the poly_coeffs to flat_polys, using added_zeros to make sure every term is in there.\n",
    "    added_zeros = np.zeros(bigShape)\n",
    "    flat_polys = list()\n",
    "    for coeff in coeff_list:\n",
    "        slices = slice_top(coeff)\n",
    "        added_zeros[slices] = coeff\n",
    "        flat_polys.append(added_zeros[matrix_term_indexes])\n",
    "        added_zeros[slices] = np.zeros_like(coeff)\n",
    "        coeff = 0\n",
    "    poly_coeffs = 0\n",
    "\n",
    "    #Make the matrix. Reshape is faster than stacking.\n",
    "    matrix = np.reshape(flat_polys, (len(flat_polys),len(matrix_terms)))\n",
    "    return matrix"
   ]
  },
  {
   "cell_type": "code",
   "execution_count": null,
   "metadata": {},
   "outputs": [],
   "source": [
    "deg = 10\n",
    "dim = 3\n",
    "power = True\n",
    "polys = polyList(deg,dim,power,Type=\"standard\")\n",
    "N,matrix_terms,deg = fast_null(polys)"
   ]
  },
  {
   "cell_type": "code",
   "execution_count": null,
   "metadata": {},
   "outputs": [],
   "source": [
    "matrix = test_matrix(polys,matrix_terms)"
   ]
  },
  {
   "cell_type": "code",
   "execution_count": null,
   "metadata": {},
   "outputs": [],
   "source": [
    "np.max(np.abs(matrix@N))"
   ]
  },
  {
   "cell_type": "code",
   "execution_count": null,
   "metadata": {},
   "outputs": [],
   "source": []
  },
  {
   "cell_type": "code",
   "execution_count": null,
   "metadata": {},
   "outputs": [],
   "source": []
  },
  {
   "cell_type": "code",
   "execution_count": null,
   "metadata": {},
   "outputs": [],
   "source": []
  },
  {
   "cell_type": "code",
   "execution_count": null,
   "metadata": {},
   "outputs": [],
   "source": []
  },
  {
   "cell_type": "code",
   "execution_count": null,
   "metadata": {},
   "outputs": [],
   "source": []
  },
  {
   "cell_type": "code",
   "execution_count": null,
   "metadata": {},
   "outputs": [],
   "source": []
  },
  {
   "cell_type": "code",
   "execution_count": null,
   "metadata": {},
   "outputs": [],
   "source": []
  },
  {
   "cell_type": "code",
   "execution_count": null,
   "metadata": {},
   "outputs": [],
   "source": [
    "#Future test case!\n",
    "a = MultiPower('x0^2+-1')\n",
    "b = MultiPower('x0^4+-1')\n",
    "c = MultiPower('x0^2+-2x0+1')\n",
    "roots([a,b,c])\n",
    "\n"
   ]
  },
  {
   "cell_type": "code",
   "execution_count": null,
   "metadata": {},
   "outputs": [],
   "source": []
  },
  {
   "cell_type": "code",
   "execution_count": null,
   "metadata": {
    "scrolled": true
   },
   "outputs": [],
   "source": []
  },
  {
   "cell_type": "code",
   "execution_count": null,
   "metadata": {},
   "outputs": [],
   "source": [
    "f = lambda x: np.sin(np.exp(x))"
   ]
  },
  {
   "cell_type": "code",
   "execution_count": null,
   "metadata": {},
   "outputs": [],
   "source": [
    "%time sbd.solve(f,-1,10)"
   ]
  },
  {
   "cell_type": "code",
   "execution_count": null,
   "metadata": {},
   "outputs": [],
   "source": [
    "import numalgsolve.OneDimension as oneD"
   ]
  },
  {
   "cell_type": "code",
   "execution_count": null,
   "metadata": {},
   "outputs": [],
   "source": []
  },
  {
   "cell_type": "code",
   "execution_count": null,
   "metadata": {},
   "outputs": [],
   "source": []
  },
  {
   "cell_type": "code",
   "execution_count": null,
   "metadata": {},
   "outputs": [],
   "source": []
  },
  {
   "cell_type": "code",
   "execution_count": null,
   "metadata": {},
   "outputs": [],
   "source": [
    "from numalgsolve import subdivision as sbd\n",
    "deg = 100\n",
    "dim = 2\n",
    "power = True\n",
    "polys = polyList(deg,dim,power)\n",
    "a = np.array([-1.]*dim)\n",
    "b = np.array([1.]*dim)\n",
    "sbd.solve(polys,a,b)\n",
    "#zeros = pr.solve(polys, method='div')\n",
    "#print(len(zeros))"
   ]
  },
  {
   "cell_type": "code",
   "execution_count": null,
   "metadata": {},
   "outputs": [],
   "source": [
    "run_trial(polys, 'mult',tol=1.e-5)"
   ]
  },
  {
   "cell_type": "code",
   "execution_count": null,
   "metadata": {},
   "outputs": [],
   "source": [
    "zeros_bertini = run_bertini(polys)\n",
    "zeros_bertini_real = zeros_bertini[np.sum(np.abs(zeros_bertini.imag) < 1.e-10,axis = 1) == dim]\n",
    "zeros_bertini_final = zeros_bertini_real[np.sum(np.abs(zeros_bertini_real) < 1,axis = 1) == dim]\n",
    "zeros_bertini_final"
   ]
  },
  {
   "cell_type": "code",
   "execution_count": null,
   "metadata": {
    "scrolled": true
   },
   "outputs": [],
   "source": [
    "%prun sbd.solve(polys,a,b)"
   ]
  },
  {
   "cell_type": "code",
   "execution_count": null,
   "metadata": {},
   "outputs": [],
   "source": []
  },
  {
   "cell_type": "code",
   "execution_count": null,
   "metadata": {},
   "outputs": [],
   "source": [
    "10719767 function calls (10624675 primitive calls) in 37.776 seconds\n",
    "\n",
    "   Ordered by: internal time\n",
    "\n",
    "   ncalls  tottime  percall  cumtime  percall filename:lineno(function)\n",
    "       52    7.391    0.142    7.488    0.144 decomp.py:119(eig)\n",
    "       52    4.631    0.089    6.946    0.134 ChebyshevDivision.py:121(get_matrix_terms)\n",
    "     1529    3.873    0.003    3.878    0.003 ChebyshevDivision.py:230(divide_row)\n",
    "    30528    3.378    0.000    3.662    0.000 polynomial.py:303(_fold_in_i_dir)\n",
    "       52    3.003    0.058    3.035    0.058 ChebyshevDivision.py:319(build_division_matrix)\n",
    "    15043    2.509    0.000    2.553    0.000 ChebyshevDivision.py:253(divide_term)\n",
    "      312    1.999    0.006    2.001    0.006 decomp_qr.py:13(safecall)\n",
    "  7045815    1.958    0.000    1.958    0.000 {method 'add' of 'set' objects}\n",
    "    33786    1.157    0.000    5.710    0.000 polynomial.py:370(_mon_mult1)\n",
    "  968/484    1.019    0.001    1.019    0.002 polynomial.py:18(polyval2)\n",
    "    31900    0.540    0.000    1.856    0.000 ChebyshevDivision.py:292(get_divisor_terms)\n",
    "   269694    0.501    0.000    0.852    0.000 shape_base.py:63(atleast_2d)\n",
    "       52    0.495    0.010    2.630    0.051 TelenVanBarel.py:422(rrqr_reduceTelenVanBarel)\n",
    "   182061    0.454    0.000    0.454    0.000 {built-in method numpy.core.multiarray.zeros}\n",
    "   325500    0.427    0.000    0.427    0.000 {built-in method numpy.core.multiarray.array}\n",
    "       52    0.392    0.008   35.728    0.687 ChebyshevDivision.py:7(division_cheb)\n",
    "    34420    0.305    0.000    0.305    0.000 {built-in method numpy.core.multiarray.where}\n",
    "    34663    0.241    0.000    0.241    0.000 {built-in method numpy.core.multiarray.concatenate}\n",
    "       52    0.231    0.004    7.566    0.145 ChebyshevDivision.py:180(create_matrix)"
   ]
  },
  {
   "cell_type": "code",
   "execution_count": null,
   "metadata": {},
   "outputs": [],
   "source": []
  },
  {
   "cell_type": "code",
   "execution_count": null,
   "metadata": {},
   "outputs": [],
   "source": [
    "Degree 1000\n",
    "134574396 function calls (132537055 primitive calls) in 6796.934 seconds\n",
    "\n",
    "   Ordered by: internal time\n",
    "\n",
    "   ncalls  tottime  percall  cumtime  percall filename:lineno(function)\n",
    "   217515 3628.009    0.017 3628.595    0.017 ChebyshevDivision.py:253(divide_term)\n",
    "19952/9976 2747.055    0.138 2747.055    0.275 polynomial.py:18(polyval2)\n",
    "     1069   83.007    0.078   84.230    0.079 decomp.py:119(eig)\n",
    "     1069   52.163    0.049   78.911    0.074 ChebyshevDivision.py:121(get_matrix_terms)\n",
    "    25558   47.354    0.002   47.441    0.002 ChebyshevDivision.py:230(divide_row)\n",
    "   462856   39.326    0.000   43.065    0.000 polynomial.py:303(_fold_in_i_dir)\n",
    "     1069   38.835    0.036   39.202    0.037 ChebyshevDivision.py:319(build_division_matrix)\n",
    " 76386744   21.917    0.000   21.917    0.000 {method 'add' of 'set' objects}\n",
    "     6414   21.744    0.003   21.784    0.003 decomp_qr.py:13(safecall)\n",
    "   519586   15.449    0.000   72.874    0.000 polynomial.py:370(_mon_mult1)"
   ]
  },
  {
   "cell_type": "code",
   "execution_count": null,
   "metadata": {},
   "outputs": [],
   "source": []
  },
  {
   "cell_type": "code",
   "execution_count": null,
   "metadata": {},
   "outputs": [],
   "source": [
    "from numalgsolve.subdivision import interval_approximate_1d\n",
    "from numpy.polynomial.chebyshev import chebval"
   ]
  },
  {
   "cell_type": "code",
   "execution_count": null,
   "metadata": {},
   "outputs": [],
   "source": [
    "extrema = np.cos((np.pi*np.arange(2*deg))/deg)\n",
    "values = f(extrema)"
   ]
  },
  {
   "cell_type": "code",
   "execution_count": null,
   "metadata": {},
   "outputs": [],
   "source": [
    "deg = 5\n",
    "values = np.array([0,0,10,10,0,0])\n",
    "values = np.hstack((values,values[1:-1][::-1]))\n",
    "coeffs = np.real(np.fft.fft(values/deg))\n",
    "coeffs[0]/=2\n",
    "coeffs[deg]/=2\n",
    "coeff = coeffs[:deg+1]"
   ]
  },
  {
   "cell_type": "code",
   "execution_count": null,
   "metadata": {},
   "outputs": [],
   "source": [
    "domain = np.linspace(-1,1,100)\n",
    "plt.plot(domain, chebval(domain, coeff))\n",
    "plt.show()"
   ]
  },
  {
   "cell_type": "code",
   "execution_count": null,
   "metadata": {},
   "outputs": [],
   "source": []
  },
  {
   "cell_type": "code",
   "execution_count": null,
   "metadata": {},
   "outputs": [],
   "source": [
    "from numalgsolve.polyroots import _random_poly\n",
    "from numalgsolve.TelenVanBarel import TelenVanBarel\n",
    "from numalgsolve.polynomial import is_power\n",
    "\n",
    "def roots(polys):\n",
    "    poly_type = is_power(polys, return_string = True)\n",
    "    dim = polys[0].dim\n",
    "\n",
    "    m_f, ones, variables = TVBMultMatrix(polys, poly_type)\n",
    "\n",
    "    # Get left eigenvectors\n",
    "    vals,vecs = np.linalg.eig(m_f.T)\n",
    "    \n",
    "    zeros = list()\n",
    "    for vec in vecs.T:\n",
    "        zero = np.zeros(dim, dtype=complex)\n",
    "        spot = np.argmax([abs(vec[ones[i]]) for i in range(dim+1)])\n",
    "        for i in range(dim):\n",
    "            zero[i] = vec[variables[i][spot]]/vec[ones[spot]]\n",
    "        zeros.append(zero)\n",
    "    return np.vstack(zeros)\n",
    "    \n",
    "    vecs = vecs[:,np.abs(vecs[zeros_spot]) > 1.e-10]\n",
    "\n",
    "    roots = vecs[var_spots]/vecs[zeros_spot]\n",
    "    return roots.T\n",
    "\n",
    "def TVBMultMatrix(polys, poly_type):\n",
    "    basisDict, VB, degree = TelenVanBarel(polys)\n",
    "        \n",
    "    dim = max(f.dim for f in polys)\n",
    "\n",
    "    # Get random polynomial f\n",
    "    f = _random_poly(poly_type, dim)[0]\n",
    "    \n",
    "    #Dictionary of terms in the vector basis their spots in the matrix.\n",
    "    VBdict = {}\n",
    "    spot = 0\n",
    "    for row in VB:\n",
    "        VBdict[tuple(row)] = spot\n",
    "        spot+=1\n",
    "\n",
    "    # Build multiplication matrix m_f\n",
    "    mMatrix = np.zeros((len(VB), len(VB)))\n",
    "    for i in range(VB.shape[0]):\n",
    "        f_coeff = f.mon_mult(VB[i], returnType = 'Matrix')\n",
    "        for term in zip(*np.where(f_coeff != 0)):\n",
    "            if term in VBdict:\n",
    "                mMatrix[VBdict[term]][i] += f_coeff[term]\n",
    "            else:\n",
    "                mMatrix[:,i] -= f_coeff[term]*basisDict[term]\n",
    "\n",
    "    # Construct var_dict\n",
    "    var_dict = {}\n",
    "    for i in range(len(VB)):\n",
    "        var_dict[tuple(VB[i])] = i\n",
    "\n",
    "    ones = list()\n",
    "    variables = list()\n",
    "    for i in range(dim):\n",
    "        variables.append(list())\n",
    "    \n",
    "    mon = np.array([0]*dim)\n",
    "    ones.append(var_dict[tuple(mon)])\n",
    "    for i in range(dim):\n",
    "        mon[i] = 1\n",
    "        variables[i].append(var_dict[tuple(mon)])\n",
    "        mon[i] = 0\n",
    "    \n",
    "    for i in range(dim):\n",
    "        mon[i] = degree-2\n",
    "        ones.append(var_dict[tuple(mon)])\n",
    "        for j in range(dim):\n",
    "            mon[j] += 1\n",
    "            variables[j].append(var_dict[tuple(mon)])\n",
    "            mon[j] -= 1\n",
    "        mon[i] = 0\n",
    "        \n",
    "    return mMatrix, ones, variables"
   ]
  },
  {
   "cell_type": "code",
   "execution_count": null,
   "metadata": {},
   "outputs": [],
   "source": [
    "deg = 50\n",
    "dim = 2\n",
    "power = True\n",
    "polys = polyList(deg,dim,power)\n",
    "\n",
    "tol = 1.e-3\n",
    "%prun zeros = roots(polys)\n",
    "#zeros_bertini = run_bertini(polys)"
   ]
  },
  {
   "cell_type": "code",
   "execution_count": null,
   "metadata": {},
   "outputs": [],
   "source": [
    "#plt.plot(zeros_bertini.real,zeros_bertini.imag,'kx')\n",
    "plt.plot(zeros.real,zeros.imag,'k.')\n",
    "plt.show()"
   ]
  },
  {
   "cell_type": "code",
   "execution_count": null,
   "metadata": {},
   "outputs": [],
   "source": [
    "np.max(np.abs(np.sort(np.abs(zeros_bertini), axis = 0) - np.sort(np.abs(zeros), axis = 0)))"
   ]
  },
  {
   "cell_type": "code",
   "execution_count": null,
   "metadata": {},
   "outputs": [],
   "source": []
  },
  {
   "cell_type": "code",
   "execution_count": null,
   "metadata": {},
   "outputs": [],
   "source": [
    "from scipy.stats import mode"
   ]
  },
  {
   "cell_type": "code",
   "execution_count": null,
   "metadata": {},
   "outputs": [],
   "source": [
    "def test(n):\n",
    "    a,b = mode(np.random.randint(1,7,n))\n",
    "    num = a[0]\n",
    "    n -= b[0]\n",
    "    rolls = 1\n",
    "    while n > 0:\n",
    "        n -= np.sum(np.random.randint(1,7,n) == num)\n",
    "        rolls += 1\n",
    "    return rolls\n",
    "\n",
    "def long_test(n, trials = 100):\n",
    "    s = 0\n",
    "    for i in range(trials):\n",
    "        s += test(n)\n",
    "    return s/trials"
   ]
  },
  {
   "cell_type": "code",
   "execution_count": null,
   "metadata": {},
   "outputs": [],
   "source": [
    "domain = np.arange(1,1000)\n",
    "results = np.zeros_like(domain)\n",
    "for i in range(len(domain)):\n",
    "    results[i] = long_test(domain[i])\n",
    "plt.plot(domain, results)\n",
    "plt.show()"
   ]
  },
  {
   "cell_type": "code",
   "execution_count": null,
   "metadata": {},
   "outputs": [],
   "source": [
    "long_test(3,trials=10000)"
   ]
  },
  {
   "cell_type": "code",
   "execution_count": null,
   "metadata": {},
   "outputs": [],
   "source": []
  },
  {
   "cell_type": "code",
   "execution_count": null,
   "metadata": {},
   "outputs": [],
   "source": []
  },
  {
   "cell_type": "code",
   "execution_count": null,
   "metadata": {},
   "outputs": [],
   "source": []
  },
  {
   "cell_type": "code",
   "execution_count": null,
   "metadata": {},
   "outputs": [],
   "source": []
  },
  {
   "cell_type": "code",
   "execution_count": null,
   "metadata": {},
   "outputs": [],
   "source": [
    "A = np.array([[0, 2], [-2, 12]])\n",
    "vals, vecs = np.linalg.eig(A)"
   ]
  },
  {
   "cell_type": "code",
   "execution_count": null,
   "metadata": {},
   "outputs": [],
   "source": [
    "vals"
   ]
  },
  {
   "cell_type": "code",
   "execution_count": null,
   "metadata": {},
   "outputs": [],
   "source": [
    "vecs"
   ]
  },
  {
   "cell_type": "code",
   "execution_count": null,
   "metadata": {},
   "outputs": [],
   "source": []
  }
 ],
 "metadata": {
  "kernelspec": {
   "display_name": "Python 3",
   "language": "python",
   "name": "python3"
  },
  "language_info": {
   "codemirror_mode": {
    "name": "ipython",
    "version": 3
   },
   "file_extension": ".py",
   "mimetype": "text/x-python",
   "name": "python",
   "nbconvert_exporter": "python",
   "pygments_lexer": "ipython3",
   "version": "3.6.6"
  }
 },
 "nbformat": 4,
 "nbformat_minor": 2
}
