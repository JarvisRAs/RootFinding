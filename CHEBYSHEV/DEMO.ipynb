{
 "cells": [
  {
   "cell_type": "markdown",
   "metadata": {},
   "source": [
    "# Using Telen VanBarel construction to solve for roots."
   ]
  },
  {
   "cell_type": "code",
   "execution_count": 1,
   "metadata": {},
   "outputs": [],
   "source": [
    "#Local imports\n",
    "from TVB_Method.cheb_class import MultiCheb, polyList\n",
    "from TVB_Method.root_finder import roots\n",
    "import TVB_Method.cheb_utils as U\n",
    "\n",
    "#python imports\n",
    "from matplotlib import pyplot as plt\n",
    "import numpy as np\n",
    "from scipy.io import loadmat\n",
    "\n",
    "# Auto-reload packages\n",
    "%load_ext autoreload\n",
    "%autoreload 2"
   ]
  },
  {
   "cell_type": "code",
   "execution_count": 2,
   "metadata": {
    "slideshow": {
     "slide_type": "slide"
    }
   },
   "outputs": [
    {
     "name": "stdout",
     "output_type": "stream",
     "text": [
      "Wall time: 680 ms\n",
      "386 ZEROS ARE CORRECT OUT OF 400\n",
      "12 of them were out of range\n"
     ]
    }
   ],
   "source": [
    "# Use this cell to test the root finder.\n",
    "# Enter the desired dim and degree.\n",
    "deg = 20\n",
    "dim = 2\n",
    "# Creates the polynomials for root finding.\n",
    "polys = polyList(deg,dim, 'random')\n",
    "\n",
    "%time zeros = roots(polys, method = 'TVB')\n",
    "\n",
    "U.check_zeros(zeros,polys)"
   ]
  },
  {
   "cell_type": "markdown",
   "metadata": {},
   "source": [
    "## Compare TVB to Bezout\n",
    "### Run with TVB in Python and Bezout in Matlab\n",
    "### Run with 8 gb of RAM and an i7 processor"
   ]
  },
  {
   "cell_type": "code",
   "execution_count": 3,
   "metadata": {
    "collapsed": true
   },
   "outputs": [],
   "source": [
    "domain = np.array([n for n in range(2,51)])\n",
    "mat = loadmat(\"bezout-outer-times.mat\")\n",
    "Bezout_times = mat[\"times\"][0]\n",
    "TVB_times = np.load(\"tvb_times.npy\")"
   ]
  },
  {
   "cell_type": "code",
   "execution_count": 4,
   "metadata": {},
   "outputs": [
    {
     "data": {
      "image/png": "[encoded data removed]",
      "text/plain": [
       "<matplotlib.figure.Figure at 0x279f21ad278>"
      ]
     },
     "metadata": {},
     "output_type": "display_data"
    }
   ],
   "source": [
    "plt.plot(domain, TVB_times, 'b-', label=\"TVB\")\n",
    "plt.plot(domain, np.array(Bezout_times), 'g-', label=\"Bezout\")\n",
    "plt.legend(loc=\"upper left\")\n",
    "plt.xlabel(\"degree\")\n",
    "plt.ylabel(\"run time\")\n",
    "\n",
    "plt.show()"
   ]
  }
 ],
 "metadata": {
  "kernelspec": {
   "display_name": "Python 3",
   "language": "python",
   "name": "python3"
  },
  "language_info": {
   "codemirror_mode": {
    "name": "ipython",
    "version": 3
   },
   "file_extension": ".py",
   "mimetype": "text/x-python",
   "name": "python",
   "nbconvert_exporter": "python",
   "pygments_lexer": "ipython3",
   "version": "3.6.0"
  }
 },
 "nbformat": 4,
 "nbformat_minor": 2
}
