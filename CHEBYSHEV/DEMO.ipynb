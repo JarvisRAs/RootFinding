{
 "cells": [
  {
   "cell_type": "markdown",
   "metadata": {},
   "source": [
    "# Using Telen VanBarel construction to solve for roots."
   ]
  },
  {
   "cell_type": "code",
   "execution_count": 1,
   "metadata": {
    "collapsed": true
   },
   "outputs": [],
   "source": [
    "#Local imports\n",
    "from TVB_Method.cheb_class import MultiCheb, polyList\n",
    "from TVB_Method.root_finder import roots\n",
    "import TVB_Method.cheb_utils as U\n",
    "\n",
    "# Auto-reload packages\n",
    "%load_ext autoreload\n",
    "%autoreload 2"
   ]
  },
  {
   "cell_type": "code",
   "execution_count": 2,
   "metadata": {
    "collapsed": false,
    "slideshow": {
     "slide_type": "slide"
    }
   },
   "outputs": [
    {
     "name": "stdout",
     "output_type": "stream",
     "text": [
      " 400 ZEROS ARE CORRECT OUT OF 400\n",
      "0 of them were about of range\n"
     ]
    }
   ],
   "source": [
    "# Use this cell to test the root finder.\n",
    "# Enter the desired dim and degree.\n",
    "deg = 20\n",
    "dim = 2\n",
    "# Creates the polynomials for root finding.\n",
    "polys = polyList(deg,dim, 'random')\n",
    "\n",
    "%prun zeros = roots(polys, method = 'TVB')\n",
    "\n",
    "U.check_zeros(zeros,polys)"
   ]
  },
  {
   "cell_type": "code",
   "execution_count": null,
   "metadata": {
    "collapsed": true
   },
   "outputs": [],
   "source": []
  }
 ],
 "metadata": {
  "kernelspec": {
   "display_name": "Python 3",
   "language": "python",
   "name": "python3"
  },
  "language_info": {
   "codemirror_mode": {
    "name": "ipython",
    "version": 3
   },
   "file_extension": ".py",
   "mimetype": "text/x-python",
   "name": "python",
   "nbconvert_exporter": "python",
   "pygments_lexer": "ipython3",
   "version": "3.6.0"
  }
 },
 "nbformat": 4,
 "nbformat_minor": 2
}
