{
 "cells": [
  {
   "cell_type": "markdown",
   "metadata": {},
   "source": [
    "# Using Telen VanBarel construction to solve for roots."
   ]
  },
  {
   "cell_type": "code",
   "execution_count": 2,
   "metadata": {
    "collapsed": false
   },
   "outputs": [
    {
     "ename": "ModuleNotFoundError",
     "evalue": "No module named 'CHEBYSHEV'",
     "output_type": "error",
     "traceback": [
      "\u001b[0;31m---------------------------------------------------------------------------\u001b[0m",
      "\u001b[0;31mModuleNotFoundError\u001b[0m                       Traceback (most recent call last)",
      "\u001b[0;32m<ipython-input-2-305455bc4de2>\u001b[0m in \u001b[0;36m<module>\u001b[0;34m()\u001b[0m\n\u001b[1;32m      1\u001b[0m \u001b[1;31m#Local imports\u001b[0m\u001b[1;33m\u001b[0m\u001b[1;33m\u001b[0m\u001b[0m\n\u001b[1;32m      2\u001b[0m \u001b[1;32mfrom\u001b[0m \u001b[0mTVB_Method\u001b[0m\u001b[1;33m.\u001b[0m\u001b[0mcheb_class\u001b[0m \u001b[1;32mimport\u001b[0m \u001b[0mMultiCheb\u001b[0m\u001b[1;33m,\u001b[0m \u001b[0mpolyList\u001b[0m\u001b[1;33m\u001b[0m\u001b[0m\n\u001b[0;32m----> 3\u001b[0;31m \u001b[1;32mfrom\u001b[0m \u001b[0mTVB_Method\u001b[0m\u001b[1;33m.\u001b[0m\u001b[0mroot_finder\u001b[0m \u001b[1;32mimport\u001b[0m \u001b[0mroots\u001b[0m\u001b[1;33m\u001b[0m\u001b[0m\n\u001b[0m\u001b[1;32m      4\u001b[0m \u001b[1;32mimport\u001b[0m \u001b[0mTVB_Method\u001b[0m\u001b[1;33m.\u001b[0m\u001b[0mcheb_utils\u001b[0m \u001b[1;32mas\u001b[0m \u001b[0mU\u001b[0m\u001b[1;33m\u001b[0m\u001b[0m\n\u001b[1;32m      5\u001b[0m \u001b[1;33m\u001b[0m\u001b[0m\n",
      "\u001b[0;32mC:\\Users\\orang\\Desktop\\RootFinding\\CHEBYSHEV\\TVB_Method\\root_finder.py\u001b[0m in \u001b[0;36m<module>\u001b[0;34m()\u001b[0m\n\u001b[1;32m      3\u001b[0m \u001b[1;32mimport\u001b[0m \u001b[0mwarnings\u001b[0m\u001b[1;33m\u001b[0m\u001b[0m\n\u001b[1;32m      4\u001b[0m \u001b[1;32mfrom\u001b[0m \u001b[0mTVB_Method\u001b[0m\u001b[1;33m.\u001b[0m\u001b[0mcheb_class\u001b[0m \u001b[1;32mimport\u001b[0m \u001b[0mMultiCheb\u001b[0m\u001b[1;33m\u001b[0m\u001b[0m\n\u001b[0;32m----> 5\u001b[0;31m \u001b[1;32mfrom\u001b[0m \u001b[0mTVB_Method\u001b[0m\u001b[1;33m.\u001b[0m\u001b[0mTVB\u001b[0m \u001b[1;32mimport\u001b[0m \u001b[0mTelenVanBarel\u001b[0m\u001b[1;33m\u001b[0m\u001b[0m\n\u001b[0m\u001b[1;32m      6\u001b[0m \u001b[1;32mfrom\u001b[0m \u001b[0mTVB_Method\u001b[0m\u001b[1;33m.\u001b[0m\u001b[0mcheb_utils\u001b[0m \u001b[1;32mimport\u001b[0m \u001b[0mTerm\u001b[0m\u001b[1;33m,\u001b[0m \u001b[0mget_var_list\u001b[0m\u001b[1;33m,\u001b[0m \u001b[0mdivides\u001b[0m\u001b[1;33m,\u001b[0m \u001b[0mTVBError\u001b[0m\u001b[1;33m,\u001b[0m \u001b[0mInstabilityWarning\u001b[0m\u001b[1;33m,\u001b[0m \u001b[0mmatch_size\u001b[0m\u001b[1;33m,\u001b[0m \u001b[0mmatch_poly_dimensions\u001b[0m\u001b[1;33m\u001b[0m\u001b[0m\n\u001b[1;32m      7\u001b[0m \u001b[1;33m\u001b[0m\u001b[0m\n",
      "\u001b[0;32mC:\\Users\\orang\\Desktop\\RootFinding\\CHEBYSHEV\\TVB_Method\\TVB.py\u001b[0m in \u001b[0;36m<module>\u001b[0;34m()\u001b[0m\n\u001b[1;32m      2\u001b[0m \u001b[1;32mimport\u001b[0m \u001b[0mitertools\u001b[0m\u001b[1;33m\u001b[0m\u001b[0m\n\u001b[1;32m      3\u001b[0m \u001b[1;32mfrom\u001b[0m \u001b[0mscipy\u001b[0m\u001b[1;33m.\u001b[0m\u001b[0mlinalg\u001b[0m \u001b[1;32mimport\u001b[0m \u001b[0mqr\u001b[0m\u001b[1;33m,\u001b[0m \u001b[0msolve_triangular\u001b[0m\u001b[1;33m,\u001b[0m \u001b[0mqr_multiply\u001b[0m\u001b[1;33m\u001b[0m\u001b[0m\n\u001b[0;32m----> 4\u001b[0;31m \u001b[1;32mfrom\u001b[0m \u001b[0mCHEBYSHEV\u001b[0m\u001b[1;33m.\u001b[0m\u001b[0mcheb_class\u001b[0m \u001b[1;32mimport\u001b[0m \u001b[0mPolynomial\u001b[0m\u001b[1;33m,\u001b[0m \u001b[0mMultiCheb\u001b[0m\u001b[1;33m\u001b[0m\u001b[0m\n\u001b[0m\u001b[1;32m      5\u001b[0m \u001b[1;32mfrom\u001b[0m \u001b[0mCHEBYSHEV\u001b[0m\u001b[1;33m.\u001b[0m\u001b[0mcheb_utils\u001b[0m \u001b[1;32mimport\u001b[0m \u001b[0mrow_swap_matrix\u001b[0m\u001b[1;33m,\u001b[0m \u001b[0mclean_zeros_from_matrix\u001b[0m\u001b[1;33m,\u001b[0m \u001b[0mTVBError\u001b[0m\u001b[1;33m,\u001b[0m\u001b[0;31m \u001b[0m\u001b[0;31m\\\u001b[0m\u001b[1;33m\u001b[0m\u001b[0m\n\u001b[1;32m      6\u001b[0m                             \u001b[0mslice_top\u001b[0m\u001b[1;33m,\u001b[0m \u001b[0mget_var_list\u001b[0m\u001b[1;33m,\u001b[0m \u001b[0mmon_combos\u001b[0m\u001b[1;33m,\u001b[0m \u001b[0mmon_combosHighest\u001b[0m\u001b[1;33m,\u001b[0m \u001b[0minverse_P\u001b[0m\u001b[1;33m,\u001b[0m\u001b[0;31m \u001b[0m\u001b[0;31m\\\u001b[0m\u001b[1;33m\u001b[0m\u001b[0m\n",
      "\u001b[0;31mModuleNotFoundError\u001b[0m: No module named 'CHEBYSHEV'"
     ]
    }
   ],
   "source": [
    "#Local imports\n",
    "from TVB_Method.cheb_class import MultiCheb, polyList\n",
    "from TVB_Method.root_finder import roots\n",
    "import TVB_Method.cheb_utils as U\n",
    "\n",
    "# Auto-reload packages\n",
    "%load_ext autoreload\n",
    "%autoreload 2"
   ]
  },
  {
   "cell_type": "code",
   "execution_count": 2,
   "metadata": {
    "collapsed": false,
    "slideshow": {
     "slide_type": "slide"
    }
   },
   "outputs": [
    {
     "name": "stdout",
     "output_type": "stream",
     "text": [
      " 842 ZEROS ARE CORRECT OUT OF 900\n",
      "26 of them were about of range\n"
     ]
    }
   ],
   "source": [
    "# Use this cell to test the root finder.\n",
    "# Enter the desired dim and degree.\n",
    "deg = 30\n",
    "dim = 2\n",
    "# Creates the polynomials for root finding.\n",
    "polys = polyList(deg,dim, 'random')\n",
    "\n",
    "%prun zeros = roots(polys, method = 'TVB')\n",
    "\n",
    "U.check_zeros(zeros,polys)"
   ]
  }
 ],
 "metadata": {
  "kernelspec": {
   "display_name": "Python 3",
   "language": "python",
   "name": "python3"
  },
  "language_info": {
   "codemirror_mode": {
    "name": "ipython",
    "version": 3
   },
   "file_extension": ".py",
   "mimetype": "text/x-python",
   "name": "python",
   "nbconvert_exporter": "python",
   "pygments_lexer": "ipython3",
   "version": "3.6.0"
  }
 },
 "nbformat": 4,
 "nbformat_minor": 2
}
