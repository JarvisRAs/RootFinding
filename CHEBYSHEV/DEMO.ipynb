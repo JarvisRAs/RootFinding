{
 "cells": [
  {
   "cell_type": "markdown",
   "metadata": {},
   "source": [
    "# Using Telen VanBarel construction to solve for roots."
   ]
  },
  {
   "cell_type": "code",
   "execution_count": 1,
   "metadata": {
    "collapsed": true
   },
   "outputs": [],
   "source": [
    "#Local imports\n",
    "import TVB_Method.root_finder as rf\n",
    "import TVB_Method.cheb_class as Cheb\n",
    "\n",
    "#python imports\n",
    "from matplotlib import pyplot as plt\n",
    "import numpy as np\n",
    "from scipy.io import loadmat\n"
   ]
  },
  {
   "cell_type": "code",
   "execution_count": 2,
   "metadata": {
    "slideshow": {
     "slide_type": "slide"
    }
   },
   "outputs": [
    {
     "name": "stdout",
     "output_type": "stream",
     "text": [
      "CPU times: user 2.02 s, sys: 148 ms, total: 2.17 s\n",
      "Wall time: 1.48 s\n",
      "274 zeros are correct to 1e-08, out of 343 total zeros.\n",
      "69 are bad, but 69 of these were not real or out of range (expected to be bad).\n",
      "0 might be lost\n",
      "0 seem to be lost after newton polishing\n",
      "Differences between the 'bad' inrange zeros and the polished ones are []\n"
     ]
    }
   ],
   "source": [
    "# Enter the desired dim and degree.\n",
    "deg = 7\n",
    "dim = 3 # number of polys should equal degree so that the zero locus is \n",
    "        # discrete. (with probability 1)\n",
    "\n",
    "# Create random Chebyshev polys of the desired the degree and dim.\n",
    "polys = Cheb.polyList(deg,dim, 'random')\n",
    "\n",
    "#find the roots\n",
    "%time zeros = rf.roots(polys)\n",
    "\n",
    "rf.check_zeros(zeros,polys,tol=1e-8)"
   ]
  },
  {
   "cell_type": "code",
   "execution_count": 5,
   "metadata": {},
   "outputs": [
    {
     "name": "stdout",
     "output_type": "stream",
     "text": [
      "CPU times: user 31.5 s, sys: 1.27 s, total: 32.7 s\n",
      "Wall time: 18.7 s\n",
      "632 zeros are correct to 1e-08, out of 1000 total zeros.\n",
      "368 are bad, but 368 of these were not real or out of range (expected to be bad).\n",
      "0 might be lost\n",
      "0 seem to be lost after newton polishing\n",
      "Differences between the 'bad' inrange zeros and the polished ones are []\n"
     ]
    }
   ],
   "source": [
    "# Enter the desired dim and degree.\n",
    "deg = 10\n",
    "dim = 3 # number of polys should equal degree so that the zero locus is \n",
    "        # discrete. (with probability 1)\n",
    "\n",
    "# Create random Chebyshev polys of the desired the degree and dim.\n",
    "polys = Cheb.polyList(deg,dim, 'random')\n",
    "\n",
    "#find the roots\n",
    "%time zeros = rf.roots(polys)\n",
    "\n",
    "rf.check_zeros(zeros,polys,tol=1e-8)"
   ]
  },
  {
   "cell_type": "code",
   "execution_count": 6,
   "metadata": {},
   "outputs": [
    {
     "name": "stdout",
     "output_type": "stream",
     "text": [
      "CPU times: user 4.16 s, sys: 133 ms, total: 4.3 s\n",
      "Wall time: 2.54 s\n",
      "674 zeros are correct to 1e-08, out of 900 total zeros.\n",
      "226 are bad, but 222 of these were not real or out of range (expected to be bad).\n",
      "4 might be lost\n",
      "0 seem to be lost after newton polishing\n",
      "Differences between the 'bad' inrange zeros and the polished ones are [array([ -1.91709870e-10+0.j,   4.23776014e-11+0.j]), array([ -3.06412451e-10-0.j,   6.77340406e-11-0.j]), array([  3.84121623e-11-0.j,  -8.48132675e-12-0.j]), array([ -1.00108810e-11+0.j,   2.21944685e-12+0.j])]\n"
     ]
    }
   ],
   "source": [
    "# Use this cell to test the root finder.\n",
    "# Enter the desired dim and degree.\n",
    "deg = 30\n",
    "dim = 2 # number of polys should equal degree so that the zero locus is \n",
    "        # discrete. (with probability 1)\n",
    "\n",
    "# Create random Chebyshev polys of the desired the degree and dim.\n",
    "polys = Cheb.polyList(deg,dim, 'random')\n",
    "\n",
    "#find the roots\n",
    "%time zeros = rf.roots(polys)\n",
    "\n",
    "rf.check_zeros(zeros,polys,tol=1e-8)"
   ]
  },
  {
   "cell_type": "markdown",
   "metadata": {},
   "source": [
    "## Compare TVB to Bezout in dim 2\n",
    "### Run with TVB in Python and Bezout in Matlab\n",
    "### Run with 8 gb of RAM and an i7 processor"
   ]
  },
  {
   "cell_type": "code",
   "execution_count": 7,
   "metadata": {
    "collapsed": true
   },
   "outputs": [],
   "source": [
    "domain = np.array([n for n in range(2,51)])\n",
    "mat = loadmat(\"bezout-outer-times.mat\")\n",
    "Bezout_times = mat[\"times\"][0]\n",
    "TVB_times = np.load(\"tvb_times.npy\")"
   ]
  },
  {
   "cell_type": "code",
   "execution_count": 8,
   "metadata": {},
   "outputs": [
    {
     "data": {
      "image/png": "[encoded data removed]",
      "text/plain": [
       "<matplotlib.figure.Figure at 0x10ff03860>"
      ]
     },
     "metadata": {},
     "output_type": "display_data"
    }
   ],
   "source": [
    "plt.plot(domain, TVB_times, 'b-', label=\"TVB\")\n",
    "plt.plot(domain, np.array(Bezout_times), 'g-', label=\"Bezout\")\n",
    "plt.legend(loc=\"upper left\")\n",
    "plt.xlabel(\"degree\")\n",
    "plt.ylabel(\"run time\")\n",
    "\n",
    "plt.show()\n",
    "#plt.savefig('TvB-vs-Bezout2d.pdf')"
   ]
  },
  {
   "cell_type": "code",
   "execution_count": null,
   "metadata": {
    "collapsed": true
   },
   "outputs": [],
   "source": []
  }
 ],
 "metadata": {
  "kernelspec": {
   "display_name": "Python 3",
   "language": "python",
   "name": "python3"
  },
  "language_info": {
   "codemirror_mode": {
    "name": "ipython",
    "version": 3
   },
   "file_extension": ".py",
   "mimetype": "text/x-python",
   "name": "python",
   "nbconvert_exporter": "python",
   "pygments_lexer": "ipython3",
   "version": "3.6.3"
  }
 },
 "nbformat": 4,
 "nbformat_minor": 2
}
