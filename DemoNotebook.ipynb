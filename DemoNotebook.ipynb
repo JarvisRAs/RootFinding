{
 "cells": [
  {
   "cell_type": "markdown",
   "metadata": {},
   "source": [
    "<h1 align=\"center\">YRoots</h1>\n",
    "\n",
    "YRoots is a numerical rootfinding package which can be used to solve multivariate systems of nonlinear equations. While other rootfinding packages exist, YRoots is unique in that it finds all the roots in a compact interval.\n",
    "\n",
    "Download YRoots from github to begin using the package.\n",
    "\n",
    "  ```git\n",
    "      git clone https://github.com/tylerjarvis/RootFinding/tree/master   \n",
    "  ```\n",
    "  \n",
    "We demonstrate here how to use YRoots."
   ]
  },
  {
   "cell_type": "code",
   "execution_count": 43,
   "metadata": {},
   "outputs": [
    {
     "name": "stdout",
     "output_type": "stream",
     "text": [
      "The autoreload extension is already loaded. To reload it, use:\n",
      "  %reload_ext autoreload\n"
     ]
    }
   ],
   "source": [
    "#Imports\n",
    "#TODO MAKE THE IMPORT NAME NICER-- goal: import yroots as yr\n",
    "#YRoots Solver\n",
    "from yroots import subdivision as yr\n",
    "\n",
    "#plotting tools\n",
    "import numpy as np\n",
    "from matplotlib import pyplot as plt\n",
    "%matplotlib inline\n",
    "from mpl_toolkits.mplot3d import Axes3D\n",
    "from scipy.optimize import broyden1, root\n",
    "\n",
    "#autoreload\n",
    "%load_ext autoreload\n",
    "%autoreload 2\n",
    "\n",
    "import warnings\n",
    "warnings.filterwarnings('ignore')"
   ]
  },
  {
   "cell_type": "markdown",
   "metadata": {},
   "source": [
    "## Multivariate Functions\n",
    "\n",
    "To find the commmon zeros of a set of multivariate functions, input a list of functions and a search interval. The syntax for this is:\n",
    "\n",
    "```python\n",
    "yr.solve(funcs, a, b)\n",
    "```\n",
    "\n",
    "where `funcs` is a list of $n$ **vectorized** functions in $n$ variables and `a` and `b` are array-like objects of upper and lower bounds (respectively) of the search domain in each dimension. For univariate and bivariate systems, the optional parameter `plot` allows the user to graph the zero-loci and roots of the functions.\n",
    "\n",
    "YRoots returns an numpy array where each row is a root."
   ]
  },
  {
   "cell_type": "markdown",
   "metadata": {},
   "source": [
    "### Two variables\n",
    "Here is an example of YRoots solving the relatively simple bivariate system of equations\n",
    "\n",
    "$$0 = \\sin(xy) + x\\log(y+3) - x^2 + \\frac{1}{y-4}$$\n",
    "$$6 = \\cos(3xy) + e^{\\frac{3y}{x-2}} - x.$$\n",
    "\n",
    "Solutions of the systems subject to the constrains $-1\\leq x\\leq0,-2\\leq y\\leq1$ are roots of the functions\n",
    "\n",
    "$$f(x,y) = \\sin(xy) + x\\log(y+3) - x^2 + \\frac{1}{y-4} $$\n",
    "$$g(x,y) = \\cos(3xy) + e^{\\frac{3y}{x-2}} - x - 6$$ on the search domain $[-1,0]\\times[-2,1]$."
   ]
  },
  {
   "cell_type": "code",
   "execution_count": 70,
   "metadata": {
    "scrolled": false
   },
   "outputs": [
    {
     "data": {
      "text/plain": [
       "<Figure size 7200x4800 with 0 Axes>"
      ]
     },
     "metadata": {},
     "output_type": "display_data"
    },
    {
     "data": {
      "image/png": "[encoded data removed]",
      "text/plain": [
       "<Figure size 720x720 with 1 Axes>"
      ]
     },
     "metadata": {
      "needs_background": "light"
     },
     "output_type": "display_data"
    },
    {
     "name": "stdout",
     "output_type": "stream",
     "text": [
      "CPU times: user 785 ms, sys: 71.8 ms, total: 857 ms\n",
      "Wall time: 489 ms\n"
     ]
    },
    {
     "data": {
      "text/plain": [
       "(2, array([[-0.41003227, -1.40471665],\n",
       "        [-0.73720253, -1.65461644]]))"
      ]
     },
     "execution_count": 70,
     "metadata": {},
     "output_type": "execute_result"
    }
   ],
   "source": [
    "#define the functions and the search domain\n",
    "f = lambda x,y : np.sin(x*y) + x*np.log(y+3) - x**2 + 1/(y-4)\n",
    "g = lambda x,y : np.cos(3*x*y) + np.exp(3*y/(x-2)) - x - 6\n",
    "h = lambda x,y : (x-0.41003227)*(y-0.73720253)\n",
    "a = np.array([-1,-2]) #lower bounds on x and y\n",
    "b = np.array([0,1]) #upper bounds on x and y\n",
    "\n",
    "#solve and time\n",
    "%time roots = yr.solve([f,g], a, b, plot=True)\n",
    "\n",
    "#report the number and location of the roots.\n",
    "roots.shape[0],roots"
   ]
  },
  {
   "cell_type": "markdown",
   "metadata": {},
   "source": [
    "This system is solved in under a second and finds all the roots in the region.\n",
    "\n",
    "Here is a more complicated bivariate system with many more roots. It runs in under two minutes on the region $[-5,5]\\times[-5,5]$.\n",
    "\n",
    "$$f(x,y) = \\sin(20x+y)$$\n",
    "$$g(x,y) = \\cos(x^2+xy)-\\frac{1}{4}$$\n",
    "\n",
    "Notice that YRoots correctly avoids points that are nearly roots but are not roots."
   ]
  },
  {
   "cell_type": "code",
   "execution_count": null,
   "metadata": {
    "scrolled": true
   },
   "outputs": [
    {
     "name": "stdout",
     "output_type": "stream",
     "text": [
      "Interval -  [4.90295008 4.9688407 ] [4.93589539 5.        ]\n",
      "Interval -  [3.85159412 4.8003374 ] [3.93170889 4.86811639]\n",
      "Interval -  [4.0832522 4.4417948] [4.15491619 4.51756646]\n",
      "Interval -  [3.93170889 4.37401581] [4.00748055 4.4417948 ]\n",
      "Interval -  [4.30235183 3.1139578 ] [4.4417948  3.26139344]\n",
      "Interval -  [4.15491619 3.18972946] [4.23068784 3.26139344]\n",
      "Interval -  [3.56471551 4.93589539] [3.64048716 5.        ]\n",
      "Interval -  [3.56471551 4.4417948 ] [3.85159412 4.72867342]\n",
      "Interval -  [3.34150821 4.72867342] [3.41727987 4.8003374 ]\n",
      "Interval -  [3.64048716 4.37401581] [3.71215115 4.4417948 ]\n",
      "Interval -  [3.03818615 4.8003374 ] [3.1139578  4.86811639]\n",
      "Interval -  [3.03818615 4.23068784] [3.1139578  4.30235183]\n",
      "Interval -  [3.64048716 3.49305152] [3.71215115 3.56471551]\n",
      "Interval -  [3.41727987 2.95807137] [3.49305152 3.03818615]\n",
      "Interval -  [2.95807137 3.78381513] [3.03818615 3.85159412]\n",
      "Interval -  [4.8003374  1.42313256] [4.86811639 1.5078394 ]\n",
      "Interval -  [4.48073616 1.42313256] [4.51756646 1.46666598]\n",
      "Interval -  [4.15491619 2.04716266] [4.4417948  2.35048473]\n",
      "Interval -  [4.0832522  2.31565104] [4.1200825  2.35048473]\n",
      "Interval -  [4.8003374  0.96392407] [4.86811639 1.04403884]\n",
      "Interval -  [4.8003374  0.64321604] [4.86811639 0.72333081]\n",
      "Interval -  [4.8003374  0.39827966] [4.86811639 0.47839444]\n",
      "Interval -  [3.71215115 2.04716266] [3.78381513 2.12727743]\n",
      "Interval -  [3.49305152 2.49792037] [3.56471551 2.56958435]\n",
      "Interval -  [3.71215115 1.82395537] [3.78381513 1.89972702]\n",
      "Interval -  [3.56471551 1.66806894] [3.64048716 1.7438406 ]\n",
      "Interval -  [3.41727987 1.58795417] [3.56471551 1.7438406 ]\n",
      "Interval -  [2.95807137 2.12727743] [3.03818615 2.20304909]\n",
      "Interval -  [2.63736334 2.04716266] [2.72207017 2.12727743]\n",
      "Interval -  [3.64048716 1.27569693] [3.71215115 1.35146858]\n",
      "Interval -  [3.71215115 0.64321604] [3.78381513 0.72333081]\n",
      "Interval -  [3.56471551 0.27239942] [3.60365686 0.31357283]\n",
      "Interval -  [3.34150821 0.31357283] [3.41727987 0.39827966]\n",
      "Interval -  [3.26139344 0.1393039 ] [3.41727987 0.31357283]\n",
      "Interval -  [2.72207017 1.35146858] [2.80218495 1.42313256]\n",
      "Interval -  [2.92124108 0.8838093 ] [2.95807137 0.92498271]\n",
      "Interval -  [2.63736334 0.96392407] [2.80218495 1.1198105 ]\n",
      "Interval -  [2.72207017 1.04403884] [2.80218495 1.1198105 ]\n",
      "Interval -  [2.56958435 4.66089442] [2.63736334 4.72867342]\n",
      "Interval -  [2.20304909 4.86811639] [2.35048473 5.        ]\n",
      "Interval -  [2.20304909 4.00748055] [2.27882075 4.0832522 ]\n",
      "Interval -  [1.42313256 4.58923044] [1.5078394  4.66089442]\n",
      "Interval -  [1.89972702 4.23068784] [1.97549868 4.30235183]\n",
      "Interval -  [1.86289673 4.04642191] [1.89972702 4.0832522 ]\n",
      "Interval -  [1.42313256 3.85159412] [1.5078394  3.93170889]\n",
      "Interval -  [2.42625638 3.34150821] [2.49792037 3.41727987]\n",
      "Interval -  [2.42625638 3.1139578 ] [2.49792037 3.18972946]\n",
      "Interval -  [2.49792037 2.72207017] [2.56958435 2.80218495]\n",
      "Interval -  [2.27882075 2.95807137] [2.35048473 3.03818615]\n",
      "Interval -  [2.27882075 2.63736334] [2.35048473 2.72207017]\n",
      "Interval -  [1.66806894 3.56471551] [1.7438406  3.64048716]\n",
      "Interval -  [1.58795417 3.34150821] [1.66806894 3.41727987]\n",
      "Interval -  [1.7438406  2.88229972] [1.82395537 2.95807137]\n",
      "Interval -  [1.58795417 3.1139578 ] [1.7438406  3.26139344]\n",
      "Interval -  [0.8838093  4.93589539] [0.96392407 5.        ]\n",
      "Interval -  [1.04403884 4.58923044] [1.1198105  4.66089442]\n",
      "Interval -  [0.47839444 4.0832522 ] [0.56310127 4.15491619]\n",
      "Interval -  [0.1393039 4.0832522] [0.228866   4.15491619]\n",
      "Interval -  [1.04403884 3.26139344] [1.1198105  3.34150821]\n",
      "Interval -  [0.79910247 3.26139344] [0.96392407 3.41727987]\n",
      "Interval -  [1.35146858 2.63736334] [1.42313256 2.72207017]\n",
      "Interval -  [0.47839444 3.26139344] [0.56310127 3.34150821]\n",
      "Interval -  [2.35048473 2.04716266] [2.49792037 2.20304909]\n",
      "Interval -  [2.04716266 2.20304909] [2.20304909 2.35048473]\n",
      "Interval -  [1.82395537 2.56958435] [1.89972702 2.63736334]\n",
      "Interval -  [1.7438406 1.7438406] [2.04716266 2.04716266]\n",
      "Interval -  [1.89972702 1.5078394 ] [1.97549868 1.58795417]\n",
      "Interval -  [1.42313256 0.1393039 ] [2.63736334 1.42313256]\n",
      "Interval -  [2.35048473 0.47839444] [2.63736334 0.79910247]\n",
      "Interval -  [0.96392407 2.35048473] [1.1198105  2.49792037]\n",
      "Interval -  [1.27569693 1.5078394 ] [1.35146858 1.58795417]\n",
      "Interval -  [0.228866   2.04716266] [0.31357283 2.12727743]\n",
      "Interval -  [0.79910247 0.79910247] [1.1198105 1.1198105]\n",
      "Interval -  [1.35146858 0.64321604] [1.42313256 0.72333081]\n",
      "Interval -  [1.27569693 0.39827966] [1.35146858 0.47839444]\n",
      "Interval -  [1.27569693 0.228866  ] [1.35146858 0.31357283]\n",
      "Interval -  [1.19992527 0.39827966] [1.27569693 0.47839444]\n",
      "Interval -  [ 4.8003374 -1.4540206] [ 4.86811639 -1.37824894]\n",
      "Interval -  [ 4.26751814 -1.10976056] [ 4.30235183 -1.07492688]\n",
      "Interval -  [ 4.30235183 -1.93495818] [ 4.37401581 -1.8548434 ]\n",
      "Interval -  [ 3.49305152 -1.53413537] [ 3.56471551 -1.4540206 ]\n",
      "Interval -  [ 3.78381513 -2.09977978] [ 3.85159412 -2.01966501]\n",
      "Interval -  [ 3.49305152 -2.09977978] [ 3.56471551 -2.01966501]\n",
      "Interval -  [ 2.63736334 -2.35875554] [ 2.72207017 -2.26919344]\n",
      "Interval -  [ 4.30235183 -2.81796404] [ 4.37401581 -2.73784926]\n",
      "Interval -  [ 4.00748055 -2.66207761] [ 4.15491619 -2.50619118]\n",
      "Interval -  [ 3.85159412 -2.73784926] [ 3.93170889 -2.66207761]\n",
      "Interval -  [ 4.37401581 -3.64258421] [ 4.4417948  -3.55302211]\n",
      "Interval -  [ 4.00748055 -3.30349367] [ 4.15491619 -3.13867207]\n",
      "Interval -  [ 3.93170889 -4.46720437] [ 4.00748055 -4.38249754]\n",
      "Interval -  [ 3.41727987 -3.46831527] [ 3.56471551 -3.30349367]\n",
      "Interval -  [ 2.95807137 -2.73784926] [ 3.03818615 -2.66207761]\n",
      "Interval -  [ 2.68089676 -3.21878684] [ 2.72207017 -3.17761342]\n",
      "Interval -  [ 3.26139344 -4.64147331] [ 3.56471551 -4.30238277]\n",
      "Interval -  [ 3.26139344 -4.64147331] [ 3.41727987 -4.46720437]\n",
      "Interval -  [ 2.63736334 -4.90530434] [ 2.72207017 -4.81574224]\n",
      "Interval -  [ 2.20304909 -0.29501035] [ 2.27882075 -0.2192387 ]\n",
      "Interval -  [ 2.35048473 -1.53413537] [ 2.49792037 -1.37824894]\n",
      "Interval -  [ 2.20304909 -1.69895698] [ 2.27882075 -1.61425014]\n",
      "Interval -  [ 1.58795417 -1.69895698] [ 1.66806894 -1.61425014]\n",
      "Interval -  [ 1.89972702 -2.35875554] [ 1.97549868 -2.26919344]\n",
      "Interval -  [ 9.63924071e-01 -1.39075451e-04] [1.04403884 0.07152491]\n",
      "Interval -  [ 0.8838093  -0.07180306] [ 9.63924071e-01 -1.39075451e-04]\n",
      "Interval -  [ 0.96392407 -0.29501035] [ 1.1198105  -0.14757471]\n",
      "Interval -  [ 0.79910247 -0.67410407] [ 0.8838093  -0.59833242]\n",
      "Interval -  [ 0.56310127 -0.45089678] [ 0.64321604 -0.37078201]\n",
      "Interval -  [ 0.1393039  -0.45089678] [ 0.47839444 -0.14757471]\n",
      "Interval -  [ 0.39827966 -0.45089678] [ 0.47839444 -0.37078201]\n",
      "Interval -  [ 1.27569693 -1.37824894] [ 1.42313256 -1.22236252]\n",
      "Interval -  [ 1.1198105  -1.14659086] [ 1.19992527 -1.07492688]\n",
      "Interval -  [ 0.96392407 -1.22236252] [ 1.1198105  -1.07492688]\n",
      "Interval -  [ 0.79910247 -1.37824894] [ 0.8838093  -1.29813417]\n",
      "Interval -  [ 0.47839444 -1.8548434 ] [ 0.56310127 -1.77472863]\n",
      "Interval -  [ 0.56310127 -2.18448661] [ 0.64321604 -2.09977978]\n",
      "Interval -  [ 1.42313256 -2.98278564] [ 1.5078394  -2.89807881]\n",
      "Interval -  [ 1.7438406  -3.38360844] [ 1.82395537 -3.30349367]\n",
      "Interval -  [ 1.5078394  -3.13867207] [ 1.58795417 -3.05855729]\n",
      "Interval -  [ 2.04716266 -3.87858541] [ 2.12727743 -3.79847063]\n",
      "Interval -  [ 1.89972702 -5.        ] [ 1.97549868 -4.90530434]\n",
      "Interval -  [ 1.42313256 -4.64147331] [ 1.5078394  -4.55191121]\n",
      "Interval -  [ 0.27239942 -4.90530434] [ 0.31357283 -4.85927565]\n",
      "Interval -  [-0.45089678  4.58923044] [-0.29501035  4.72867342]\n",
      "Interval -  [-0.91010527  4.4417948 ] [-0.75421885  4.58923044]\n",
      "Interval -  [-0.59833242  4.00748055] [-0.52256076  4.0832522 ]\n",
      "Interval -  [-1.39075451e-04  3.49305152e+00] [0.07152491 3.56471551]\n",
      "Interval -  [-0.29501035  3.41727987] [-0.14757471  3.56471551]\n",
      "Interval -  [-1.39075451e-04  2.95807137e+00] [0.07152491 3.03818615]\n",
      "Interval -  [-0.67410407  3.49305152] [-0.59833242  3.56471551]\n",
      "Interval -  [-0.52256076  3.1139578 ] [-0.45089678  3.18972946]\n",
      "Interval -  [-0.52256076  3.03818615] [-0.45089678  3.1139578 ]\n",
      "Interval -  [-0.75421885  2.80218495] [-0.59833242  2.95807137]\n",
      "Interval -  [-1.65542356  4.66089442] [-1.61425014  4.69572811]\n",
      "Interval -  [-1.22236252  4.23068784] [-1.14659086  4.30235183]\n"
     ]
    },
    {
     "name": "stdout",
     "output_type": "stream",
     "text": [
      "Interval -  [-2.26919344  4.93589539] [-2.18448661  5.        ]\n",
      "Interval -  [-2.35875554  4.51756646] [-2.26919344  4.58923044]\n",
      "Interval -  [-2.01966501  4.15491619] [-1.8548434   4.30235183]\n",
      "Interval -  [-1.69895698  3.56471551] [-1.37824894  3.85159412]\n",
      "Interval -  [-1.29813417  3.18972946] [-1.22236252  3.26139344]\n",
      "Interval -  [-1.53413537  2.95807137] [-1.37824894  3.1139578 ]\n",
      "Interval -  [-1.69895698  3.1139578 ] [-1.61425014  3.18972946]\n",
      "Interval -  [-0.45089678  2.56958435] [-0.37078201  2.63736334]\n",
      "Interval -  [-0.45089678  1.7438406 ] [-0.37078201  1.82395537]\n",
      "Interval -  [-0.75421885  2.35048473] [-0.59833242  2.49792037]\n",
      "Interval -  [-1.07492688  2.56958435] [-0.99022005  2.63736334]\n",
      "Interval -  [-1.07492688  1.82395537] [-0.99022005  1.89972702]\n",
      "Interval -  [-0.29501035  0.64321604] [-0.2192387   0.72333081]\n",
      "Interval -  [-1.07492688  1.19992527] [-0.99022005  1.27569693]\n",
      "Interval -  [-1.07492688  0.228866  ] [-0.99022005  0.31357283]\n",
      "Interval -  [-1.57307673  2.38942608] [-1.53413537  2.42625638]\n",
      "Interval -  [-1.8548434   2.20304909] [-1.69895698  2.35048473]\n",
      "Interval -  [-1.77472863  2.20304909] [-1.69895698  2.27882075]\n",
      "Interval -  [-2.18448661  1.7438406 ] [-2.01966501  1.89972702]\n",
      "Interval -  [-1.22236252  1.35146858] [-1.14659086  1.42313256]\n",
      "Interval -  [-1.53413537  1.27569693] [-1.37824894  1.42313256]\n",
      "Interval -  [-1.53413537  1.27569693] [-1.4540206   1.35146858]\n",
      "Interval -  [-1.61425014  0.96392407] [-1.53413537  1.04403884]\n",
      "Interval -  [-1.29813417  0.18533259] [-1.25919281  0.228866  ]\n",
      "Interval -  [-2.18448661  0.79910247] [-2.01966501  0.96392407]\n",
      "Interval -  [-1.93495818  0.56310127] [-1.8548434   0.64321604]\n"
     ]
    }
   ],
   "source": [
    "#define functions and search domain\n",
    "f = lambda x,y : np.sin(20*x+y)\n",
    "g = lambda x,y : np.cos(x**2+x*y)-.25\n",
    "a = np.array([-5,-5])\n",
    "b = np.array([5,5])\n",
    "\n",
    "#solve and time\n",
    "%time zeros = yr.solve([f,g], a, b, plot=True)\n",
    "zeros.shape[0],zeros\n",
    "\n",
    "#TODO: i don't think printing out intervals is the right way to go, but it'd be nice to have some sort of progress bar\n",
    "#colors: use alpha = .5, dark green, black, orange roots. Change colors of check info plots\n",
    "#3D plot with small alpha, matplotlib interactive, animation\n",
    "#make logo\n",
    "#make easier to input lower/upper bounds as a list"
   ]
  },
  {
   "cell_type": "markdown",
   "metadata": {},
   "source": [
    "## Using YRoots for optimization problems\n",
    "\n",
    "YRoots can also be used for optimization problems, since the common roots of the partial derivatives of a function are critical points. For example, Nick Trefethen's Hundred-dollar, Hundred-digit Challenge problems include finding the minimum of the function \n",
    "\n",
    "$$f(x,y) = e^{\\sin(50x)} + \\sin(60e^y) + \\sin(70 \\sin (x))+\\sin(\\sin(80y)) - \\sin(10(x+y)) + 1/4(x^2 + y^2).$$\n",
    "\n",
    "(Problem 4, [here](https://en.wikipedia.org/wiki/Hundred-dollar,_Hundred-digit_Challenge_problems)) YRoots #TODO is good at this..."
   ]
  },
  {
   "cell_type": "code",
   "execution_count": null,
   "metadata": {},
   "outputs": [],
   "source": [
    "#define function\n",
    "f = lambda x,y : np.exp(np.sin(50*x)) + np.sin(60*np.exp(y)) + np.sin(70*np.sin(x)) + np.sin(np.sin(80*y)) \\\n",
    "                - np.sin(10*(x+y)) + .25 * (x**2 + y**2)\n",
    "\n",
    "#partial derivatives\n",
    "fx = lambda x,y : 50*np.cos(50*x)*np.exp(np.sin(50*x)) + 70*np.cos(x)*np.cos(70*np.sin(x)) - 10*np.cos(10*(x+y)) + .5 * x\n",
    "fy = lambda x,y : 60*np.exp(y)*np.cos(60*np.exp(y)) + 80*np.sin(80*y)*np.cos(np.sin(80*y)) - 10*np.cos(10*(x+y)) + .5 * y\n",
    "\n",
    "#find common roots\n",
    "low = -np.pi*np.ones(2)\n",
    "upp = np.pi*np.ones(2)\n",
    "yr.solve([fx,fy],low,upp,plot=True,plot_intervals=True)\n",
    "#evaluate at critical points\n",
    "#report mimima and minimizers"
   ]
  },
  {
   "cell_type": "markdown",
   "metadata": {},
   "source": [
    "YRoots can solve systems in higher dimensions as well. Moving forward, our goal is to increase rootfinding feasibility for high dimensional systems.\n",
    "\n",
    "Here are examples of YRoots running on systems in three, four, and five variables."
   ]
  },
  {
   "cell_type": "markdown",
   "metadata": {},
   "source": [
    "### Three variables, Domain $[-1,1]\\times[-1,1]\\times[-1,1]$\n",
    "$$ f(x,y,z) = sin(5x+y+z)$$\n",
    "$$ g(x,y,z) = sin(xyz)$$\n",
    "$$ h(x,y,z) = x+y^2-z$$\n"
   ]
  },
  {
   "cell_type": "code",
   "execution_count": null,
   "metadata": {},
   "outputs": [],
   "source": [
    "#define the functions and the search domain\n",
    "f = lambda x,y,z : np.sin(5*x+y+z)\n",
    "g = lambda x,y,z : np.sin(x*y*z)\n",
    "h = lambda x,y,z : x**2\n",
    "a = -np.ones(3)\n",
    "b = np.ones(3)\n",
    "\n",
    "#solve and time\n",
    "%time zeros = yr.solve([f,g,h], a, b, plot=True)\n",
    "zeros.shape[0],zeros, f(*zeros[0]), g(*zeros[0]), h(*zeros[0])"
   ]
  },
  {
   "cell_type": "markdown",
   "metadata": {},
   "source": [
    "### Four variables\n",
    "$$ f(w,x,y,z) = sin(x+y+z)$$\n",
    "$$ g(w,x,y,z) = sin(xyz)$$\n",
    "$$ h(w,x,y,z) = x+y^2-z$$\n",
    "$$ j(w,x,y,z) = $$"
   ]
  },
  {
   "cell_type": "code",
   "execution_count": null,
   "metadata": {},
   "outputs": [],
   "source": [
    "#define the functions and the search domain\n",
    "f = lambda w,x,y,z : np.sin(x+y+z)\n",
    "g = lambda w,x,y,z : np.sin(x*y*z)\n",
    "h = lambda w,x,y,z : x+y**2-z\n",
    "h = lambda w,x,y,z : x+y**2-z\n",
    "a = -np.ones(5)\n",
    "b = np.ones(5)\n",
    "\n",
    "#solve and time\n",
    "%time zeros = yr.solve([f,g,h], a, b, plot=True)\n",
    "zeros.shape[0],zeros, f(*zeros), g(*zeros), h(*zeros)"
   ]
  },
  {
   "cell_type": "markdown",
   "metadata": {},
   "source": [
    "### Five variables\n",
    "$$ f(w,x,y,z) = sin(x+y+z)$$\n",
    "$$ g(w,x,y,z) = sin(xyz)$$\n",
    "$$ h(w,x,y,z) = x+y^2-z$$\n",
    "$$ j(w,x,y,z) = $$"
   ]
  },
  {
   "cell_type": "code",
   "execution_count": null,
   "metadata": {},
   "outputs": [],
   "source": [
    "#define the functions and the search domain\n",
    "f = lambda w,x,y,z : np.sin(x+y+z)\n",
    "g = lambda w,x,y,z : np.sin(x*y*z)\n",
    "h = lambda w,x,y,z : x+y**2-z\n",
    "h = lambda w,x,y,z : x+y**2-z\n",
    "a = -np.ones(5)\n",
    "b = np.ones(5)\n",
    "\n",
    "#solve and time\n",
    "%time zeros = yr.solve([f,g,h], a, b, plot=True)\n",
    "zeros.shape[0],zeros, f(*zeros), g(*zeros), h(*zeros)"
   ]
  },
  {
   "cell_type": "markdown",
   "metadata": {},
   "source": [
    "### Applied Example\n",
    "\n",
    "This -variate system was taken from ___, a paper on ___. YRoots solves the system in about __ seconds."
   ]
  },
  {
   "cell_type": "code",
   "execution_count": null,
   "metadata": {},
   "outputs": [],
   "source": [
    "# parameters\n",
    "nx, ny = 75, 75\n",
    "hx, hy = 1./(nx-1), 1./(ny-1)\n",
    "\n",
    "P_left, P_right = 0, 0\n",
    "P_top, P_bottom = 1, 0\n",
    "\n",
    "def residual(P):\n",
    "    d2x = np.zeros_like(P)\n",
    "    d2y = np.zeros_like(P)\n",
    "\n",
    "    d2x[1:-1] = (P[2:]   - 2*P[1:-1] + P[:-2]) / hx/hx\n",
    "    d2x[0]    = (P[1]    - 2*P[0]    + P_left)/hx/hx\n",
    "    d2x[-1]   = (P_right - 2*P[-1]   + P[-2])/hx/hx\n",
    "\n",
    "    d2y[:,1:-1] = (P[:,2:] - 2*P[:,1:-1] + P[:,:-2])/hy/hy\n",
    "    d2y[:,0]    = (P[:,1]  - 2*P[:,0]    + P_bottom)/hy/hy\n",
    "    d2y[:,-1]   = (P_top   - 2*P[:,-1]   + P[:,-2])/hy/hy\n",
    "\n",
    "    return d2x + d2y - 10*np.cosh(P).mean()**2\n",
    "\n",
    "# solve\n",
    "guess = np.zeros((nx, ny), float)\n",
    "sol = root(residual, guess, method='krylov', options={'disp': True})\n",
    "print(sol, '\\nTheir Residual: %g' % abs(residual(sol.x)).max())\n",
    "sol = yr.solve(residual,-1,1)\n",
    "print(sol, '\\nOur Residual: %g' % abs(residual(sol)).max())\n",
    "\n",
    "# visualize\n",
    "import matplotlib.pyplot as plt\n",
    "x, y = mgrid[0:1:(nx*1j), 0:1:(ny*1j)]\n",
    "plt.pcolor(x, y, sol)\n",
    "plt.colorbar()\n",
    "plt.show()"
   ]
  },
  {
   "cell_type": "markdown",
   "metadata": {},
   "source": [
    "### Univariate Functions\n",
    "\n",
    "The `yr.solve` method can also be used to quickly find the roots of a univariate function. In this case, `a` and `b` can simply be entered as floats, and the `funcs` does not need to be a list.\n",
    "\n",
    "As an example, we find the zeros of $f(x) = \\sin(e^{3x})$."
   ]
  },
  {
   "cell_type": "code",
   "execution_count": 65,
   "metadata": {},
   "outputs": [
    {
     "data": {
      "image/png": "[encoded data removed]",
      "text/plain": [
       "<Figure size 432x288 with 1 Axes>"
      ]
     },
     "metadata": {
      "needs_background": "light"
     },
     "output_type": "display_data"
    },
    {
     "name": "stdout",
     "output_type": "stream",
     "text": [
      "CPU times: user 281 ms, sys: 27.8 ms, total: 309 ms\n",
      "Wall time: 164 ms\n"
     ]
    },
    {
     "data": {
      "text/plain": [
       "(128, array([0.38157704+0.j, 1.23655975+0.j, 1.20987885+0.j, 1.18087505+0.j,\n",
       "        1.14910499+0.j, 1.11398482+0.j, 1.07472381+0.j, 1.03021334+0.j,\n",
       "        0.97882979+0.j, 0.91805593+0.j, 0.84367475+0.j, 0.74778072+0.j,\n",
       "        0.61262569+0.j, 1.61943397+0.j, 1.61120303+0.j, 1.60276382+0.j,\n",
       "        1.5941052 +0.j, 1.58521634+0.j, 1.57608286+0.j, 1.56669214+0.j,\n",
       "        1.55703   +0.j, 1.54707961+0.j, 1.53682249+0.j, 1.52623911+0.j,\n",
       "        1.51530862+0.j, 1.50400801+0.j, 1.49231139+0.j, 1.48018937+0.j,\n",
       "        1.4676092 +0.j, 1.45453503+0.j, 1.44092752+0.j, 1.42674156+0.j,\n",
       "        1.41192432+0.j, 1.39641715+0.j, 1.38015427+0.j, 1.36305611+0.j,\n",
       "        1.34503406+0.j, 1.32598107+0.j, 1.30577283+0.j, 1.2842601 +0.j,\n",
       "        1.26126242+0.j, 1.81172983+0.j, 1.80713196+0.j, 1.80246968+0.j,\n",
       "        1.797742  +0.j, 1.79294511+0.j, 1.78807926+0.j, 1.78314132+0.j,\n",
       "        1.77812816+0.j, 1.77303845+0.j, 1.76787054+0.j, 1.76262171+0.j,\n",
       "        1.75728877+0.j, 1.7518686 +0.j, 1.74635836+0.j, 1.74075538+0.j,\n",
       "        1.73505689+0.j, 1.72925981+0.j, 1.72336052+0.j, 1.71735489+0.j,\n",
       "        1.71123854+0.j, 1.70500727+0.j, 1.69865738+0.j, 1.69218497+0.j,\n",
       "        1.68558467+0.j, 1.67885011+0.j, 1.67197668+0.j, 1.66495943+0.j,\n",
       "        1.6577902 +0.j, 1.6504643 +0.j, 1.64297325+0.j, 1.63531009+0.j,\n",
       "        1.62746654+0.j, 1.90648029+0.j, 1.90302603+0.j, 1.90989912+0.j,\n",
       "        1.89953559+0.j, 1.91328325+0.j, 1.89600822+0.j, 1.91663336+0.j,\n",
       "        1.91995013+0.j, 1.89244313+0.j, 1.92323423+0.j, 1.88883949+0.j,\n",
       "        1.92648629+0.j, 1.88519646+0.j, 1.92970693+0.j, 1.88151319+0.j,\n",
       "        1.93289675+0.j, 1.87778875+0.j, 1.93605633+0.j, 1.87402223+0.j,\n",
       "        1.93918624+0.j, 1.87021267+0.j, 1.94228704+0.j, 1.94535926+0.j,\n",
       "        1.86635906+0.j, 1.94840342+0.j, 1.86246038+0.j, 1.95142003+0.j,\n",
       "        1.85851556+0.j, 1.95440959+0.j, 1.95737257+0.j, 1.8545235 +0.j,\n",
       "        1.96030944+0.j, 1.85048304+0.j, 1.96322067+0.j, 1.96610669+0.j,\n",
       "        1.84639301+0.j, 1.96896794+0.j, 1.84225217+0.j, 1.97180484+0.j,\n",
       "        1.83805925+0.j, 1.97461779+0.j, 1.97740721+0.j, 1.8338129 +0.j,\n",
       "        1.98017348+0.j, 1.98291698+0.j, 1.82951177+0.j, 1.98563808+0.j,\n",
       "        1.82515441+0.j, 1.98833715+0.j, 1.99101454+0.j, 1.82073933+0.j,\n",
       "        1.9936706 +0.j, 1.81626499+0.j, 1.99630566+0.j, 1.99892005+0.j]))"
      ]
     },
     "execution_count": 65,
     "metadata": {},
     "output_type": "execute_result"
    }
   ],
   "source": [
    "#define the function and search interval\n",
    "f = lambda x : np.sin(np.exp(3*x))\n",
    "\n",
    "a = -1\n",
    "b = 2\n",
    "\n",
    "#solve and time\n",
    "%time zeros = yr.solve(f, a, b, plot=True)\n",
    "zeros.size, zeros"
   ]
  },
  {
   "cell_type": "markdown",
   "metadata": {},
   "source": [
    "## Polynomials\n",
    "\n",
    "When a function in a system is a multivariate polynomial, it may be useful to pass it in as a YRoots's `Polynomial` object, since `Polynomial`s have a special `evaluate_grid` method which allows for faster Chebyshev-approximations. \n",
    "\n",
    "If the system only includes polynomials, it may be preferable to use alternative methods which do not rely on Chebyshev approximations, depending on the degree and dimension of the system. We demonstrate how to create Polynomial objects and how to access methods specific to solving polynomial systems. These methods may be faster than `yr.solve` for lower degree polynomial systems."
   ]
  },
  {
   "cell_type": "code",
   "execution_count": null,
   "metadata": {},
   "outputs": [],
   "source": [
    "#import tools specific to polynomial functions\n",
    "from numalgsolve.polynomial import MultiPower, MultiCheb\n",
    "from numalgsolve import polyroots as pr"
   ]
  },
  {
   "cell_type": "markdown",
   "metadata": {},
   "source": [
    "The two types of `Polynomial` objects are `MultiPower` and `MultiCheb`, corresponding to polynomials in the power basis and Chebyshev basis. \n",
    "Polynomials in $n$-dimensions are represented by an $n$-dimensional tensor of coefficients, where the $(i,j,k)$ spot in the coefficient tensor corresponds to the coefficient of $x^iy^jz^k$ in the power basis or $T_i(x)T_j(y)T_k(z)$ in the Chebyshev basis.\n",
    "\n",
    "For example, $f(x,y) = 5x^3 + 4 xy^2 + 3x^2 + 2y^2 + 1$ would be initialized as \n",
    "```python\n",
    "f = MultiPower(np.array([[1, 0, 2],\n",
    "                         [0, 0, 4],\n",
    "                         [3, 0, 0],\n",
    "                         [5, 0, 0]]))```"
   ]
  },
  {
   "cell_type": "markdown",
   "metadata": {},
   "source": [
    "Polynomials can also be initialized from a string representation, but that's kinda complicated."
   ]
  },
  {
   "cell_type": "code",
   "execution_count": null,
   "metadata": {},
   "outputs": [],
   "source": [
    "string rep"
   ]
  },
  {
   "cell_type": "markdown",
   "metadata": {},
   "source": [
    "The function `pr.solve` has many options for polynomial rootfinding, but the default parameters are the most robust. The syntax is similar to `yr.solve`."
   ]
  },
  {
   "cell_type": "code",
   "execution_count": null,
   "metadata": {},
   "outputs": [],
   "source": [
    "#TODO CHANGE PR SYNTAX\n",
    "pr.solve"
   ]
  },
  {
   "cell_type": "code",
   "execution_count": null,
   "metadata": {},
   "outputs": [],
   "source": []
  }
 ],
 "metadata": {
  "kernelspec": {
   "display_name": "Python 3",
   "language": "python",
   "name": "python3"
  },
  "language_info": {
   "codemirror_mode": {
    "name": "ipython",
    "version": 3
   },
   "file_extension": ".py",
   "mimetype": "text/x-python",
   "name": "python",
   "nbconvert_exporter": "python",
   "pygments_lexer": "ipython3",
   "version": "3.6.6"
  },
  "varInspector": {
   "cols": {
    "lenName": 16,
    "lenType": 16,
    "lenVar": 40
   },
   "kernels_config": {
    "python": {
     "delete_cmd_postfix": "",
     "delete_cmd_prefix": "del ",
     "library": "var_list.py",
     "varRefreshCmd": "print(var_dic_list())"
    },
    "r": {
     "delete_cmd_postfix": ") ",
     "delete_cmd_prefix": "rm(",
     "library": "var_list.r",
     "varRefreshCmd": "cat(var_dic_list()) "
    }
   },
   "types_to_exclude": [
    "module",
    "function",
    "builtin_function_or_method",
    "instance",
    "_Feature"
   ],
   "window_display": false
  }
 },
 "nbformat": 4,
 "nbformat_minor": 2
}
